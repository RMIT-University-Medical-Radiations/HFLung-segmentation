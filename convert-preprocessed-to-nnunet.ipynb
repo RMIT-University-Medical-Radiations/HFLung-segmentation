{
 "cells": [
  {
   "cell_type": "code",
   "execution_count": 21,
   "id": "cf58158c-590f-4fcb-825b-d1ba225217fc",
   "metadata": {},
   "outputs": [],
   "source": [
    "import os\n",
    "import nibabel as nib\n",
    "import numpy as np\n",
    "import shutil\n",
    "import glob\n",
    "from nnunetv2.dataset_conversion.generate_dataset_json import generate_dataset_json"
   ]
  },
  {
   "cell_type": "code",
   "execution_count": 15,
   "id": "09a957b1-7b63-4e26-8cdb-af68db374888",
   "metadata": {},
   "outputs": [],
   "source": [
    "nnUNet_raw='/home/daryl/datasets/RNSH_HFlung/nnU-Net-processing/nnUNet_raw'\n",
    "data_dir = '/home/daryl/datasets/RNSH_HFlung/training-set'\n",
    "task_id = 138\n",
    "task_name = \"RNSH_HFlung\"\n",
    "\n",
    "foldername = 'Dataset{:03d}_{}'.format(task_id, task_name)\n",
    "\n",
    "# setting up nnU-Net folders\n",
    "out_base_dir = '{}/{}'.format(nnUNet_raw, foldername)\n",
    "image_dir = '{}/{}'.format(out_base_dir, \"imagesTr\")\n",
    "label_dir = '{}/{}'.format(out_base_dir, \"labelsTr\")\n",
    "\n",
    "if not os.path.exists(image_dir):\n",
    "    os.makedirs(image_dir)\n",
    "if not os.path.exists(label_dir):\n",
    "    os.makedirs(label_dir)\n",
    "\n",
    "path = '{}/Patient*.npy'.format(data_dir)\n",
    "file_l = sorted(glob.glob(path))"
   ]
  },
  {
   "cell_type": "code",
   "execution_count": 16,
   "id": "3f4d7dca-72bb-4625-924e-9e41e16333f7",
   "metadata": {},
   "outputs": [
    {
     "data": {
      "text/plain": [
       "'Dataset138_RNSH_HFlung'"
      ]
     },
     "execution_count": 16,
     "metadata": {},
     "output_type": "execute_result"
    }
   ],
   "source": [
    "foldername"
   ]
  },
  {
   "cell_type": "code",
   "execution_count": 17,
   "id": "611b7794-263f-4595-b33b-f61e1d6a8be5",
   "metadata": {},
   "outputs": [
    {
     "data": {
      "text/plain": [
       "'/home/daryl/datasets/RNSH_HFlung/nnU-Net-processing/nnUNet_raw/Dataset138_RNSH_HFlung'"
      ]
     },
     "execution_count": 17,
     "metadata": {},
     "output_type": "execute_result"
    }
   ],
   "source": [
    "out_base_dir"
   ]
  },
  {
   "cell_type": "code",
   "execution_count": 18,
   "id": "1245148a-5cb5-43aa-8209-340c6a867bc6",
   "metadata": {},
   "outputs": [
    {
     "data": {
      "text/plain": [
       "'/home/daryl/datasets/RNSH_HFlung/nnU-Net-processing/nnUNet_raw/Dataset138_RNSH_HFlung/imagesTr'"
      ]
     },
     "execution_count": 18,
     "metadata": {},
     "output_type": "execute_result"
    }
   ],
   "source": [
    "image_dir"
   ]
  },
  {
   "cell_type": "code",
   "execution_count": 19,
   "id": "a59f1594-f6f8-4fbf-9091-36a3a9d12309",
   "metadata": {},
   "outputs": [],
   "source": [
    "for c,f in enumerate(file_l):\n",
    "    # split the patient file contents into channels\n",
    "    patient_arr = np.load(f)\n",
    "    \n",
    "    exh_img = nib.Nifti1Image(patient_arr[0], np.eye(4))  # identity matrix for transform\n",
    "    inh_img = nib.Nifti1Image(patient_arr[1], np.eye(4))\n",
    "    label_img = nib.Nifti1Image(patient_arr[3], np.eye(4))\n",
    "    \n",
    "    case_id_str = '{}_{:04d}'.format(task_name, c)\n",
    "    \n",
    "    # 2-channel inputs\n",
    "    exh_img.to_filename('{}/{}_{:04d}.nii.gz'.format(image_dir, case_id_str, 0))  # channel 0\n",
    "    inh_img.to_filename('{}/{}_{:04d}.nii.gz'.format(image_dir, case_id_str, 1))  # channel 1\n",
    "    \n",
    "    # 1-channel labels\n",
    "    label_img.to_filename('{}/{}.nii.gz'.format(label_dir, case_id_str))"
   ]
  },
  {
   "cell_type": "code",
   "execution_count": 22,
   "id": "04626613-f1e7-46e3-8418-58613e72833f",
   "metadata": {},
   "outputs": [],
   "source": [
    "generate_dataset_json(out_base_dir,\n",
    "                      channel_names={0: 'exh_ct', 1: 'inh_ct'},\n",
    "                      labels={\n",
    "                          'background': 0,\n",
    "                          'high function': 1,\n",
    "                          'medium function': 2,\n",
    "                          'low function': 3\n",
    "                      },\n",
    "                      num_training_cases=len(file_l),\n",
    "                      file_ending='.nii.gz',\n",
    "                      regions_class_order=(1, 2, 3),\n",
    "                      license='',\n",
    "                      reference='',\n",
    "                      dataset_release='1.0')"
   ]
  },
  {
   "cell_type": "code",
   "execution_count": null,
   "id": "da13e84e-bf45-4fe0-b973-5eaeaebe42e9",
   "metadata": {},
   "outputs": [],
   "source": []
  }
 ],
 "metadata": {
  "kernelspec": {
   "display_name": "Python 3 (ipykernel)",
   "language": "python",
   "name": "python3"
  },
  "language_info": {
   "codemirror_mode": {
    "name": "ipython",
    "version": 3
   },
   "file_extension": ".py",
   "mimetype": "text/x-python",
   "name": "python",
   "nbconvert_exporter": "python",
   "pygments_lexer": "ipython3",
   "version": "3.10.13"
  }
 },
 "nbformat": 4,
 "nbformat_minor": 5
}
