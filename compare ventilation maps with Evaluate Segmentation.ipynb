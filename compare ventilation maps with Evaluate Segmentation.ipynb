{
 "cells": [
  {
   "cell_type": "code",
   "execution_count": 1,
   "metadata": {},
   "outputs": [],
   "source": [
    "import os\n",
    "import sys\n",
    "import numpy as np\n",
    "import matplotlib\n",
    "import matplotlib.pyplot as plt\n",
    "import SimpleITK as sitk\n",
    "import skimage\n",
    "from os.path import expanduser\n",
    "import glob\n",
    "from matplotlib.ticker import MaxNLocator\n",
    "from scipy.stats import spearmanr\n",
    "import seg_metrics.seg_metrics as sg\n",
    "import pickle\n",
    "import matplotlib.patches as mpatches\n",
    "from skimage import exposure\n",
    "from scipy import ndimage\n",
    "import nibabel as nib"
   ]
  },
  {
   "cell_type": "code",
   "execution_count": 2,
   "metadata": {},
   "outputs": [
    {
     "name": "stdout",
     "output_type": "stream",
     "text": [
      "Python version: 3.10.13 (main, Sep 11 2023, 13:44:35) [GCC 11.2.0]\n",
      "Numpy version: 1.26.2\n",
      "Matplotlib version: 3.8.2\n",
      "SITK version: 2.3.1\n",
      "Scikit-image version: 0.22.0\n"
     ]
    }
   ],
   "source": [
    "print(\"Python version:\", sys.version)\n",
    "print(\"Numpy version:\", np.__version__)\n",
    "print(\"Matplotlib version:\", matplotlib.__version__)\n",
    "print(\"SITK version:\", sitk.__version__)\n",
    "print(\"Scikit-image version:\", skimage.__version__)"
   ]
  },
  {
   "cell_type": "code",
   "execution_count": 3,
   "metadata": {},
   "outputs": [],
   "source": [
    "patient_id = 20"
   ]
  },
  {
   "cell_type": "code",
   "execution_count": 4,
   "metadata": {},
   "outputs": [],
   "source": [
    "PREPROCESSED_BASE_DIR = '/mnt/data/datasets/RNSH_HFlung/pre-processed-plastimatch'\n",
    "PREPROCESSED_MHA_DIR = '{}/mha/Patient{:02d}'.format(PREPROCESSED_BASE_DIR, patient_id)\n",
    "PREPROCESSED_STACK_DIR = '{}/stack'.format(PREPROCESSED_BASE_DIR)"
   ]
  },
  {
   "cell_type": "markdown",
   "metadata": {},
   "source": [
    "#### load the Jacobian determinant and calculate the CTVI-Jac"
   ]
  },
  {
   "cell_type": "code",
   "execution_count": 5,
   "metadata": {},
   "outputs": [
    {
     "name": "stderr",
     "output_type": "stream",
     "text": [
      "/home/daryl/miniconda3/envs/py310/lib/python3.10/site-packages/outdated/utils.py:14: OutdatedPackageWarning: The package pingouin is out of date. Your version is 0.5.3, the latest is 0.5.4.\n",
      "Set the environment variable OUTDATED_IGNORE=1 to disable these warnings.\n",
      "  return warn(\n"
     ]
    }
   ],
   "source": [
    "# load images from the Plastimatch (pm) processing\n",
    "pm_exhale_im = sitk.ReadImage('{}/phase-exhale.mha'.format(PREPROCESSED_MHA_DIR))\n",
    "pm_inhale_im = sitk.ReadImage('{}/phase-inhale.mha'.format(PREPROCESSED_MHA_DIR))\n",
    "pm_mask_im = sitk.ReadImage('{}/mask-exhale.mha'.format(PREPROCESSED_MHA_DIR))\n",
    "\n",
    "pm_exhale_arr = sitk.GetArrayFromImage(pm_exhale_im)\n",
    "pm_inhale_arr = sitk.GetArrayFromImage(pm_inhale_im)\n",
    "pm_mask_arr = sitk.GetArrayFromImage(pm_mask_im).astype(bool)\n",
    "\n",
    "jacobian_det_im = sitk.ReadImage('{}/vf_jac.mha'.format(PREPROCESSED_MHA_DIR))\n",
    "jacobian_det_arr = sitk.GetArrayFromImage(jacobian_det_im)\n",
    "\n",
    "ctvi_jac_arr = jacobian_det_arr-1.0\n",
    "ctvi_jac_arr[~pm_mask_arr] = np.min(ctvi_jac_arr)\n",
    "ctvi_jac_im = sitk.GetImageFromArray(ctvi_jac_arr)\n",
    "\n",
    "# set the spacing and origin in the CTVI-Jac image\n",
    "ctvi_jac_im.SetSpacing(jacobian_det_im.GetSpacing())\n",
    "ctvi_jac_im.SetOrigin(jacobian_det_im.GetOrigin())"
   ]
  },
  {
   "cell_type": "code",
   "execution_count": 6,
   "metadata": {},
   "outputs": [
    {
     "data": {
      "text/plain": [
       "((512, 512, 167),\n",
       " (0.9765625, 0.9765625, 1.7999999523162842),\n",
       " (-249.51171875, -436.01171875, -269.0))"
      ]
     },
     "execution_count": 6,
     "metadata": {},
     "output_type": "execute_result"
    }
   ],
   "source": [
    "ctvi_jac_im.GetSize(), ctvi_jac_im.GetSpacing(), ctvi_jac_im.GetOrigin()"
   ]
  },
  {
   "cell_type": "code",
   "execution_count": 7,
   "metadata": {},
   "outputs": [
    {
     "name": "stdout",
     "output_type": "stream",
     "text": [
      "proportion of voxels with negative values in Jacobian determinant = 0.01\n"
     ]
    }
   ],
   "source": [
    "prop = np.sum(np.array(jacobian_det_arr[pm_mask_arr]) < 0) / len(jacobian_det_arr[pm_mask_arr].ravel())\n",
    "print('proportion of voxels with negative values in Jacobian determinant = {}'.format(round(prop, 2)))"
   ]
  },
  {
   "cell_type": "markdown",
   "metadata": {},
   "source": [
    "#### resample, crop, & pad the CTVI-Jac so we can make a comparison with model predictions"
   ]
  },
  {
   "cell_type": "code",
   "execution_count": 8,
   "metadata": {},
   "outputs": [],
   "source": [
    "# Resampling the images into (1,1,1)mm voxel size. Can use nearest neighbour for interpolation (default is B-spline). \n",
    "def resample_image(itk_image, out_spacing=(1.0, 1.0, 1.0), is_label=False):\n",
    "    original_spacing = itk_image.GetSpacing()\n",
    "    original_size = itk_image.GetSize()\n",
    "\n",
    "    out_size = [int(np.round(original_size[0] * (original_spacing[0] / out_spacing[0]))),\n",
    "        int(np.round(original_size[1] * (original_spacing[1] / out_spacing[1]))),\n",
    "        int(np.round(original_size[2] * (original_spacing[2] / out_spacing[2])))]\n",
    "\n",
    "    resample = sitk.ResampleImageFilter()\n",
    "    resample.SetOutputSpacing(out_spacing)\n",
    "    resample.SetSize(out_size)\n",
    "    resample.SetOutputDirection(itk_image.GetDirection())\n",
    "    resample.SetOutputOrigin(itk_image.GetOrigin())\n",
    "    resample.SetTransform(sitk.Transform())\n",
    "    resample.SetDefaultPixelValue(itk_image.GetPixelIDValue())\n",
    "\n",
    "    if is_label:\n",
    "        resample.SetInterpolator(sitk.sitkNearestNeighbor)\n",
    "    else:\n",
    "        resample.SetInterpolator(sitk.sitkBSpline)\n",
    "\n",
    "    return resample.Execute(itk_image)"
   ]
  },
  {
   "cell_type": "code",
   "execution_count": 9,
   "metadata": {},
   "outputs": [],
   "source": [
    "jacobian_det_im = resample_image(jacobian_det_im)\n",
    "ctvi_jac_im = resample_image(ctvi_jac_im)"
   ]
  },
  {
   "cell_type": "code",
   "execution_count": 10,
   "metadata": {},
   "outputs": [],
   "source": [
    "# convert back into numpy array after resampling\n",
    "jacobian_det_arr = sitk.GetArrayFromImage(jacobian_det_im)\n",
    "ctvi_jac_arr= sitk.GetArrayFromImage(ctvi_jac_im)"
   ]
  },
  {
   "cell_type": "code",
   "execution_count": 11,
   "metadata": {},
   "outputs": [],
   "source": [
    "PREPROCESSED_BASE_DIR = '/mnt/data/datasets/RNSH_HFlung/pre-processed-plastimatch'\n",
    "PREPROCESSED_SHAPING_DIR = '{}/shaping'.format(PREPROCESSED_BASE_DIR)"
   ]
  },
  {
   "cell_type": "code",
   "execution_count": 12,
   "metadata": {},
   "outputs": [],
   "source": [
    "if not os.path.exists(PREPROCESSED_SHAPING_DIR):\n",
    "    os.makedirs(PREPROCESSED_SHAPING_DIR)"
   ]
  },
  {
   "cell_type": "code",
   "execution_count": 13,
   "metadata": {},
   "outputs": [
    {
     "ename": "IndexError",
     "evalue": "Replacement index 1 out of range for positional args tuple",
     "output_type": "error",
     "traceback": [
      "\u001b[0;31m---------------------------------------------------------------------------\u001b[0m",
      "\u001b[0;31mIndexError\u001b[0m                                Traceback (most recent call last)",
      "Cell \u001b[0;32mIn[13], line 1\u001b[0m\n\u001b[0;32m----> 1\u001b[0m SHAPING_FILE \u001b[38;5;241m=\u001b[39m \u001b[38;5;124;43m'\u001b[39;49m\u001b[38;5;132;43;01m{}\u001b[39;49;00m\u001b[38;5;124;43m/Patient\u001b[39;49m\u001b[38;5;132;43;01m{:02d}\u001b[39;49;00m\u001b[38;5;124;43m.pkl\u001b[39;49m\u001b[38;5;124;43m'\u001b[39;49m\u001b[38;5;241;43m.\u001b[39;49m\u001b[43mformat\u001b[49m\u001b[43m(\u001b[49m\u001b[43mPREPROCESSED_SHAPING_DIR\u001b[49m\u001b[43m)\u001b[49m\n\u001b[1;32m      3\u001b[0m \u001b[38;5;28;01mif\u001b[39;00m os\u001b[38;5;241m.\u001b[39mpath\u001b[38;5;241m.\u001b[39misfile(SHAPING_FILE):\n\u001b[1;32m      4\u001b[0m     \u001b[38;5;28;01mwith\u001b[39;00m \u001b[38;5;28mopen\u001b[39m(SHAPING_FILE, \u001b[38;5;124m'\u001b[39m\u001b[38;5;124mrb\u001b[39m\u001b[38;5;124m'\u001b[39m) \u001b[38;5;28;01mas\u001b[39;00m f:\n",
      "\u001b[0;31mIndexError\u001b[0m: Replacement index 1 out of range for positional args tuple"
     ]
    }
   ],
   "source": [
    "SHAPING_FILE = '{}/Patient{:02d}.pkl'.format(PREPROCESSED_SHAPING_DIR)\n",
    "\n",
    "if os.path.isfile(SHAPING_FILE):\n",
    "    with open(SHAPING_FILE, 'rb') as f:\n",
    "        shaping_d = pickle.load(f)\n",
    "else:\n",
    "    print('could not load the shaping file from {}'.format(SHAPING_FILE))"
   ]
  },
  {
   "cell_type": "code",
   "execution_count": null,
   "metadata": {},
   "outputs": [],
   "source": []
  },
  {
   "cell_type": "markdown",
   "metadata": {},
   "source": [
    "#### normalise the CTVI-Jac"
   ]
  },
  {
   "cell_type": "code",
   "execution_count": null,
   "metadata": {},
   "outputs": [],
   "source": [
    "normalised_ventilation = exposure.rescale_intensity(ventilation, in_range='image', out_range=(1e-3,1.))"
   ]
  },
  {
   "cell_type": "markdown",
   "metadata": {},
   "source": [
    "#### apply a median filter"
   ]
  },
  {
   "cell_type": "code",
   "execution_count": null,
   "metadata": {},
   "outputs": [],
   "source": [
    "ventilation_filtered = ndimage.median_filter(normalised_ventilation, size=7)"
   ]
  },
  {
   "cell_type": "markdown",
   "metadata": {},
   "source": [
    "#### quantise the CTVI-Jac"
   ]
  },
  {
   "cell_type": "code",
   "execution_count": null,
   "metadata": {},
   "outputs": [],
   "source": [
    "percentile_high = np.percentile(ventilation_filtered[mask_exhale],70)\n",
    "percentile_medium = np.percentile(ventilation_filtered[mask_exhale],30)"
   ]
  },
  {
   "cell_type": "code",
   "execution_count": null,
   "metadata": {},
   "outputs": [],
   "source": [
    "percentile_high,percentile_medium"
   ]
  },
  {
   "cell_type": "code",
   "execution_count": null,
   "metadata": {},
   "outputs": [],
   "source": [
    "high_func_idxs = (ventilation_filtered>percentile_high)\n",
    "med_func_idxs = (ventilation_filtered<=percentile_high) & (ventilation_filtered>=percentile_medium)\n",
    "low_func_idxs = (ventilation_filtered<percentile_medium) & (ventilation_filtered>np.min(ventilation_filtered))\n",
    "\n",
    "ventilation_label_arr = np.full_like(ventilation_filtered, 0)\n",
    "ventilation_label_arr[high_func_idxs] = 1\n",
    "ventilation_label_arr[med_func_idxs] = 2\n",
    "ventilation_label_arr[low_func_idxs] = 3\n",
    "ventilation_label_arr[~mask_exhale] = 0"
   ]
  },
  {
   "cell_type": "markdown",
   "metadata": {},
   "source": [
    "#### load the PET ground truth"
   ]
  },
  {
   "cell_type": "code",
   "execution_count": null,
   "metadata": {},
   "outputs": [],
   "source": [
    "output_name = '{}/Patient{:02d}.npy'.format(PREPROCESSED_STACK_DIR, patient_id)\n",
    "pt_arr = np.load(output_name)\n",
    "print('loaded stack from {}'.format(output_name))\n",
    "\n",
    "pet_labels_arr = pt_arr[3]"
   ]
  },
  {
   "cell_type": "code",
   "execution_count": null,
   "metadata": {},
   "outputs": [],
   "source": [
    "pet_labels_arr.shape"
   ]
  },
  {
   "cell_type": "markdown",
   "metadata": {},
   "source": [
    "#### load the nnU-Net prediction"
   ]
  },
  {
   "cell_type": "code",
   "execution_count": null,
   "metadata": {},
   "outputs": [],
   "source": [
    "# load the predictions for Patient 20\n",
    "DATASET_ID = 140\n",
    "TEST_ID = 0\n",
    "\n",
    "nnunet_prediction_arr = nib.load('/mnt/data/datasets/RNSH_HFlung/nnU-Net-processing/nnUNet_predictions/Dataset{}_RNSH_HFlung/post/RNSH_HFlung_{:04d}.nii.gz'.format(DATASET_ID, TEST_ID)).get_fdata()\n",
    "nnunet_prediction_arr = np.moveaxis(nnunet_prediction_arr, -1, 0)"
   ]
  },
  {
   "cell_type": "code",
   "execution_count": null,
   "metadata": {},
   "outputs": [],
   "source": [
    "nnunet_prediction_arr.shape"
   ]
  },
  {
   "cell_type": "markdown",
   "metadata": {},
   "source": [
    "#### visualise the images"
   ]
  },
  {
   "cell_type": "code",
   "execution_count": null,
   "metadata": {},
   "outputs": [],
   "source": [
    "DISPLAY_IDX = 100\n",
    "\n",
    "fig, (ax1, ax2, ax3, ax4, ax5) = plt.subplots(1, 5, figsize=(15,4))\n",
    "ax1.imshow(image_exhale[DISPLAY_IDX], cmap=\"gray\")\n",
    "ax1.set_title('exhale')\n",
    "ax1.set_axis_off()\n",
    "\n",
    "ax2.imshow(image_inhale[DISPLAY_IDX], cmap=\"gray\")\n",
    "ax2.set_title('inhale')\n",
    "ax2.set_axis_off()\n",
    "\n",
    "ax3.imshow(pet_labels_arr[DISPLAY_IDX])\n",
    "ax3.set_title('PET ground truth')\n",
    "ax3.set_axis_off()\n",
    "\n",
    "ax4.imshow(ventilation_label_arr[DISPLAY_IDX])\n",
    "ax4.set_title('CTVI-Jac')\n",
    "ax4.set_axis_off()\n",
    "\n",
    "ax5.imshow(nnunet_prediction_arr[DISPLAY_IDX])\n",
    "ax5.set_title('CTVI-nnU-Net')\n",
    "ax5.set_axis_off()\n",
    "\n",
    "# fig.suptitle('Patient ID {}'.format(patient_id), x=0.1, y=1.0, fontsize=12, ha='left')\n",
    "\n",
    "fig.subplots_adjust(left=0.1,\n",
    "                    bottom=0.1, \n",
    "                    right=0.9, \n",
    "                    top=0.9, \n",
    "                    wspace=0.01, \n",
    "                    hspace=0.1)"
   ]
  },
  {
   "cell_type": "markdown",
   "metadata": {},
   "source": [
    "#### write out the images for processing with EvaluateSegmentation"
   ]
  },
  {
   "cell_type": "code",
   "execution_count": null,
   "metadata": {},
   "outputs": [],
   "source": [
    "HOME_DIR = '/home/daryl'\n",
    "\n",
    "sitk.WriteImage(sitk.GetImageFromArray(pet_labels_arr), '{}/pet-label.mha'.format(HOME_DIR))\n",
    "sitk.WriteImage(sitk.GetImageFromArray(ventilation_label_arr), '{}/ctvi-jac-label.mha'.format(HOME_DIR))\n",
    "sitk.WriteImage(sitk.GetImageFromArray(nnunet_prediction_arr), '{}/ctvi-nnunet.mha'.format(HOME_DIR))"
   ]
  },
  {
   "cell_type": "markdown",
   "metadata": {},
   "source": [
    "#### read in the results XML and compare segmentation similarity"
   ]
  },
  {
   "cell_type": "code",
   "execution_count": null,
   "metadata": {},
   "outputs": [],
   "source": [
    "from bs4 import BeautifulSoup"
   ]
  },
  {
   "cell_type": "code",
   "execution_count": null,
   "metadata": {},
   "outputs": [],
   "source": [
    "CTVI_JAC_EVAL = '{}/seg-metrics-ctvi-jac.xml'.format(HOME_DIR)\n",
    "with open(CTVI_JAC_EVAL, 'r') as f:\n",
    "    data = f.read()\n",
    "ctvi_jac_eval = BeautifulSoup(data, \"xml\")"
   ]
  },
  {
   "cell_type": "code",
   "execution_count": null,
   "metadata": {},
   "outputs": [],
   "source": [
    "CTVI_NNUNET_EVAL = '{}/seg-metrics-ctvi-nnunet.xml'.format(HOME_DIR)\n",
    "with open(CTVI_NNUNET_EVAL, 'r') as f:\n",
    "    data = f.read()\n",
    "ctvi_nnunet_eval = BeautifulSoup(data, \"xml\")"
   ]
  },
  {
   "cell_type": "code",
   "execution_count": null,
   "metadata": {},
   "outputs": [],
   "source": [
    "metrics_l = ['DICE','HDRFDST','MAHLNBS']\n",
    "print('{: >10}{: >35}{: >15}{: >15}'.format('','','CTVI-Jac','CTVI-nnU-Net'))\n",
    "for m in metrics_l:\n",
    "    ctvi_jac_d = ctvi_jac_eval.find(m).attrs\n",
    "    ctvi_nnunet_d = ctvi_nnunet_eval.find(m).attrs\n",
    "    print('{: >10}{: >35}{: >15.2f}{: >15.2f}'.format(m, ctvi_jac_d['name'], float(ctvi_jac_d['value']), float(ctvi_nnunet_d['value'])))"
   ]
  },
  {
   "cell_type": "code",
   "execution_count": null,
   "metadata": {},
   "outputs": [],
   "source": []
  }
 ],
 "metadata": {
  "kernelspec": {
   "display_name": "Python 3 (ipykernel)",
   "language": "python",
   "name": "python3"
  },
  "language_info": {
   "codemirror_mode": {
    "name": "ipython",
    "version": 3
   },
   "file_extension": ".py",
   "mimetype": "text/x-python",
   "name": "python",
   "nbconvert_exporter": "python",
   "pygments_lexer": "ipython3",
   "version": "3.10.13"
  }
 },
 "nbformat": 4,
 "nbformat_minor": 4
}
