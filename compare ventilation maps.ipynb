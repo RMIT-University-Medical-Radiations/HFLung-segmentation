{
 "cells": [
  {
   "cell_type": "code",
   "execution_count": 1,
   "metadata": {},
   "outputs": [],
   "source": [
    "import os\n",
    "import sys\n",
    "import numpy as np\n",
    "import matplotlib\n",
    "import matplotlib.pyplot as plt\n",
    "import SimpleITK as sitk\n",
    "import skimage\n",
    "from os.path import expanduser\n",
    "import glob\n",
    "from matplotlib.ticker import MaxNLocator\n",
    "from scipy.stats import spearmanr\n",
    "import seg_metrics.seg_metrics as sg\n",
    "import pickle\n",
    "import matplotlib.patches as mpatches\n",
    "from skimage import exposure\n",
    "from scipy import ndimage\n",
    "import nibabel as nib"
   ]
  },
  {
   "cell_type": "code",
   "execution_count": 2,
   "metadata": {},
   "outputs": [
    {
     "name": "stdout",
     "output_type": "stream",
     "text": [
      "Python version: 3.10.13 (main, Sep 11 2023, 13:44:35) [GCC 11.2.0]\n",
      "Numpy version: 1.26.2\n",
      "Matplotlib version: 3.8.2\n",
      "SITK version: 2.3.1\n",
      "Scikit-image version: 0.22.0\n"
     ]
    }
   ],
   "source": [
    "print(\"Python version:\", sys.version)\n",
    "print(\"Numpy version:\", np.__version__)\n",
    "print(\"Matplotlib version:\", matplotlib.__version__)\n",
    "print(\"SITK version:\", sitk.__version__)\n",
    "print(\"Scikit-image version:\", skimage.__version__)"
   ]
  },
  {
   "cell_type": "code",
   "execution_count": 3,
   "metadata": {},
   "outputs": [],
   "source": [
    "patient_id = 15"
   ]
  },
  {
   "cell_type": "code",
   "execution_count": 4,
   "metadata": {},
   "outputs": [],
   "source": [
    "PREPROCESSED_BASE_DIR = '/mnt/data/datasets/RNSH_HFlung/pre-processed-plastimatch'\n",
    "PREPROCESSED_MHA_DIR = '{}/mha/Patient{:02d}'.format(PREPROCESSED_BASE_DIR, patient_id)\n",
    "PREPROCESSED_STACK_DIR = '{}/stack'.format(PREPROCESSED_BASE_DIR)"
   ]
  },
  {
   "cell_type": "markdown",
   "metadata": {},
   "source": [
    "#### load the Jacobian determinant and calculate the CTVI-Jac"
   ]
  },
  {
   "cell_type": "code",
   "execution_count": 5,
   "metadata": {},
   "outputs": [
    {
     "name": "stderr",
     "output_type": "stream",
     "text": [
      "/home/daryl/miniconda3/envs/py310/lib/python3.10/site-packages/outdated/utils.py:14: OutdatedPackageWarning: The package pingouin is out of date. Your version is 0.5.3, the latest is 0.5.4.\n",
      "Set the environment variable OUTDATED_IGNORE=1 to disable these warnings.\n",
      "  return warn(\n"
     ]
    }
   ],
   "source": [
    "# load images from the Plastimatch (pm) processing\n",
    "pm_exhale_im = sitk.ReadImage('{}/phase-exhale-nomask.mha'.format(PREPROCESSED_MHA_DIR))\n",
    "pm_inhale_im = sitk.ReadImage('{}/phase-inhale-nomask.mha'.format(PREPROCESSED_MHA_DIR))\n",
    "pm_mask_im = sitk.ReadImage('{}/mask-union.mha'.format(PREPROCESSED_MHA_DIR))\n",
    "\n",
    "pm_exhale_arr = sitk.GetArrayFromImage(pm_exhale_im)\n",
    "pm_inhale_arr = sitk.GetArrayFromImage(pm_inhale_im)\n",
    "pm_mask_arr = sitk.GetArrayFromImage(pm_mask_im).astype(bool)\n",
    "\n",
    "jacobian_det_im = sitk.ReadImage('{}/vf_jac.mha'.format(PREPROCESSED_MHA_DIR))\n",
    "jacobian_det_arr = sitk.GetArrayFromImage(jacobian_det_im)"
   ]
  },
  {
   "cell_type": "markdown",
   "metadata": {},
   "source": [
    "#### load the PET ground truth"
   ]
  },
  {
   "cell_type": "code",
   "execution_count": 6,
   "metadata": {},
   "outputs": [
    {
     "name": "stdout",
     "output_type": "stream",
     "text": [
      "loaded stack from /mnt/data/datasets/RNSH_HFlung/pre-processed-plastimatch/stack/Patient15.npy\n"
     ]
    }
   ],
   "source": [
    "output_name = '{}/Patient{:02d}.npy'.format(PREPROCESSED_STACK_DIR, patient_id)\n",
    "pt_arr = np.load(output_name)\n",
    "print('loaded stack from {}'.format(output_name))\n",
    "\n",
    "exp_arr = pt_arr[0]\n",
    "insp_arr = pt_arr[1]\n",
    "pet_arr = pt_arr[2]\n",
    "pet_labels_arr = pt_arr[3]\n",
    "mask_arr = pt_arr[4].astype(bool)"
   ]
  },
  {
   "cell_type": "code",
   "execution_count": 7,
   "metadata": {},
   "outputs": [
    {
     "data": {
      "text/plain": [
       "((301, 500, 500), (301, 500, 500))"
      ]
     },
     "execution_count": 7,
     "metadata": {},
     "output_type": "execute_result"
    }
   ],
   "source": [
    "pet_labels_arr.shape, mask_arr.shape"
   ]
  },
  {
   "cell_type": "code",
   "execution_count": 8,
   "metadata": {},
   "outputs": [
    {
     "name": "stdout",
     "output_type": "stream",
     "text": [
      "proportion of voxels with negative values in Jacobian determinant = 0.0\n"
     ]
    }
   ],
   "source": [
    "prop = np.sum(np.array(jacobian_det_arr[pm_mask_arr]) < 0) / len(jacobian_det_arr[pm_mask_arr].ravel())\n",
    "print('proportion of voxels with negative values in Jacobian determinant = {}'.format(round(prop, 2)))"
   ]
  },
  {
   "cell_type": "code",
   "execution_count": 9,
   "metadata": {},
   "outputs": [],
   "source": [
    "ctvi_jac_arr = jacobian_det_arr-1.0\n",
    "ctvi_jac_arr[~pm_mask_arr] = np.min(ctvi_jac_arr)\n",
    "ctvi_jac_im = sitk.GetImageFromArray(ctvi_jac_arr)\n",
    "\n",
    "# set the spacing and origin in the CTVI-Jac image\n",
    "ctvi_jac_im.SetSpacing(jacobian_det_im.GetSpacing())\n",
    "ctvi_jac_im.SetOrigin(jacobian_det_im.GetOrigin())"
   ]
  },
  {
   "cell_type": "code",
   "execution_count": 10,
   "metadata": {},
   "outputs": [
    {
     "data": {
      "text/plain": [
       "((512, 512, 167),\n",
       " (0.9765625, 0.9765625, 1.7999999523162842),\n",
       " (-249.51171875, -426.01171875, -51.0))"
      ]
     },
     "execution_count": 10,
     "metadata": {},
     "output_type": "execute_result"
    }
   ],
   "source": [
    "ctvi_jac_im.GetSize(), ctvi_jac_im.GetSpacing(), ctvi_jac_im.GetOrigin()"
   ]
  },
  {
   "cell_type": "markdown",
   "metadata": {},
   "source": [
    "#### resample, crop, & pad the CTVI-Jac so we can make a comparison with model predictions"
   ]
  },
  {
   "cell_type": "code",
   "execution_count": 11,
   "metadata": {},
   "outputs": [],
   "source": [
    "# Resampling the images into (1,1,1)mm voxel size. Can use nearest neighbour for interpolation (default is B-spline). \n",
    "def resample_image(itk_image, out_spacing=(1.0, 1.0, 1.0), is_label=False):\n",
    "    original_spacing = itk_image.GetSpacing()\n",
    "    original_size = itk_image.GetSize()\n",
    "\n",
    "    out_size = [int(np.round(original_size[0] * (original_spacing[0] / out_spacing[0]))),\n",
    "        int(np.round(original_size[1] * (original_spacing[1] / out_spacing[1]))),\n",
    "        int(np.round(original_size[2] * (original_spacing[2] / out_spacing[2])))]\n",
    "\n",
    "    resample = sitk.ResampleImageFilter()\n",
    "    resample.SetOutputSpacing(out_spacing)\n",
    "    resample.SetSize(out_size)\n",
    "    resample.SetOutputDirection(itk_image.GetDirection())\n",
    "    resample.SetOutputOrigin(itk_image.GetOrigin())\n",
    "    resample.SetTransform(sitk.Transform())\n",
    "    resample.SetDefaultPixelValue(itk_image.GetPixelIDValue())\n",
    "\n",
    "    if is_label:\n",
    "        resample.SetInterpolator(sitk.sitkNearestNeighbor)\n",
    "    else:\n",
    "        resample.SetInterpolator(sitk.sitkBSpline)\n",
    "\n",
    "    return resample.Execute(itk_image)"
   ]
  },
  {
   "cell_type": "code",
   "execution_count": 12,
   "metadata": {},
   "outputs": [],
   "source": [
    "jacobian_det_im = resample_image(jacobian_det_im)\n",
    "ctvi_jac_im = resample_image(ctvi_jac_im)"
   ]
  },
  {
   "cell_type": "code",
   "execution_count": 13,
   "metadata": {},
   "outputs": [],
   "source": [
    "# convert back into numpy array after resampling\n",
    "jacobian_det_arr = sitk.GetArrayFromImage(jacobian_det_im)\n",
    "ctvi_jac_arr= sitk.GetArrayFromImage(ctvi_jac_im)"
   ]
  },
  {
   "cell_type": "raw",
   "metadata": {},
   "source": [
    "PREPROCESSED_BASE_DIR = '/mnt/data/datasets/RNSH_HFlung/pre-processed-plastimatch'\n",
    "PREPROCESSED_SHAPING_DIR = '{}/shaping'.format(PREPROCESSED_BASE_DIR)"
   ]
  },
  {
   "cell_type": "raw",
   "metadata": {},
   "source": [
    "if not os.path.exists(PREPROCESSED_SHAPING_DIR):\n",
    "    os.makedirs(PREPROCESSED_SHAPING_DIR)"
   ]
  },
  {
   "cell_type": "raw",
   "metadata": {},
   "source": [
    "SHAPING_FILE = '{}/Patient{:02d}.pkl'.format(PREPROCESSED_SHAPING_DIR, patient_id)\n",
    "\n",
    "if os.path.isfile(SHAPING_FILE):\n",
    "    with open(SHAPING_FILE, 'rb') as f:\n",
    "        shaping_d = pickle.load(f)\n",
    "else:\n",
    "    print('could not load the shaping file from {}'.format(SHAPING_FILE))"
   ]
  },
  {
   "cell_type": "raw",
   "metadata": {},
   "source": [
    "ctvi_jac_arr.shape"
   ]
  },
  {
   "cell_type": "raw",
   "metadata": {},
   "source": [
    "shaping_d"
   ]
  },
  {
   "cell_type": "raw",
   "metadata": {},
   "source": [
    "crop_x_lower = shaping_d['crop-x-y-axes']['x_lower']\n",
    "crop_y_lower = shaping_d['crop-x-y-axes']['y_lower']\n",
    "crop_x_upper = shaping_d['crop-x-y-axes']['x_upper']\n",
    "crop_y_upper = shaping_d['crop-x-y-axes']['y_upper']\n",
    "\n",
    "if shaping_d['pad-z-axis'] == None:\n",
    "    crop_z_lower = shaping_d['crop-z-axis']['z_lower']\n",
    "    crop_z_upper = shaping_d['crop-z-axis']['z_upper']\n",
    "    ctvi_jac_arr = ctvi_jac_arr[crop_z_lower:crop_z_upper, crop_x_lower:crop_x_upper, crop_y_lower:crop_y_upper]\n",
    "else:\n",
    "    pad_slices_before = shaping_d['pad-z-axis']['pad_slices_before']\n",
    "    pad_slices_after = shaping_d['pad-z-axis']['pad_slices_after']\n",
    "    ctvi_jac_arr = np.pad(ctvi_jac_arr, pad_width=((pad_slices_before,pad_slices_after),(0,0),(0,0)), mode='constant', constant_values=np.min(ctvi_jac_arr))\n",
    "    ctvi_jac_arr = ctvi_jac_arr[:,crop_x_lower:crop_x_upper,crop_y_lower:crop_y_upper]"
   ]
  },
  {
   "cell_type": "code",
   "execution_count": 14,
   "metadata": {},
   "outputs": [
    {
     "data": {
      "text/plain": [
       "(301, 500, 500)"
      ]
     },
     "execution_count": 14,
     "metadata": {},
     "output_type": "execute_result"
    }
   ],
   "source": [
    "ctvi_jac_arr.shape"
   ]
  },
  {
   "cell_type": "markdown",
   "metadata": {},
   "source": [
    "#### normalise the CTVI-Jac"
   ]
  },
  {
   "cell_type": "code",
   "execution_count": 15,
   "metadata": {},
   "outputs": [],
   "source": [
    "ctvi_jac_arr = exposure.rescale_intensity(ctvi_jac_arr, in_range='image', out_range=(1e-3,1.))"
   ]
  },
  {
   "cell_type": "markdown",
   "metadata": {},
   "source": [
    "#### apply a median filter"
   ]
  },
  {
   "cell_type": "code",
   "execution_count": 16,
   "metadata": {},
   "outputs": [],
   "source": [
    "ctvi_jac_arr = ndimage.median_filter(ctvi_jac_arr, size=7)"
   ]
  },
  {
   "cell_type": "markdown",
   "metadata": {},
   "source": [
    "#### quantise the CTVI-Jac"
   ]
  },
  {
   "cell_type": "code",
   "execution_count": 17,
   "metadata": {},
   "outputs": [],
   "source": [
    "percentile_high = np.percentile(ctvi_jac_arr[mask_arr],70)\n",
    "percentile_medium = np.percentile(ctvi_jac_arr[mask_arr],30)"
   ]
  },
  {
   "cell_type": "code",
   "execution_count": 18,
   "metadata": {},
   "outputs": [
    {
     "data": {
      "text/plain": [
       "(0.09667799398303031, 0.08521030098199844)"
      ]
     },
     "execution_count": 18,
     "metadata": {},
     "output_type": "execute_result"
    }
   ],
   "source": [
    "percentile_high,percentile_medium"
   ]
  },
  {
   "cell_type": "code",
   "execution_count": 19,
   "metadata": {},
   "outputs": [],
   "source": [
    "high_func_idxs = (ctvi_jac_arr>percentile_high)\n",
    "med_func_idxs = (ctvi_jac_arr<=percentile_high) & (ctvi_jac_arr>=percentile_medium)\n",
    "low_func_idxs = (ctvi_jac_arr<percentile_medium) & (ctvi_jac_arr>np.min(ctvi_jac_arr))\n",
    "\n",
    "ctvi_jac_label_arr = np.full_like(ctvi_jac_arr, 0)\n",
    "ctvi_jac_label_arr[high_func_idxs] = 1\n",
    "ctvi_jac_label_arr[med_func_idxs] = 2\n",
    "ctvi_jac_label_arr[low_func_idxs] = 3\n",
    "ctvi_jac_label_arr[~mask_arr] = 0"
   ]
  },
  {
   "cell_type": "markdown",
   "metadata": {},
   "source": [
    "#### load the nnU-Net prediction"
   ]
  },
  {
   "cell_type": "code",
   "execution_count": 20,
   "metadata": {},
   "outputs": [],
   "source": [
    "# load the predictions for Patient 20\n",
    "DATASET_ID = 141\n",
    "TEST_ID = 1\n",
    "\n",
    "nnunet_prediction_arr = nib.load('/mnt/data/datasets/RNSH_HFlung/nnU-Net-processing/nnUNet_predictions/Dataset{}_RNSH_HFlung/post/RNSH_HFlung_{:04d}.nii.gz'.format(DATASET_ID, TEST_ID)).get_fdata()\n",
    "nnunet_prediction_arr = np.moveaxis(nnunet_prediction_arr, -1, 0)"
   ]
  },
  {
   "cell_type": "code",
   "execution_count": 21,
   "metadata": {},
   "outputs": [
    {
     "data": {
      "text/plain": [
       "(250, 304, 304)"
      ]
     },
     "execution_count": 21,
     "metadata": {},
     "output_type": "execute_result"
    }
   ],
   "source": [
    "nnunet_prediction_arr.shape"
   ]
  },
  {
   "cell_type": "markdown",
   "metadata": {},
   "source": [
    "#### visualise the images"
   ]
  },
  {
   "cell_type": "code",
   "execution_count": 22,
   "metadata": {},
   "outputs": [
    {
     "data": {
      "image/png": "[encoded data removed]",
      "text/plain": [
       "<Figure size 1500x400 with 5 Axes>"
      ]
     },
     "metadata": {},
     "output_type": "display_data"
    }
   ],
   "source": [
    "DISPLAY_IDX = 100\n",
    "\n",
    "fig, (ax1, ax2, ax3, ax4, ax5) = plt.subplots(1, 5, figsize=(15,4))\n",
    "ax1.imshow(exp_arr[DISPLAY_IDX], cmap=\"gray\")\n",
    "ax1.set_title('exhale')\n",
    "ax1.set_axis_off()\n",
    "\n",
    "ax2.imshow(insp_arr[DISPLAY_IDX], cmap=\"gray\")\n",
    "ax2.set_title('inhale')\n",
    "ax2.set_axis_off()\n",
    "\n",
    "ax3.imshow(pet_labels_arr[DISPLAY_IDX])\n",
    "ax3.set_title('PET ground truth')\n",
    "ax3.set_axis_off()\n",
    "\n",
    "ax4.imshow(ctvi_jac_label_arr[DISPLAY_IDX])\n",
    "ax4.set_title('CTVI-Jac')\n",
    "ax4.set_axis_off()\n",
    "\n",
    "ax5.imshow(nnunet_prediction_arr[DISPLAY_IDX])\n",
    "ax5.set_title('CTVI-nnU-Net')\n",
    "ax5.set_axis_off()\n",
    "\n",
    "# fig.suptitle('Patient ID {}'.format(patient_id), x=0.1, y=1.0, fontsize=12, ha='left')\n",
    "\n",
    "fig.subplots_adjust(left=0.1,\n",
    "                    bottom=0.1, \n",
    "                    right=0.9, \n",
    "                    top=0.9, \n",
    "                    wspace=0.01, \n",
    "                    hspace=0.1)"
   ]
  },
  {
   "cell_type": "markdown",
   "metadata": {},
   "source": [
    "#### write out the images for processing with EvaluateSegmentation"
   ]
  },
  {
   "cell_type": "code",
   "execution_count": 23,
   "metadata": {},
   "outputs": [],
   "source": [
    "PREPROCESSED_BASE_DIR = '/mnt/data/datasets/RNSH_HFlung/pre-processed-plastimatch'\n",
    "EVALUATION_DIR = '{}/evaluation'.format(PREPROCESSED_BASE_DIR)\n",
    "PATIENT_EVALUATION_DIR = '{}/Patient{:02d}'.format(EVALUATION_DIR, patient_id)"
   ]
  },
  {
   "cell_type": "code",
   "execution_count": 24,
   "metadata": {},
   "outputs": [],
   "source": [
    "if not os.path.exists(EVALUATION_DIR):\n",
    "    os.makedirs(EVALUATION_DIR)\n",
    "\n",
    "if not os.path.exists(PATIENT_EVALUATION_DIR):\n",
    "    os.makedirs(PATIENT_EVALUATION_DIR)"
   ]
  },
  {
   "cell_type": "code",
   "execution_count": 25,
   "metadata": {},
   "outputs": [],
   "source": [
    "sitk.WriteImage(sitk.GetImageFromArray(pet_labels_arr), '{}/pet-label.mha'.format(PATIENT_EVALUATION_DIR))\n",
    "sitk.WriteImage(sitk.GetImageFromArray(ctvi_jac_label_arr), '{}/ctvi-jac-label.mha'.format(PATIENT_EVALUATION_DIR))\n",
    "sitk.WriteImage(sitk.GetImageFromArray(nnunet_prediction_arr), '{}/ctvi-nnunet.mha'.format(PATIENT_EVALUATION_DIR))"
   ]
  },
  {
   "cell_type": "markdown",
   "metadata": {},
   "source": [
    "#### calculate the Spearman correlation of the unquantised images"
   ]
  },
  {
   "cell_type": "code",
   "execution_count": 26,
   "metadata": {},
   "outputs": [
    {
     "data": {
      "image/png": "[encoded data removed]",
      "text/plain": [
       "<Figure size 1500x400 with 2 Axes>"
      ]
     },
     "metadata": {},
     "output_type": "display_data"
    }
   ],
   "source": [
    "DISPLAY_IDX = 100\n",
    "\n",
    "fig, (ax1, ax2) = plt.subplots(1, 2, figsize=(15,4))\n",
    "ax1.imshow(pet_arr[DISPLAY_IDX], cmap=\"inferno\")\n",
    "ax1.set_title('PET')\n",
    "ax1.set_axis_off()\n",
    "\n",
    "ax2.imshow(ctvi_jac_arr[DISPLAY_IDX], cmap=\"inferno\")\n",
    "ax2.set_title('CTVI-Jac')\n",
    "ax2.set_axis_off()\n",
    "\n",
    "# fig.suptitle('Patient ID {}'.format(patient_id), x=0.1, y=1.0, fontsize=12, ha='left')\n",
    "\n",
    "fig.subplots_adjust(left=0.1,\n",
    "                    bottom=0.1, \n",
    "                    right=0.9, \n",
    "                    top=0.9, \n",
    "                    wspace=0.01, \n",
    "                    hspace=0.1)"
   ]
  },
  {
   "cell_type": "code",
   "execution_count": 27,
   "metadata": {},
   "outputs": [
    {
     "name": "stdout",
     "output_type": "stream",
     "text": [
      "Spearman: 0.71\n"
     ]
    }
   ],
   "source": [
    "sp = spearmanr(pet_arr[mask_arr], ctvi_jac_arr[mask_arr])\n",
    "print('Spearman: {}'.format(np.round(sp[0],2)))\n",
    "patient_eval_d = {'unquantised_spearman_correlation':sp[0]}"
   ]
  },
  {
   "cell_type": "code",
   "execution_count": 28,
   "metadata": {},
   "outputs": [],
   "source": [
    "DATASET_EVALUATION_FILE = '{}/evaluation.pkl'.format(EVALUATION_DIR)\n",
    "\n",
    "if os.path.isfile(DATASET_EVALUATION_FILE):\n",
    "    with open(DATASET_EVALUATION_FILE, 'rb') as f:\n",
    "        dataset_d = pickle.load(f)\n",
    "else:\n",
    "    dataset_d = {}\n",
    "\n",
    "dataset_d[patient_id] = patient_eval_d\n",
    "\n",
    "with open(DATASET_EVALUATION_FILE, 'wb') as f:\n",
    "        pickle.dump(dataset_d, f)"
   ]
  },
  {
   "cell_type": "code",
   "execution_count": 29,
   "metadata": {},
   "outputs": [
    {
     "data": {
      "text/plain": [
       "{1: {'unquantised_spearman_correlation': 0.765597200011871},\n",
       " 2: {'unquantised_spearman_correlation': 0.5841116774957084},\n",
       " 3: {'unquantised_spearman_correlation': 0.4121572932640626},\n",
       " 4: {'unquantised_spearman_correlation': 0.7406985321142072},\n",
       " 5: {'unquantised_spearman_correlation': 0.36746768630103477},\n",
       " 6: {'unquantised_spearman_correlation': 0.4816910517973112},\n",
       " 7: {'unquantised_spearman_correlation': 0.6617734870745133},\n",
       " 8: {'unquantised_spearman_correlation': 0.6784541901928374},\n",
       " 9: {'unquantised_spearman_correlation': 0.3384980983608336},\n",
       " 10: {'unquantised_spearman_correlation': 0.7315623674035031},\n",
       " 11: {'unquantised_spearman_correlation': 0.7004074453697051},\n",
       " 12: {'unquantised_spearman_correlation': 0.4711854835913995},\n",
       " 13: {'unquantised_spearman_correlation': 0.2707063286624992},\n",
       " 14: {'unquantised_spearman_correlation': 0.7086699236956627},\n",
       " 15: {'unquantised_spearman_correlation': 0.7106243221850376}}"
      ]
     },
     "execution_count": 29,
     "metadata": {},
     "output_type": "execute_result"
    }
   ],
   "source": [
    "dataset_d"
   ]
  },
  {
   "cell_type": "code",
   "execution_count": 30,
   "metadata": {},
   "outputs": [],
   "source": [
    "spearman = []\n",
    "spearman.append([value['unquantised_spearman_correlation'] for key, value in dataset_d.items()])"
   ]
  },
  {
   "cell_type": "code",
   "execution_count": 31,
   "metadata": {},
   "outputs": [
    {
     "data": {
      "image/png": "[encoded data removed]",
      "text/plain": [
       "<Figure size 300x500 with 1 Axes>"
      ]
     },
     "metadata": {},
     "output_type": "display_data"
    }
   ],
   "source": [
    "f, ax1 = plt.subplots()\n",
    "f.set_figheight(5)\n",
    "f.set_figwidth(3)\n",
    "\n",
    "plt.margins(0.06)\n",
    "\n",
    "red_circle = dict(markerfacecolor='red', marker='o')\n",
    "mean_shape = dict(markerfacecolor='green', marker='D', markeredgecolor='green')\n",
    "\n",
    "bp = ax1.boxplot(spearman, showfliers=True, showmeans=True, meanprops=mean_shape)\n",
    "\n",
    "# ax1.set_xticklabels(['high', 'medium', 'low'])\n",
    "# plt.xlabel('lung function')\n",
    "plt.ylabel('Spearman correlation')\n",
    "ax1.set_ylim([-0.5, 1])\n",
    "plt.show()"
   ]
  },
  {
   "cell_type": "code",
   "execution_count": null,
   "metadata": {},
   "outputs": [],
   "source": []
  }
 ],
 "metadata": {
  "kernelspec": {
   "display_name": "Python 3 (ipykernel)",
   "language": "python",
   "name": "python3"
  },
  "language_info": {
   "codemirror_mode": {
    "name": "ipython",
    "version": 3
   },
   "file_extension": ".py",
   "mimetype": "text/x-python",
   "name": "python",
   "nbconvert_exporter": "python",
   "pygments_lexer": "ipython3",
   "version": "3.10.13"
  }
 },
 "nbformat": 4,
 "nbformat_minor": 4
}
