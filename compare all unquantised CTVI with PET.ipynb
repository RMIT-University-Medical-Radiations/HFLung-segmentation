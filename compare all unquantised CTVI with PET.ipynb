{
 "cells": [
  {
   "cell_type": "code",
   "execution_count": 1,
   "metadata": {},
   "outputs": [],
   "source": [
    "import os\n",
    "import sys\n",
    "import numpy as np\n",
    "import matplotlib\n",
    "import matplotlib.pyplot as plt\n",
    "import SimpleITK as sitk\n",
    "import skimage\n",
    "from os.path import expanduser\n",
    "import glob\n",
    "from matplotlib.ticker import MaxNLocator\n",
    "from scipy.stats import spearmanr\n",
    "import seg_metrics.seg_metrics as sg\n",
    "import pickle\n",
    "from skimage import exposure\n",
    "from scipy import ndimage\n",
    "import nibabel as nib\n",
    "from matplotlib.colors import ListedColormap\n",
    "import matplotlib.patches as mpatches"
   ]
  },
  {
   "cell_type": "code",
   "execution_count": 2,
   "metadata": {},
   "outputs": [
    {
     "name": "stdout",
     "output_type": "stream",
     "text": [
      "Python version: 3.10.14 (main, May  6 2024, 19:42:50) [GCC 11.2.0]\n",
      "Numpy version: 2.1.0\n",
      "Matplotlib version: 3.9.2\n",
      "SITK version: 2.4.0\n",
      "Scikit-image version: 0.24.0\n"
     ]
    }
   ],
   "source": [
    "print(\"Python version:\", sys.version)\n",
    "print(\"Numpy version:\", np.__version__)\n",
    "print(\"Matplotlib version:\", matplotlib.__version__)\n",
    "print(\"SITK version:\", sitk.__version__)\n",
    "print(\"Scikit-image version:\", skimage.__version__)"
   ]
  },
  {
   "cell_type": "code",
   "execution_count": 3,
   "metadata": {},
   "outputs": [],
   "source": [
    "PREPROCESSED_BASE_DIR = '/mnt/data/datasets/RNSH_HFlung/pre-processed-plastimatch'\n",
    "EVALUATION_DIR = '{}/evaluation'.format(PREPROCESSED_BASE_DIR)"
   ]
  },
  {
   "cell_type": "code",
   "execution_count": 4,
   "metadata": {},
   "outputs": [],
   "source": [
    "if not os.path.exists(EVALUATION_DIR):\n",
    "    os.makedirs(EVALUATION_DIR)"
   ]
  },
  {
   "cell_type": "code",
   "execution_count": 5,
   "metadata": {},
   "outputs": [],
   "source": [
    "DATASET_EVALUATION_FILE = '{}/evaluation-unquantised.pkl'.format(EVALUATION_DIR)\n",
    "\n",
    "if os.path.isfile(DATASET_EVALUATION_FILE):\n",
    "    with open(DATASET_EVALUATION_FILE, 'rb') as f:\n",
    "        dataset_d = pickle.load(f)"
   ]
  },
  {
   "cell_type": "code",
   "execution_count": 6,
   "metadata": {},
   "outputs": [
    {
     "name": "stdout",
     "output_type": "stream",
     "text": [
      "Patient ID   Spearman-Jac    p-value Jac    Spearman-HU     p-value HU\n",
      "         1           0.70          0.000           0.80          0.000\n",
      "         2           0.37          0.000           0.33          0.000\n",
      "         3           0.30          0.000           0.14          0.000\n",
      "         4           0.74          0.000           0.61          0.000\n",
      "         5           0.73          0.000           0.70          0.000\n",
      "         6           0.70          0.000           0.67          0.000\n",
      "         7           0.72          0.000           0.49          0.000\n",
      "         8           0.73          0.000           0.66          0.000\n",
      "         9           0.62          0.000           0.59          0.000\n",
      "        10           0.72          0.000           0.64          0.000\n",
      "        11           0.73          0.000           0.66          0.000\n",
      "        12           0.79          0.000           0.70          0.000\n",
      "        13           0.19          0.000           0.42          0.000\n",
      "        14           0.78          0.000           0.72          0.000\n",
      "        15           0.70          0.000           0.62          0.000\n",
      "        16           0.78          0.000           0.78          0.000\n",
      "        17           0.61          0.000           0.59          0.000\n",
      "        18           0.77          0.000           0.76          0.000\n",
      "        19           0.68          0.000           0.73          0.000\n",
      "        20           0.79          0.000           0.70          0.000\n"
     ]
    }
   ],
   "source": [
    "print('{: >10}{: >15}{: >15}{: >15}{: >15}'.format('Patient ID','Spearman-Jac','p-value Jac','Spearman-HU','p-value HU'))\n",
    "for k,v in dataset_d.items():\n",
    "    print('{: >10}{: >15.2f}{: >15.3f}{: >15.2f}{: >15.3f}'.format(k, v['spearman_correlation_jac'], v['pval_jac'], v['spearman_correlation_hu'], v['pval_hu']))"
   ]
  },
  {
   "cell_type": "code",
   "execution_count": 7,
   "metadata": {},
   "outputs": [],
   "source": [
    "spearman_dir = []\n",
    "spearman_dir.append([value['spearman_correlation_jac'] for key, value in dataset_d.items()])\n",
    "spearman_dir.append([value['spearman_correlation_hu'] for key, value in dataset_d.items()])"
   ]
  },
  {
   "cell_type": "code",
   "execution_count": 8,
   "metadata": {},
   "outputs": [
    {
     "name": "stdout",
     "output_type": "stream",
     "text": [
      "spearman Jac mean = 0.66 (0.19 to 0.79)\n",
      "spearman HU mean = 0.62 (0.14 to 0.80)\n"
     ]
    }
   ],
   "source": [
    "print('spearman Jac mean = {:0.2f} ({:0.2f} to {:0.2f})'.format(np.mean(spearman_dir[0]), np.min(spearman_dir[0]), np.max(spearman_dir[0])))\n",
    "print('spearman HU mean = {:0.2f} ({:0.2f} to {:0.2f})'.format(np.mean(spearman_dir[1]), np.min(spearman_dir[1]), np.max(spearman_dir[1])))"
   ]
  },
  {
   "cell_type": "code",
   "execution_count": 9,
   "metadata": {},
   "outputs": [],
   "source": [
    "import pandas as pd\n",
    "rows_l = []\n",
    "for patient_id in dataset_d.keys():\n",
    "    patient_d = dataset_d[patient_id]\n",
    "    for model in ['spearman_correlation_jac','spearman_correlation_hu']:\n",
    "        d = {'patient_id':patient_id}\n",
    "        d['model'] = model\n",
    "        d['spearman'] = patient_d[model]\n",
    "        rows_l.append(d)\n",
    "analysis_df = pd.DataFrame(rows_l)"
   ]
  },
  {
   "cell_type": "code",
   "execution_count": 10,
   "metadata": {},
   "outputs": [],
   "source": [
    "def box_outliers(series):\n",
    "    Q1 = series.quantile(0.25)\n",
    "    Q3 = series.quantile(0.75)\n",
    "    IQR = Q3 - Q1\n",
    "    mask = (series < Q1 - 1.5 * IQR) | (series > Q3 + 1.5 * IQR)\n",
    "    series = series[mask]\n",
    "    return series"
   ]
  },
  {
   "cell_type": "code",
   "execution_count": 11,
   "metadata": {},
   "outputs": [],
   "source": [
    "params = {}\n",
    "params['font.size'] = 18\n",
    "params['figure.dpi'] = 150\n",
    "params['figure.figsize'] = 4,7\n",
    "\n",
    "plt.rcParams.update(params)"
   ]
  },
  {
   "cell_type": "code",
   "execution_count": 12,
   "metadata": {},
   "outputs": [],
   "source": [
    "label_offsets = {'spearman_correlation_jac':-0.15, 'spearman_correlation_hu':0.25}\n",
    "plot_x = {'spearman_correlation_jac':0, 'spearman_correlation_hu':1}"
   ]
  },
  {
   "cell_type": "code",
   "execution_count": 13,
   "metadata": {},
   "outputs": [],
   "source": [
    "analysis_df.replace({'model': {'spearman_correlation_jac': 'Jac', 'spearman_correlation_hu': 'HU'}}, inplace=True)"
   ]
  },
  {
   "cell_type": "code",
   "execution_count": 14,
   "metadata": {},
   "outputs": [
    {
     "name": "stdout",
     "output_type": "stream",
     "text": [
      "saved figure to /home/daryl/figures/ctvi-dir-spearman-boxplot.svg\n"
     ]
    },
    {
     "data": {
      "image/png": "[encoded data removed]",
      "text/plain": [
       "<Figure size 600x1050 with 1 Axes>"
      ]
     },
     "metadata": {},
     "output_type": "display_data"
    }
   ],
   "source": [
    "import seaborn as sns\n",
    "sns.set_theme(style=\"ticks\", palette=\"pastel\")\n",
    "\n",
    "bp = sns.boxplot(x=\"model\", y=\"spearman\",\n",
    "                 hue=\"model\", palette=['deepskyblue','mediumorchid'], \n",
    "                 flierprops=dict(markerfacecolor='lightgrey', marker='x', markeredgecolor='grey'),\n",
    "                 medianprops={\"color\": \"lightgray\", \"linewidth\": 1}, \n",
    "                 meanprops=dict(markerfacecolor='lawngreen', marker='D', markeredgecolor='yellowgreen'),\n",
    "                 saturation=1.0, \n",
    "                 showmeans=True,\n",
    "                 legend=False,\n",
    "                 data=analysis_df)\n",
    "\n",
    "# label the outliers\n",
    "for model_idx,model in enumerate(['Jac','HU']):\n",
    "    df = analysis_df[(analysis_df['model'] == model)]\n",
    "    outliers = box_outliers(df.spearman)\n",
    "    for o in outliers:\n",
    "        patient_id = df.iloc[(df['spearman'] - o).abs().argsort()[:1]].patient_id.iloc[0]\n",
    "        plt.text(model_idx+0.07, o, 'P{:02d}'.format(patient_id), ha='left', va='center', fontsize=12, color='grey')\n",
    "\n",
    "_ = bp.set_xlabel('DIR-based CTVI')\n",
    "_ = bp.set_ylabel('Spearman correlation')\n",
    "_ = bp.set_xticks([0, 1])\n",
    "_ = bp.set_xticklabels([r'CTVI$_\\text{Jac}$', r'CTVI$_\\text{HU}$'])\n",
    "\n",
    "fig_filename = '{}/figures/ctvi-dir-spearman-boxplot.svg'.format(expanduser('~'))\n",
    "plt.savefig(fig_filename, format='svg', dpi=600, bbox_inches='tight')\n",
    "print('saved figure to {}'.format(fig_filename))"
   ]
  },
  {
   "cell_type": "markdown",
   "metadata": {},
   "source": [
    "#### reduce the patient set to match the Eslick paper"
   ]
  },
  {
   "cell_type": "code",
   "execution_count": 15,
   "metadata": {},
   "outputs": [],
   "source": [
    "analysis_df.drop(analysis_df.loc[analysis_df['patient_id']==2].index, inplace=True)\n",
    "analysis_df.drop(analysis_df.loc[analysis_df['patient_id']==3].index, inplace=True)\n",
    "analysis_df.drop(analysis_df.loc[analysis_df['patient_id']==19].index, inplace=True)\n",
    "analysis_df.drop(analysis_df.loc[analysis_df['patient_id']==20].index, inplace=True)"
   ]
  },
  {
   "cell_type": "code",
   "execution_count": 16,
   "metadata": {},
   "outputs": [
    {
     "name": "stdout",
     "output_type": "stream",
     "text": [
      "saved figure to /home/daryl/figures/ctvi-dir-spearman-eslick-boxplot.svg\n"
     ]
    },
    {
     "data": {
      "image/png": "[encoded data removed]",
      "text/plain": [
       "<Figure size 600x1050 with 1 Axes>"
      ]
     },
     "metadata": {},
     "output_type": "display_data"
    }
   ],
   "source": [
    "import seaborn as sns\n",
    "sns.set_theme(style=\"ticks\", palette=\"pastel\")\n",
    "\n",
    "bp = sns.boxplot(x=\"model\", y=\"spearman\",\n",
    "                 hue=\"model\", palette=['deepskyblue','mediumorchid'], \n",
    "                 flierprops=dict(markerfacecolor='lightgrey', marker='x', markeredgecolor='grey'),\n",
    "                 medianprops={\"color\": \"lightgray\", \"linewidth\": 1}, \n",
    "                 meanprops=dict(markerfacecolor='lawngreen', marker='D', markeredgecolor='yellowgreen'),\n",
    "                 saturation=1.0, \n",
    "                 showmeans=True,\n",
    "                 legend=False,\n",
    "                 data=analysis_df)\n",
    "\n",
    "# label the outliers\n",
    "for model_idx,model in enumerate(['Jac','HU']):\n",
    "    df = analysis_df[(analysis_df['model'] == model)]\n",
    "    outliers = box_outliers(df.spearman)\n",
    "    for o in outliers:\n",
    "        patient_id = df.iloc[(df['spearman'] - o).abs().argsort()[:1]].patient_id.iloc[0]\n",
    "        plt.text(model_idx+0.07, o, 'P{:02d}'.format(patient_id), ha='left', va='center', fontsize=12, color='grey')\n",
    "\n",
    "_ = bp.set_xlabel('DIR-based CTVI')\n",
    "_ = bp.set_ylabel('Spearman correlation')\n",
    "_ = bp.set_xticks([0, 1])\n",
    "_ = bp.set_xticklabels([r'CTVI$_\\text{Jac}$', r'CTVI$_\\text{HU}$'])\n",
    "\n",
    "fig_filename = '{}/figures/ctvi-dir-spearman-eslick-boxplot.svg'.format(expanduser('~'))\n",
    "plt.savefig(fig_filename, format='svg', dpi=600, bbox_inches='tight')\n",
    "print('saved figure to {}'.format(fig_filename))"
   ]
  },
  {
   "cell_type": "code",
   "execution_count": 18,
   "metadata": {},
   "outputs": [
    {
     "data": {
      "text/html": [
       "<div>\n",
       "<style scoped>\n",
       "    .dataframe tbody tr th:only-of-type {\n",
       "        vertical-align: middle;\n",
       "    }\n",
       "\n",
       "    .dataframe tbody tr th {\n",
       "        vertical-align: top;\n",
       "    }\n",
       "\n",
       "    .dataframe thead th {\n",
       "        text-align: right;\n",
       "    }\n",
       "</style>\n",
       "<table border=\"1\" class=\"dataframe\">\n",
       "  <thead>\n",
       "    <tr style=\"text-align: right;\">\n",
       "      <th></th>\n",
       "      <th>patient_id</th>\n",
       "      <th>model</th>\n",
       "      <th>spearman</th>\n",
       "    </tr>\n",
       "  </thead>\n",
       "  <tbody>\n",
       "    <tr>\n",
       "      <th>0</th>\n",
       "      <td>1</td>\n",
       "      <td>Jac</td>\n",
       "      <td>0.699620</td>\n",
       "    </tr>\n",
       "    <tr>\n",
       "      <th>1</th>\n",
       "      <td>1</td>\n",
       "      <td>HU</td>\n",
       "      <td>0.803947</td>\n",
       "    </tr>\n",
       "    <tr>\n",
       "      <th>6</th>\n",
       "      <td>4</td>\n",
       "      <td>Jac</td>\n",
       "      <td>0.741424</td>\n",
       "    </tr>\n",
       "    <tr>\n",
       "      <th>7</th>\n",
       "      <td>4</td>\n",
       "      <td>HU</td>\n",
       "      <td>0.611647</td>\n",
       "    </tr>\n",
       "    <tr>\n",
       "      <th>8</th>\n",
       "      <td>5</td>\n",
       "      <td>Jac</td>\n",
       "      <td>0.729126</td>\n",
       "    </tr>\n",
       "    <tr>\n",
       "      <th>9</th>\n",
       "      <td>5</td>\n",
       "      <td>HU</td>\n",
       "      <td>0.697088</td>\n",
       "    </tr>\n",
       "    <tr>\n",
       "      <th>10</th>\n",
       "      <td>6</td>\n",
       "      <td>Jac</td>\n",
       "      <td>0.701959</td>\n",
       "    </tr>\n",
       "    <tr>\n",
       "      <th>11</th>\n",
       "      <td>6</td>\n",
       "      <td>HU</td>\n",
       "      <td>0.670938</td>\n",
       "    </tr>\n",
       "    <tr>\n",
       "      <th>12</th>\n",
       "      <td>7</td>\n",
       "      <td>Jac</td>\n",
       "      <td>0.721689</td>\n",
       "    </tr>\n",
       "    <tr>\n",
       "      <th>13</th>\n",
       "      <td>7</td>\n",
       "      <td>HU</td>\n",
       "      <td>0.486544</td>\n",
       "    </tr>\n",
       "    <tr>\n",
       "      <th>14</th>\n",
       "      <td>8</td>\n",
       "      <td>Jac</td>\n",
       "      <td>0.728489</td>\n",
       "    </tr>\n",
       "    <tr>\n",
       "      <th>15</th>\n",
       "      <td>8</td>\n",
       "      <td>HU</td>\n",
       "      <td>0.662795</td>\n",
       "    </tr>\n",
       "    <tr>\n",
       "      <th>16</th>\n",
       "      <td>9</td>\n",
       "      <td>Jac</td>\n",
       "      <td>0.620404</td>\n",
       "    </tr>\n",
       "    <tr>\n",
       "      <th>17</th>\n",
       "      <td>9</td>\n",
       "      <td>HU</td>\n",
       "      <td>0.592816</td>\n",
       "    </tr>\n",
       "    <tr>\n",
       "      <th>18</th>\n",
       "      <td>10</td>\n",
       "      <td>Jac</td>\n",
       "      <td>0.722387</td>\n",
       "    </tr>\n",
       "    <tr>\n",
       "      <th>19</th>\n",
       "      <td>10</td>\n",
       "      <td>HU</td>\n",
       "      <td>0.644623</td>\n",
       "    </tr>\n",
       "    <tr>\n",
       "      <th>20</th>\n",
       "      <td>11</td>\n",
       "      <td>Jac</td>\n",
       "      <td>0.731804</td>\n",
       "    </tr>\n",
       "    <tr>\n",
       "      <th>21</th>\n",
       "      <td>11</td>\n",
       "      <td>HU</td>\n",
       "      <td>0.656608</td>\n",
       "    </tr>\n",
       "    <tr>\n",
       "      <th>22</th>\n",
       "      <td>12</td>\n",
       "      <td>Jac</td>\n",
       "      <td>0.789603</td>\n",
       "    </tr>\n",
       "    <tr>\n",
       "      <th>23</th>\n",
       "      <td>12</td>\n",
       "      <td>HU</td>\n",
       "      <td>0.701396</td>\n",
       "    </tr>\n",
       "    <tr>\n",
       "      <th>24</th>\n",
       "      <td>13</td>\n",
       "      <td>Jac</td>\n",
       "      <td>0.185776</td>\n",
       "    </tr>\n",
       "    <tr>\n",
       "      <th>25</th>\n",
       "      <td>13</td>\n",
       "      <td>HU</td>\n",
       "      <td>0.422981</td>\n",
       "    </tr>\n",
       "    <tr>\n",
       "      <th>26</th>\n",
       "      <td>14</td>\n",
       "      <td>Jac</td>\n",
       "      <td>0.783120</td>\n",
       "    </tr>\n",
       "    <tr>\n",
       "      <th>27</th>\n",
       "      <td>14</td>\n",
       "      <td>HU</td>\n",
       "      <td>0.717362</td>\n",
       "    </tr>\n",
       "    <tr>\n",
       "      <th>28</th>\n",
       "      <td>15</td>\n",
       "      <td>Jac</td>\n",
       "      <td>0.702028</td>\n",
       "    </tr>\n",
       "    <tr>\n",
       "      <th>29</th>\n",
       "      <td>15</td>\n",
       "      <td>HU</td>\n",
       "      <td>0.616043</td>\n",
       "    </tr>\n",
       "    <tr>\n",
       "      <th>30</th>\n",
       "      <td>16</td>\n",
       "      <td>Jac</td>\n",
       "      <td>0.783907</td>\n",
       "    </tr>\n",
       "    <tr>\n",
       "      <th>31</th>\n",
       "      <td>16</td>\n",
       "      <td>HU</td>\n",
       "      <td>0.781393</td>\n",
       "    </tr>\n",
       "    <tr>\n",
       "      <th>32</th>\n",
       "      <td>17</td>\n",
       "      <td>Jac</td>\n",
       "      <td>0.606850</td>\n",
       "    </tr>\n",
       "    <tr>\n",
       "      <th>33</th>\n",
       "      <td>17</td>\n",
       "      <td>HU</td>\n",
       "      <td>0.587305</td>\n",
       "    </tr>\n",
       "    <tr>\n",
       "      <th>34</th>\n",
       "      <td>18</td>\n",
       "      <td>Jac</td>\n",
       "      <td>0.765939</td>\n",
       "    </tr>\n",
       "    <tr>\n",
       "      <th>35</th>\n",
       "      <td>18</td>\n",
       "      <td>HU</td>\n",
       "      <td>0.756289</td>\n",
       "    </tr>\n",
       "  </tbody>\n",
       "</table>\n",
       "</div>"
      ],
      "text/plain": [
       "    patient_id model  spearman\n",
       "0            1   Jac  0.699620\n",
       "1            1    HU  0.803947\n",
       "6            4   Jac  0.741424\n",
       "7            4    HU  0.611647\n",
       "8            5   Jac  0.729126\n",
       "9            5    HU  0.697088\n",
       "10           6   Jac  0.701959\n",
       "11           6    HU  0.670938\n",
       "12           7   Jac  0.721689\n",
       "13           7    HU  0.486544\n",
       "14           8   Jac  0.728489\n",
       "15           8    HU  0.662795\n",
       "16           9   Jac  0.620404\n",
       "17           9    HU  0.592816\n",
       "18          10   Jac  0.722387\n",
       "19          10    HU  0.644623\n",
       "20          11   Jac  0.731804\n",
       "21          11    HU  0.656608\n",
       "22          12   Jac  0.789603\n",
       "23          12    HU  0.701396\n",
       "24          13   Jac  0.185776\n",
       "25          13    HU  0.422981\n",
       "26          14   Jac  0.783120\n",
       "27          14    HU  0.717362\n",
       "28          15   Jac  0.702028\n",
       "29          15    HU  0.616043\n",
       "30          16   Jac  0.783907\n",
       "31          16    HU  0.781393\n",
       "32          17   Jac  0.606850\n",
       "33          17    HU  0.587305\n",
       "34          18   Jac  0.765939\n",
       "35          18    HU  0.756289"
      ]
     },
     "execution_count": 18,
     "metadata": {},
     "output_type": "execute_result"
    }
   ],
   "source": [
    "analysis_df"
   ]
  },
  {
   "cell_type": "code",
   "execution_count": null,
   "metadata": {},
   "outputs": [],
   "source": []
  }
 ],
 "metadata": {
  "kernelspec": {
   "display_name": "Python 3 (ipykernel)",
   "language": "python",
   "name": "python3"
  },
  "language_info": {
   "codemirror_mode": {
    "name": "ipython",
    "version": 3
   },
   "file_extension": ".py",
   "mimetype": "text/x-python",
   "name": "python",
   "nbconvert_exporter": "python",
   "pygments_lexer": "ipython3",
   "version": "3.10.14"
  }
 },
 "nbformat": 4,
 "nbformat_minor": 4
}
