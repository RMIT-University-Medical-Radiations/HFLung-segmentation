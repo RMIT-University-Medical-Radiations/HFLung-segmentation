{
 "cells": [
  {
   "cell_type": "code",
   "execution_count": 1,
   "metadata": {},
   "outputs": [],
   "source": [
    "import os\n",
    "import sys\n",
    "import numpy as np\n",
    "import matplotlib\n",
    "import matplotlib.pyplot as plt\n",
    "import SimpleITK as sitk\n",
    "import skimage\n",
    "from os.path import expanduser\n",
    "import glob\n",
    "from matplotlib.ticker import MaxNLocator\n",
    "from scipy.stats import spearmanr\n",
    "import seg_metrics.seg_metrics as sg\n",
    "import pickle\n",
    "from skimage import exposure\n",
    "from scipy import ndimage\n",
    "import nibabel as nib\n",
    "from matplotlib.colors import ListedColormap\n",
    "import matplotlib.patches as mpatches"
   ]
  },
  {
   "cell_type": "code",
   "execution_count": 2,
   "metadata": {},
   "outputs": [
    {
     "name": "stdout",
     "output_type": "stream",
     "text": [
      "Python version: 3.10.13 (main, Sep 11 2023, 13:44:35) [GCC 11.2.0]\n",
      "Numpy version: 1.26.2\n",
      "Matplotlib version: 3.8.2\n",
      "SITK version: 2.3.1\n",
      "Scikit-image version: 0.22.0\n"
     ]
    }
   ],
   "source": [
    "print(\"Python version:\", sys.version)\n",
    "print(\"Numpy version:\", np.__version__)\n",
    "print(\"Matplotlib version:\", matplotlib.__version__)\n",
    "print(\"SITK version:\", sitk.__version__)\n",
    "print(\"Scikit-image version:\", skimage.__version__)"
   ]
  },
  {
   "cell_type": "code",
   "execution_count": 3,
   "metadata": {},
   "outputs": [],
   "source": [
    "PREPROCESSED_BASE_DIR = '/mnt/data/datasets/RNSH_HFlung/pre-processed-plastimatch'\n",
    "EVALUATION_DIR = '{}/evaluation'.format(PREPROCESSED_BASE_DIR)"
   ]
  },
  {
   "cell_type": "code",
   "execution_count": 4,
   "metadata": {},
   "outputs": [],
   "source": [
    "if not os.path.exists(EVALUATION_DIR):\n",
    "    os.makedirs(EVALUATION_DIR)"
   ]
  },
  {
   "cell_type": "code",
   "execution_count": 5,
   "metadata": {},
   "outputs": [],
   "source": [
    "DATASET_EVALUATION_FILE = '{}/evaluation-unquantised.pkl'.format(EVALUATION_DIR)\n",
    "\n",
    "if os.path.isfile(DATASET_EVALUATION_FILE):\n",
    "    with open(DATASET_EVALUATION_FILE, 'rb') as f:\n",
    "        dataset_d = pickle.load(f)"
   ]
  },
  {
   "cell_type": "code",
   "execution_count": 6,
   "metadata": {},
   "outputs": [
    {
     "name": "stdout",
     "output_type": "stream",
     "text": [
      "Patient ID   Spearman-Jac    p-value Jac    Spearman-HU     p-value HU\n",
      "         1           0.70          0.000           0.80          0.000\n",
      "         2           0.37          0.000           0.33          0.000\n",
      "         3           0.30          0.000           0.14          0.000\n",
      "         4           0.74          0.000           0.61          0.000\n",
      "         5           0.73          0.000           0.70          0.000\n",
      "         6           0.70          0.000           0.67          0.000\n",
      "         7           0.72          0.000           0.49          0.000\n",
      "         8           0.73          0.000           0.66          0.000\n",
      "         9           0.62          0.000           0.59          0.000\n",
      "        10           0.72          0.000           0.64          0.000\n",
      "        11           0.73          0.000           0.66          0.000\n",
      "        12           0.79          0.000           0.70          0.000\n",
      "        13           0.19          0.000           0.42          0.000\n",
      "        14           0.78          0.000           0.72          0.000\n",
      "        15           0.70          0.000           0.62          0.000\n",
      "        16           0.78          0.000           0.78          0.000\n",
      "        17           0.61          0.000           0.59          0.000\n",
      "        18           0.77          0.000           0.76          0.000\n",
      "        19           0.68          0.000           0.73          0.000\n",
      "        20           0.79          0.000           0.70          0.000\n"
     ]
    }
   ],
   "source": [
    "print('{: >10}{: >15}{: >15}{: >15}{: >15}'.format('Patient ID','Spearman-Jac','p-value Jac','Spearman-HU','p-value HU'))\n",
    "for k,v in dataset_d.items():\n",
    "    print('{: >10}{: >15.2f}{: >15.3f}{: >15.2f}{: >15.3f}'.format(k, v['spearman_correlation_jac'], v['pval_jac'], v['spearman_correlation_hu'], v['pval_hu']))"
   ]
  },
  {
   "cell_type": "code",
   "execution_count": 7,
   "metadata": {},
   "outputs": [],
   "source": [
    "spearman_dir = []\n",
    "spearman_dir.append([value['spearman_correlation_jac'] for key, value in dataset_d.items()])\n",
    "spearman_dir.append([value['spearman_correlation_hu'] for key, value in dataset_d.items()])"
   ]
  },
  {
   "cell_type": "code",
   "execution_count": 8,
   "metadata": {},
   "outputs": [
    {
     "name": "stdout",
     "output_type": "stream",
     "text": [
      "spearman Jac mean = 0.66 (0.19 to 0.79)\n",
      "spearman HU mean = 0.62 (0.14 to 0.80)\n"
     ]
    }
   ],
   "source": [
    "print('spearman Jac mean = {:0.2f} ({:0.2f} to {:0.2f})'.format(np.mean(spearman_dir[0]), np.min(spearman_dir[0]), np.max(spearman_dir[0])))\n",
    "print('spearman HU mean = {:0.2f} ({:0.2f} to {:0.2f})'.format(np.mean(spearman_dir[1]), np.min(spearman_dir[1]), np.max(spearman_dir[1])))"
   ]
  },
  {
   "cell_type": "code",
   "execution_count": 9,
   "metadata": {},
   "outputs": [],
   "source": [
    "import pandas as pd\n",
    "rows_l = []\n",
    "for patient_id in dataset_d.keys():\n",
    "    patient_d = dataset_d[patient_id]\n",
    "    for model in ['spearman_correlation_jac','spearman_correlation_hu']:\n",
    "        d = {'patient_id':patient_id}\n",
    "        d['model'] = model\n",
    "        d['spearman'] = patient_d[model]\n",
    "        rows_l.append(d)\n",
    "analysis_df = pd.DataFrame(rows_l)"
   ]
  },
  {
   "cell_type": "code",
   "execution_count": 10,
   "metadata": {},
   "outputs": [],
   "source": [
    "def box_outliers(series):\n",
    "    Q1 = series.quantile(0.25)\n",
    "    Q3 = series.quantile(0.75)\n",
    "    IQR = Q3 - Q1\n",
    "    mask = (series < Q1 - 1.5 * IQR) | (series > Q3 + 1.5 * IQR)\n",
    "    series = series[mask]\n",
    "    return series"
   ]
  },
  {
   "cell_type": "code",
   "execution_count": 11,
   "metadata": {},
   "outputs": [],
   "source": [
    "params = {}\n",
    "params['font.size'] = 18\n",
    "params['figure.dpi'] = 150\n",
    "params['figure.figsize'] = 4,7\n",
    "\n",
    "plt.rcParams.update(params)"
   ]
  },
  {
   "cell_type": "code",
   "execution_count": 12,
   "metadata": {},
   "outputs": [],
   "source": [
    "label_offsets = {'spearman_correlation_jac':-0.15, 'spearman_correlation_hu':0.25}\n",
    "plot_x = {'spearman_correlation_jac':0, 'spearman_correlation_hu':1}"
   ]
  },
  {
   "cell_type": "code",
   "execution_count": 13,
   "metadata": {},
   "outputs": [],
   "source": [
    "analysis_df.replace({'model': {'spearman_correlation_jac': 'Jac', 'spearman_correlation_hu': 'HU'}}, inplace=True)"
   ]
  },
  {
   "cell_type": "code",
   "execution_count": 15,
   "metadata": {},
   "outputs": [
    {
     "name": "stdout",
     "output_type": "stream",
     "text": [
      "saved figure to /home/daryl/figures/ctvi-dir-spearman-boxplot.svg\n"
     ]
    },
    {
     "data": {
      "image/png": "[encoded data removed]",
      "text/plain": [
       "<Figure size 600x1050 with 1 Axes>"
      ]
     },
     "metadata": {},
     "output_type": "display_data"
    }
   ],
   "source": [
    "import seaborn as sns\n",
    "sns.set_theme(style=\"ticks\", palette=\"pastel\")\n",
    "\n",
    "bp = sns.boxplot(x=\"model\", y=\"spearman\",\n",
    "                 hue=\"model\", palette=['deepskyblue','mediumorchid'], \n",
    "                 flierprops=dict(markerfacecolor='lightgrey', marker='x', markeredgecolor='grey'),\n",
    "                 medianprops={\"color\": \"lightgray\", \"linewidth\": 1}, \n",
    "                 meanprops=dict(markerfacecolor='lawngreen', marker='D', markeredgecolor='yellowgreen'),\n",
    "                 saturation=1.0, \n",
    "                 showmeans=True,\n",
    "                 legend=False,\n",
    "                 data=analysis_df)\n",
    "\n",
    "# label the outliers\n",
    "for model_idx,model in enumerate(['Jac','HU']):\n",
    "    df = analysis_df[(analysis_df['model'] == model)]\n",
    "    outliers = box_outliers(df.spearman)\n",
    "    for o in outliers:\n",
    "        patient_id = df.iloc[(df['spearman'] - o).abs().argsort()[:1]].patient_id.iloc[0]\n",
    "        plt.text(model_idx+0.07, o, 'P{:02d}'.format(patient_id), ha='left', va='center', fontsize=12, color='grey')\n",
    "\n",
    "_ = bp.set_xlabel('DIR-based CTVI')\n",
    "_ = bp.set_ylabel('Spearman correlation')\n",
    "_ = bp.set_xticks([0, 1])\n",
    "_ = bp.set_xticklabels([r'CTVI$_\\text{Jac}$', r'CTVI$_\\text{HU}$'])\n",
    "\n",
    "fig_filename = '{}/figures/ctvi-dir-spearman-boxplot.svg'.format(expanduser('~'))\n",
    "plt.savefig(fig_filename, format='svg', dpi=600, bbox_inches='tight')\n",
    "print('saved figure to {}'.format(fig_filename))"
   ]
  },
  {
   "cell_type": "code",
   "execution_count": null,
   "metadata": {},
   "outputs": [],
   "source": []
  }
 ],
 "metadata": {
  "kernelspec": {
   "display_name": "Python 3 (ipykernel)",
   "language": "python",
   "name": "python3"
  },
  "language_info": {
   "codemirror_mode": {
    "name": "ipython",
    "version": 3
   },
   "file_extension": ".py",
   "mimetype": "text/x-python",
   "name": "python",
   "nbconvert_exporter": "python",
   "pygments_lexer": "ipython3",
   "version": "3.10.13"
  }
 },
 "nbformat": 4,
 "nbformat_minor": 4
}
