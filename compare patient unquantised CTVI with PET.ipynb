{
 "cells": [
  {
   "cell_type": "markdown",
   "metadata": {},
   "source": [
    "### run this notebook for each patient following Plastimatch DIR and calculation of the Jacobian determinant"
   ]
  },
  {
   "cell_type": "code",
   "execution_count": 1,
   "metadata": {},
   "outputs": [],
   "source": [
    "import os\n",
    "import sys\n",
    "import numpy as np\n",
    "import matplotlib\n",
    "import matplotlib.pyplot as plt\n",
    "import SimpleITK as sitk\n",
    "import skimage\n",
    "from os.path import expanduser\n",
    "import glob\n",
    "from matplotlib.ticker import MaxNLocator\n",
    "from scipy.stats import spearmanr\n",
    "import seg_metrics.seg_metrics as sg\n",
    "import pickle\n",
    "from skimage import exposure\n",
    "from scipy import ndimage\n",
    "import nibabel as nib\n",
    "from matplotlib.colors import ListedColormap\n",
    "import matplotlib.patches as mpatches\n",
    "from matplotlib import colors\n",
    "from matplotlib import cm"
   ]
  },
  {
   "cell_type": "code",
   "execution_count": 2,
   "metadata": {},
   "outputs": [
    {
     "name": "stdout",
     "output_type": "stream",
     "text": [
      "Python version: 3.10.13 (main, Sep 11 2023, 13:44:35) [GCC 11.2.0]\n",
      "Numpy version: 1.26.2\n",
      "Matplotlib version: 3.8.2\n",
      "SITK version: 2.3.1\n",
      "Scikit-image version: 0.22.0\n"
     ]
    }
   ],
   "source": [
    "print(\"Python version:\", sys.version)\n",
    "print(\"Numpy version:\", np.__version__)\n",
    "print(\"Matplotlib version:\", matplotlib.__version__)\n",
    "print(\"SITK version:\", sitk.__version__)\n",
    "print(\"Scikit-image version:\", skimage.__version__)"
   ]
  },
  {
   "cell_type": "code",
   "execution_count": 3,
   "metadata": {
    "editable": true,
    "slideshow": {
     "slide_type": ""
    },
    "tags": [
     "parameters"
    ]
   },
   "outputs": [],
   "source": [
    "patient_id = 14"
   ]
  },
  {
   "cell_type": "code",
   "execution_count": 4,
   "metadata": {},
   "outputs": [],
   "source": [
    "PREPROCESSED_BASE_DIR = '/mnt/data/datasets/RNSH_HFlung/pre-processed-plastimatch'\n",
    "PREPROCESSED_MHA_DIR = '{}/mha/Patient{:02d}'.format(PREPROCESSED_BASE_DIR, patient_id)\n",
    "PREPROCESSED_STACK_DIR = '{}/stack'.format(PREPROCESSED_BASE_DIR)"
   ]
  },
  {
   "cell_type": "markdown",
   "metadata": {},
   "source": [
    "#### load the Jacobian determinant and calculate the CTVI-Jac"
   ]
  },
  {
   "cell_type": "code",
   "execution_count": 5,
   "metadata": {},
   "outputs": [
    {
     "name": "stderr",
     "output_type": "stream",
     "text": [
      "/home/daryl/miniconda3/envs/py310/lib/python3.10/site-packages/outdated/utils.py:14: OutdatedPackageWarning: The package pingouin is out of date. Your version is 0.5.3, the latest is 0.5.4.\n",
      "Set the environment variable OUTDATED_IGNORE=1 to disable these warnings.\n",
      "  return warn(\n"
     ]
    }
   ],
   "source": [
    "# load images from the Plastimatch (pm) processing\n",
    "pm_exhale_im = sitk.ReadImage('{}/phase-exhale-nomask.mha'.format(PREPROCESSED_MHA_DIR))\n",
    "pm_inhale_im = sitk.ReadImage('{}/phase-inhale-nomask.mha'.format(PREPROCESSED_MHA_DIR))\n",
    "pm_mask_im = sitk.ReadImage('{}/mask-union.mha'.format(PREPROCESSED_MHA_DIR))\n",
    "\n",
    "pm_exhale_arr = sitk.GetArrayFromImage(pm_exhale_im)\n",
    "pm_inhale_arr = sitk.GetArrayFromImage(pm_inhale_im)\n",
    "pm_mask_arr = sitk.GetArrayFromImage(pm_mask_im).astype(bool)\n",
    "\n",
    "jacobian_det_im = sitk.ReadImage('{}/vf_jac.mha'.format(PREPROCESSED_MHA_DIR))\n",
    "jacobian_det_arr = sitk.GetArrayFromImage(jacobian_det_im)"
   ]
  },
  {
   "cell_type": "code",
   "execution_count": 6,
   "metadata": {},
   "outputs": [
    {
     "data": {
      "text/plain": [
       "(167, 512, 512)"
      ]
     },
     "execution_count": 6,
     "metadata": {},
     "output_type": "execute_result"
    }
   ],
   "source": [
    "jacobian_det_arr.shape"
   ]
  },
  {
   "cell_type": "code",
   "execution_count": 7,
   "metadata": {},
   "outputs": [
    {
     "name": "stdout",
     "output_type": "stream",
     "text": [
      "proportion of voxels with negative values in Jacobian determinant = 0.0\n"
     ]
    }
   ],
   "source": [
    "prop = np.sum(np.array(jacobian_det_arr[pm_mask_arr]) < 0) / len(jacobian_det_arr[pm_mask_arr].ravel())\n",
    "print('proportion of voxels with negative values in Jacobian determinant = {}'.format(round(prop, 2)))"
   ]
  },
  {
   "cell_type": "code",
   "execution_count": 8,
   "metadata": {},
   "outputs": [],
   "source": [
    "ctvi_jac_arr = jacobian_det_arr-1.0\n",
    "ctvi_jac_arr[~pm_mask_arr] = np.min(ctvi_jac_arr)\n",
    "ctvi_jac_im = sitk.GetImageFromArray(ctvi_jac_arr)\n",
    "\n",
    "# set the spacing and origin in the CTVI-Jac image\n",
    "ctvi_jac_im.SetSpacing(jacobian_det_im.GetSpacing())\n",
    "ctvi_jac_im.SetOrigin(jacobian_det_im.GetOrigin())"
   ]
  },
  {
   "cell_type": "code",
   "execution_count": 9,
   "metadata": {},
   "outputs": [
    {
     "data": {
      "text/plain": [
       "((512, 512, 167),\n",
       " (0.9765625, 0.9765625, 1.7999999523162842),\n",
       " (-249.51171875, -451.51171875, -527.0))"
      ]
     },
     "execution_count": 9,
     "metadata": {},
     "output_type": "execute_result"
    }
   ],
   "source": [
    "ctvi_jac_im.GetSize(), ctvi_jac_im.GetSpacing(), ctvi_jac_im.GetOrigin()"
   ]
  },
  {
   "cell_type": "markdown",
   "metadata": {},
   "source": [
    "#### load the deformably registered inhalation image and calculate the CTVI-HU"
   ]
  },
  {
   "cell_type": "code",
   "execution_count": 10,
   "metadata": {},
   "outputs": [],
   "source": [
    "# load images from the Plastimatch (pm) processing\n",
    "pm_deformed_inhale_im = sitk.ReadImage('{}/deformed.mha'.format(PREPROCESSED_MHA_DIR))\n",
    "pm_deformed_inhale_arr = sitk.GetArrayFromImage(pm_deformed_inhale_im)"
   ]
  },
  {
   "cell_type": "code",
   "execution_count": 11,
   "metadata": {},
   "outputs": [],
   "source": [
    "# set all voxels to zero if there are not greater than zero\n",
    "pm_exhale_arr = np.where((pm_exhale_arr>0), 0 , pm_exhale_arr)\n",
    "pm_deformed_inhale_arr = np.where((pm_deformed_inhale_arr>0), 0 , pm_deformed_inhale_arr)\n",
    "\n",
    "# apply the mask to the images\n",
    "pm_exhale_arr = np.where((pm_mask_arr==True), pm_exhale_arr, 0)\n",
    "pm_deformed_inhale_arr = np.where((pm_mask_arr==True), pm_deformed_inhale_arr, 0)"
   ]
  },
  {
   "cell_type": "code",
   "execution_count": 12,
   "metadata": {},
   "outputs": [],
   "source": [
    "# rescale for air and water\n",
    "airHU = -1000. + 1\n",
    "waterHU = 0.\n",
    "\n",
    "pm_exhale_arr = exposure.rescale_intensity(pm_exhale_arr, in_range='image', out_range=(airHU, waterHU))\n",
    "pm_deformed_inhale_arr = exposure.rescale_intensity(pm_deformed_inhale_arr, in_range='image', out_range=(airHU, waterHU))"
   ]
  },
  {
   "cell_type": "code",
   "execution_count": 13,
   "metadata": {},
   "outputs": [],
   "source": [
    "tissue_density_scaling_factor_arr = (pm_exhale_arr + 1000) / 1000\n",
    "ctvi_hu_arr = (pm_exhale_arr - pm_deformed_inhale_arr) / (pm_deformed_inhale_arr + 1000) * tissue_density_scaling_factor_arr\n",
    "ctvi_hu_im = sitk.GetImageFromArray(ctvi_hu_arr)\n",
    "\n",
    "# set the spacing and origin in the CTVI-Jac image\n",
    "ctvi_hu_im.SetSpacing(pm_exhale_im.GetSpacing())\n",
    "ctvi_hu_im.SetOrigin(pm_exhale_im.GetOrigin())"
   ]
  },
  {
   "cell_type": "code",
   "execution_count": 14,
   "metadata": {},
   "outputs": [
    {
     "data": {
      "text/plain": [
       "((512, 512, 167),\n",
       " (0.9765625, 0.9765625, 1.7999999999999998),\n",
       " (-249.51171875, -451.51171875, -527.0))"
      ]
     },
     "execution_count": 14,
     "metadata": {},
     "output_type": "execute_result"
    }
   ],
   "source": [
    "ctvi_hu_im.GetSize(), ctvi_hu_im.GetSpacing(), ctvi_hu_im.GetOrigin()"
   ]
  },
  {
   "cell_type": "markdown",
   "metadata": {},
   "source": [
    "#### resample, crop, & pad the CTVI-Jac so we can make a comparison with model predictions"
   ]
  },
  {
   "cell_type": "code",
   "execution_count": 15,
   "metadata": {},
   "outputs": [],
   "source": [
    "# Resampling the images into (1,1,1)mm voxel size. Can use nearest neighbour for interpolation (default is B-spline). \n",
    "def resample_image(itk_image, out_spacing=(1.0, 1.0, 1.0), is_label=False):\n",
    "    original_spacing = itk_image.GetSpacing()\n",
    "    original_size = itk_image.GetSize()\n",
    "\n",
    "    out_size = [int(np.round(original_size[0] * (original_spacing[0] / out_spacing[0]))),\n",
    "        int(np.round(original_size[1] * (original_spacing[1] / out_spacing[1]))),\n",
    "        int(np.round(original_size[2] * (original_spacing[2] / out_spacing[2])))]\n",
    "\n",
    "    resample = sitk.ResampleImageFilter()\n",
    "    resample.SetOutputSpacing(out_spacing)\n",
    "    resample.SetSize(out_size)\n",
    "    resample.SetOutputDirection(itk_image.GetDirection())\n",
    "    resample.SetOutputOrigin(itk_image.GetOrigin())\n",
    "    resample.SetTransform(sitk.Transform())\n",
    "    resample.SetDefaultPixelValue(itk_image.GetPixelIDValue())\n",
    "\n",
    "    if is_label:\n",
    "        resample.SetInterpolator(sitk.sitkNearestNeighbor)\n",
    "    else:\n",
    "        resample.SetInterpolator(sitk.sitkBSpline)\n",
    "\n",
    "    return resample.Execute(itk_image)"
   ]
  },
  {
   "cell_type": "code",
   "execution_count": 16,
   "metadata": {},
   "outputs": [],
   "source": [
    "ctvi_jac_im = resample_image(ctvi_jac_im)\n",
    "ctvi_hu_im = resample_image(ctvi_hu_im)"
   ]
  },
  {
   "cell_type": "code",
   "execution_count": 17,
   "metadata": {},
   "outputs": [],
   "source": [
    "# convert back into numpy array after resampling\n",
    "ctvi_jac_arr = sitk.GetArrayFromImage(ctvi_jac_im)\n",
    "ctvi_hu_arr = sitk.GetArrayFromImage(ctvi_hu_im)"
   ]
  },
  {
   "cell_type": "code",
   "execution_count": 18,
   "metadata": {},
   "outputs": [
    {
     "data": {
      "text/plain": [
       "((301, 500, 500), (301, 500, 500))"
      ]
     },
     "execution_count": 18,
     "metadata": {},
     "output_type": "execute_result"
    }
   ],
   "source": [
    "ctvi_jac_arr.shape, ctvi_hu_arr.shape"
   ]
  },
  {
   "cell_type": "code",
   "execution_count": 19,
   "metadata": {},
   "outputs": [],
   "source": [
    "TARGET_SIZE_X = 320\n",
    "TARGET_SIZE_Y = 320\n",
    "TARGET_SIZE_Z = 300"
   ]
  },
  {
   "cell_type": "code",
   "execution_count": 20,
   "metadata": {},
   "outputs": [
    {
     "data": {
      "text/plain": [
       "(300, 320, 320)"
      ]
     },
     "execution_count": 20,
     "metadata": {},
     "output_type": "execute_result"
    }
   ],
   "source": [
    "# pad CTVI-Jac z axis if needed\n",
    "if ctvi_jac_arr.shape[0] < TARGET_SIZE_Z:\n",
    "    pad_slices = TARGET_SIZE_Z - ctvi_jac_arr.shape[0]\n",
    "    ctvi_jac_arr = np.pad(ctvi_jac_arr, pad_width=((0,pad_slices),(0,0),(0,0)), mode='constant', constant_values=np.min(ctvi_jac_arr))  # pad at the back\n",
    "\n",
    "# crop x and y axes of CT\n",
    "crop_x_lower = int(np.round((ctvi_jac_arr.shape[2]-TARGET_SIZE_X)/2)); crop_x_upper = crop_x_lower+TARGET_SIZE_X\n",
    "crop_y_lower = int(np.round((ctvi_jac_arr.shape[1]-TARGET_SIZE_Y)/2)); crop_y_upper = crop_y_lower+TARGET_SIZE_Y\n",
    "crop_z_lower = int(np.round((ctvi_jac_arr.shape[0]-TARGET_SIZE_Z)/2)); crop_z_upper = crop_z_lower+TARGET_SIZE_Z\n",
    "\n",
    "ctvi_jac_arr = ctvi_jac_arr[crop_z_lower:crop_z_upper, crop_y_lower:crop_y_upper, crop_x_lower:crop_x_upper]\n",
    "\n",
    "ctvi_jac_arr.shape"
   ]
  },
  {
   "cell_type": "code",
   "execution_count": 21,
   "metadata": {},
   "outputs": [
    {
     "data": {
      "text/plain": [
       "(300, 320, 320)"
      ]
     },
     "execution_count": 21,
     "metadata": {},
     "output_type": "execute_result"
    }
   ],
   "source": [
    "# pad CTVI-HU z axis if needed\n",
    "if ctvi_hu_arr.shape[0] < TARGET_SIZE_Z:\n",
    "    pad_slices = TARGET_SIZE_Z - ctvi_hu_arr.shape[0]\n",
    "    ctvi_hu_arr = np.pad(ctvi_hu_arr, pad_width=((0,pad_slices),(0,0),(0,0)), mode='constant', constant_values=np.min(ctvi_hu_arr))  # pad at the back\n",
    "\n",
    "# crop x and y axes of CT\n",
    "crop_x_lower = int(np.round((ctvi_hu_arr.shape[2]-TARGET_SIZE_X)/2)); crop_x_upper = crop_x_lower+TARGET_SIZE_X\n",
    "crop_y_lower = int(np.round((ctvi_hu_arr.shape[1]-TARGET_SIZE_Y)/2)); crop_y_upper = crop_y_lower+TARGET_SIZE_Y\n",
    "crop_z_lower = int(np.round((ctvi_hu_arr.shape[0]-TARGET_SIZE_Z)/2)); crop_z_upper = crop_z_lower+TARGET_SIZE_Z\n",
    "\n",
    "ctvi_hu_arr = ctvi_hu_arr[crop_z_lower:crop_z_upper, crop_y_lower:crop_y_upper, crop_x_lower:crop_x_upper]\n",
    "\n",
    "ctvi_hu_arr.shape"
   ]
  },
  {
   "cell_type": "markdown",
   "metadata": {},
   "source": [
    "#### normalise the CTVIs"
   ]
  },
  {
   "cell_type": "code",
   "execution_count": 22,
   "metadata": {},
   "outputs": [],
   "source": [
    "ctvi_jac_arr = exposure.rescale_intensity(ctvi_jac_arr, in_range='image', out_range=(1e-3,1.))\n",
    "ctvi_hu_arr = exposure.rescale_intensity(ctvi_hu_arr, in_range='image', out_range=(1e-3,1.))"
   ]
  },
  {
   "cell_type": "markdown",
   "metadata": {},
   "source": [
    "#### apply a median filter"
   ]
  },
  {
   "cell_type": "code",
   "execution_count": null,
   "metadata": {},
   "outputs": [],
   "source": [
    "ctvi_jac_arr = ndimage.median_filter(ctvi_jac_arr, size=7)\n",
    "ctvi_hu_arr = ndimage.median_filter(ctvi_hu_arr, size=7)"
   ]
  },
  {
   "cell_type": "markdown",
   "metadata": {},
   "source": [
    "#### load the PET ground truth (unquantised and quantised)"
   ]
  },
  {
   "cell_type": "code",
   "execution_count": null,
   "metadata": {},
   "outputs": [],
   "source": [
    "output_name = '{}/Patient{:02d}.npy'.format(PREPROCESSED_STACK_DIR, patient_id)\n",
    "pt_arr = np.load(output_name)\n",
    "print('loaded stack from {}'.format(output_name))\n",
    "\n",
    "exp_arr = pt_arr[0]\n",
    "insp_arr = pt_arr[1]\n",
    "pet_arr = pt_arr[2]\n",
    "pet_labels_arr = pt_arr[3]\n",
    "mask_arr = pt_arr[4].astype(bool)"
   ]
  },
  {
   "cell_type": "code",
   "execution_count": null,
   "metadata": {},
   "outputs": [],
   "source": [
    "pet_labels_arr.shape, mask_arr.shape"
   ]
  },
  {
   "cell_type": "markdown",
   "metadata": {},
   "source": [
    "### compare unquantised CTVI-Jac with PET ground truth"
   ]
  },
  {
   "cell_type": "code",
   "execution_count": null,
   "metadata": {},
   "outputs": [],
   "source": [
    "DISPLAY_IDX = 150"
   ]
  },
  {
   "cell_type": "code",
   "execution_count": null,
   "metadata": {},
   "outputs": [],
   "source": [
    "fig, (ax1, ax2, ax3, ax4, ax5) = plt.subplots(1, 5, figsize=(15,7))\n",
    "\n",
    "exp_slice = exp_arr[DISPLAY_IDX]\n",
    "ax1.imshow(exp_slice, cmap=\"gray\", norm=colors.PowerNorm(0.5, vmin=np.percentile(exp_slice,1)))\n",
    "ax1.set_title('exhale')\n",
    "ax1.set_axis_off()\n",
    "\n",
    "insp_slice = insp_arr[DISPLAY_IDX]\n",
    "ax2.imshow(insp_slice, cmap=\"gray\", norm=colors.PowerNorm(0.5, vmin=np.percentile(insp_slice,1)))\n",
    "ax2.set_title('inhale')\n",
    "ax2.set_axis_off()\n",
    "\n",
    "pet_masked_slice = np.copy(np.ma.array(pet_arr[DISPLAY_IDX], mask=~mask_arr[DISPLAY_IDX]))\n",
    "ax3.imshow(pet_masked_slice, cmap=\"hot\", norm=colors.PowerNorm(0.8))\n",
    "ax3.set_title('PET')\n",
    "ax3.set_axis_off()\n",
    "\n",
    "ctvi_jac_masked_slice = np.copy(np.ma.array(ctvi_jac_arr[DISPLAY_IDX], mask=~mask_arr[DISPLAY_IDX]))\n",
    "ax4.imshow(ctvi_jac_masked_slice, cmap=\"hot\", norm=colors.PowerNorm(1.8))\n",
    "ax4.set_title(r'CTVI$_\\text{Jac}$')\n",
    "ax4.set_axis_off()\n",
    "\n",
    "ctvi_hu_masked_slice = np.copy(np.ma.array(ctvi_hu_arr[DISPLAY_IDX], mask=~mask_arr[DISPLAY_IDX]))\n",
    "ax5.imshow(ctvi_hu_masked_slice, cmap=\"hot\", norm=colors.PowerNorm(1.2, vmin=np.percentile(ctvi_hu_masked_slice,1), vmax=np.percentile(ctvi_hu_masked_slice,98), clip=True))\n",
    "ax5.set_title(r'CTVI$_\\text{HU}$')\n",
    "ax5.set_axis_off()\n",
    "\n",
    "# fig.suptitle('Patient ID {}'.format(patient_id), x=0.1, y=0.75, fontsize=12, ha='left')\n",
    "\n",
    "fig.subplots_adjust(right=0.8)\n",
    "cbar_ax = fig.add_axes([0.92, 0.33, 0.015, 0.34])\n",
    "fig.colorbar(cm.ScalarMappable(norm=colors.PowerNorm(1.2, vmin=0, vmax=1), cmap='hot'), cax=cbar_ax, orientation='vertical', format='%0.1f')\n",
    "\n",
    "fig.subplots_adjust(left=0.1,\n",
    "                    bottom=0.1, \n",
    "                    right=0.9, \n",
    "                    top=0.9, \n",
    "                    wspace=0.01, \n",
    "                    hspace=0.1)\n",
    "\n",
    "fig_filename = '{}/figures/ct-pet-ctvi-dir-unquantised-P{:02d}.svg'.format(expanduser('~'), patient_id)\n",
    "plt.savefig(fig_filename, format='svg', dpi=600, bbox_inches='tight')\n",
    "print('saved figure to {}'.format(fig_filename))"
   ]
  },
  {
   "cell_type": "code",
   "execution_count": null,
   "metadata": {},
   "outputs": [],
   "source": [
    "fig, (ax1) = plt.subplots(1, 1, figsize=(15,4))\n",
    "ax1.imshow(ctvi_jac_arr[DISPLAY_IDX], cmap=\"gist_gray\", alpha=0.5)\n",
    "ax1.imshow(pet_arr[DISPLAY_IDX], cmap=\"gist_yarg\", alpha=0.5)\n",
    "ax1.set_title('PET and CTVI-Jac superimposed')\n",
    "ax1.set_axis_off()\n",
    "\n",
    "fig.subplots_adjust(left=0.1,\n",
    "                    bottom=0.1, \n",
    "                    right=0.9, \n",
    "                    top=0.9, \n",
    "                    wspace=0.01, \n",
    "                    hspace=0.1)"
   ]
  },
  {
   "cell_type": "code",
   "execution_count": null,
   "metadata": {},
   "outputs": [],
   "source": [
    "sp_jac = spearmanr(pet_arr[mask_arr], ctvi_jac_arr[mask_arr])\n",
    "sp_hu = spearmanr(pet_arr[mask_arr], ctvi_hu_arr[mask_arr])\n",
    "print('Spearman: {}, p-value {} (Jac), {} p-value {} (HU)'.format(np.round(sp_jac[0],2), np.round(sp_jac[1],2), np.round(sp_hu[0],2), np.round(sp_hu[1],2) ))\n",
    "patient_eval_d = {'spearman_correlation_jac':sp_jac[0], 'pval_jac':sp_jac[1], 'spearman_correlation_hu':sp_hu[0], 'pval_hu':sp_hu[1]}"
   ]
  },
  {
   "cell_type": "code",
   "execution_count": null,
   "metadata": {},
   "outputs": [],
   "source": [
    "PREPROCESSED_BASE_DIR = '/mnt/data/datasets/RNSH_HFlung/pre-processed-plastimatch'\n",
    "EVALUATION_DIR = '{}/evaluation'.format(PREPROCESSED_BASE_DIR)\n",
    "PATIENT_EVALUATION_DIR = '{}/Patient{:02d}'.format(EVALUATION_DIR, patient_id)"
   ]
  },
  {
   "cell_type": "code",
   "execution_count": null,
   "metadata": {},
   "outputs": [],
   "source": [
    "if not os.path.exists(EVALUATION_DIR):\n",
    "    os.makedirs(EVALUATION_DIR)\n",
    "\n",
    "if not os.path.exists(PATIENT_EVALUATION_DIR):\n",
    "    os.makedirs(PATIENT_EVALUATION_DIR)"
   ]
  },
  {
   "cell_type": "code",
   "execution_count": null,
   "metadata": {},
   "outputs": [],
   "source": [
    "DATASET_EVALUATION_FILE = '{}/evaluation-unquantised.pkl'.format(EVALUATION_DIR)\n",
    "\n",
    "if os.path.isfile(DATASET_EVALUATION_FILE):\n",
    "    with open(DATASET_EVALUATION_FILE, 'rb') as f:\n",
    "        dataset_d = pickle.load(f)\n",
    "else:\n",
    "    dataset_d = {}\n",
    "\n",
    "dataset_d[patient_id] = patient_eval_d\n",
    "\n",
    "with open(DATASET_EVALUATION_FILE, 'wb') as f:\n",
    "        pickle.dump(dataset_d, f)"
   ]
  },
  {
   "cell_type": "markdown",
   "metadata": {},
   "source": [
    "### quantise the CTVI and save for the next step"
   ]
  },
  {
   "cell_type": "markdown",
   "metadata": {},
   "source": [
    "#### quantise the CTVI-Jac"
   ]
  },
  {
   "cell_type": "code",
   "execution_count": null,
   "metadata": {},
   "outputs": [],
   "source": [
    "percentile_high_jac = np.percentile(ctvi_jac_arr[mask_arr],70)\n",
    "percentile_medium_jac = np.percentile(ctvi_jac_arr[mask_arr],30)"
   ]
  },
  {
   "cell_type": "code",
   "execution_count": null,
   "metadata": {},
   "outputs": [],
   "source": [
    "percentile_high_jac,percentile_medium_jac"
   ]
  },
  {
   "cell_type": "code",
   "execution_count": null,
   "metadata": {},
   "outputs": [],
   "source": [
    "# we label voxels above the 70th percentile as 'high', between the 30th and 70th as 'medium', below the 30th as 'low', and outside the \n",
    "# mask as 'background'\n",
    "ctvi_jac_label_high_arr = np.where((mask_arr==True) & (ctvi_jac_arr>percentile_high_jac), 1 , 0)\n",
    "ctvi_jac_label_medium_arr = np.where((mask_arr==True) & (ctvi_jac_arr<=percentile_high_jac) & (ctvi_jac_arr>=percentile_medium_jac), 2 , 0)\n",
    "ctvi_jac_label_low_arr = np.where((mask_arr==True) & (ctvi_jac_arr<percentile_medium_jac), 3 , 0)\n",
    "\n",
    "ctvi_jac_label_arr = ctvi_jac_label_high_arr + ctvi_jac_label_medium_arr + ctvi_jac_label_low_arr"
   ]
  },
  {
   "cell_type": "markdown",
   "metadata": {},
   "source": [
    "#### quantise the CTVI-HU"
   ]
  },
  {
   "cell_type": "code",
   "execution_count": null,
   "metadata": {},
   "outputs": [],
   "source": [
    "percentile_high_hu = np.percentile(ctvi_hu_arr[mask_arr],70)\n",
    "percentile_medium_hu = np.percentile(ctvi_hu_arr[mask_arr],30)"
   ]
  },
  {
   "cell_type": "code",
   "execution_count": null,
   "metadata": {},
   "outputs": [],
   "source": [
    "percentile_high_hu,percentile_medium_hu"
   ]
  },
  {
   "cell_type": "code",
   "execution_count": null,
   "metadata": {},
   "outputs": [],
   "source": [
    "# we label voxels above the 70th percentile as 'high', between the 30th and 70th as 'medium', below the 30th as 'low', and outside the \n",
    "# mask as 'background'\n",
    "ctvi_hu_label_high_arr = np.where((mask_arr==True) & (ctvi_hu_arr>percentile_high_hu), 1 , 0)\n",
    "ctvi_hu_label_medium_arr = np.where((mask_arr==True) & (ctvi_hu_arr<=percentile_high_hu) & (ctvi_hu_arr>=percentile_medium_hu), 2 , 0)\n",
    "ctvi_hu_label_low_arr = np.where((mask_arr==True) & (ctvi_hu_arr<percentile_medium_hu), 3 , 0)\n",
    "\n",
    "ctvi_hu_label_arr = ctvi_hu_label_high_arr + ctvi_hu_label_medium_arr + ctvi_hu_label_low_arr"
   ]
  },
  {
   "cell_type": "markdown",
   "metadata": {},
   "source": [
    "#### visualise the images"
   ]
  },
  {
   "cell_type": "code",
   "execution_count": null,
   "metadata": {},
   "outputs": [],
   "source": [
    "labels_d = {0:'background', 1:'high', 2:'medium', 3:'low'}\n",
    "\n",
    "# set up the colour map\n",
    "colours_d = {\n",
    "    0: 'black',\n",
    "    1: 'lime',\n",
    "    2: 'lightseagreen',\n",
    "    3: 'slategray'\n",
    "}\n",
    "\n",
    "cm = ListedColormap(colours_d.values())"
   ]
  },
  {
   "cell_type": "code",
   "execution_count": null,
   "metadata": {},
   "outputs": [],
   "source": [
    "fig, (ax1, ax2, ax3, ax4, ax5) = plt.subplots(1, 5, figsize=(15,7))\n",
    "ax1.imshow(exp_arr[DISPLAY_IDX], cmap=\"gray\")\n",
    "ax1.set_title('exhale')\n",
    "ax1.set_axis_off()\n",
    "\n",
    "ax2.imshow(insp_arr[DISPLAY_IDX], cmap=\"gray\")\n",
    "ax2.set_title('inhale')\n",
    "ax2.set_axis_off()\n",
    "\n",
    "ax3.imshow(pet_labels_arr[DISPLAY_IDX], cmap=cm, interpolation='none')\n",
    "ax3.set_title('ground truth')\n",
    "ax3.set_axis_off()\n",
    "\n",
    "ax4.imshow(ctvi_jac_label_arr[DISPLAY_IDX], cmap=cm, interpolation='none')\n",
    "ax4.set_title(r'CTVI$_\\text{Jac}$')\n",
    "ax4.set_axis_off()\n",
    "\n",
    "ax5.imshow(ctvi_hu_label_arr[DISPLAY_IDX], cmap=cm, interpolation='none')\n",
    "ax5.set_title(r'CTVI$_\\text{HU}$')\n",
    "ax5.set_axis_off()\n",
    "\n",
    "# create a patch (proxy artist) for every color \n",
    "patches = [ mpatches.Patch(color=colours_d[i], label=\"{l}\".format(l=labels_d[i]) ) for i in [1,2,3] ]\n",
    "legend = plt.legend(handles=patches, bbox_to_anchor=(1.05, 1), loc=2, borderaxespad=0. )\n",
    "\n",
    "fig.subplots_adjust(left=0.1,\n",
    "                    bottom=0.1, \n",
    "                    right=0.9, \n",
    "                    top=0.9, \n",
    "                    wspace=0.01, \n",
    "                    hspace=0.1)\n",
    "\n",
    "fig_filename = '{}/figures/ct-pet-ctvi-dir-quantised-P{:02d}.svg'.format(expanduser('~'), patient_id)\n",
    "plt.savefig(fig_filename, format='svg', dpi=600, bbox_inches='tight')\n",
    "print('saved figure to {}'.format(fig_filename))"
   ]
  },
  {
   "cell_type": "code",
   "execution_count": null,
   "metadata": {},
   "outputs": [],
   "source": [
    "params = {}\n",
    "params['font.size'] = 18\n",
    "params['figure.dpi'] = 150\n",
    "params['figure.figsize'] = 1,1.5\n",
    "\n",
    "plt.rcParams.update(params)"
   ]
  },
  {
   "cell_type": "code",
   "execution_count": null,
   "metadata": {},
   "outputs": [],
   "source": [
    "fig, ax = plt.subplots()\n",
    "\n",
    "# create a patch (proxy artist) for every color\n",
    "colours_d[4] = '#87a96b'\n",
    "labels_d[4] = 'high'\n",
    "patches = []\n",
    "x = y = 0\n",
    "patches.append(mpatches.Patch(color='black', label=r'$\\bf{Galligas\\ PET}$', visible=False))\n",
    "for i in [1,2,3]:\n",
    "    patches.append(mpatches.Patch(color=colours_d[i], label=\"{l}\".format(l=labels_d[i])))\n",
    "patches.append(mpatches.Patch(color='black', label=\"\", visible=False))\n",
    "patches.append(mpatches.Patch(color='black', label=r'$\\bf{CTVI_{nnU'+u'\\u2010'+'Net}}$', visible=False))\n",
    "for i in [4]:\n",
    "    patches.append(mpatches.Patch(color=colours_d[i], label=\"{l}\".format(l=labels_d[i])))\n",
    "legend = plt.legend(handles=patches, facecolor='black', labelcolor='w', framealpha=1)\n",
    "# frame = legend.get_frame()\n",
    "# frame.set_facecolor('black')\n",
    "# frame.set_edgecolor('black')\n",
    "plt.gca().set_axis_off()\n",
    "\n",
    "expand=[0,0,0,0]\n",
    "fig  = legend.figure\n",
    "fig.canvas.draw()\n",
    "bbox  = legend.get_window_extent()\n",
    "bbox = bbox.from_extents(*(bbox.extents + np.array(expand)))\n",
    "bbox = bbox.transformed(fig.dpi_scale_trans.inverted())\n",
    "\n",
    "fig_filename = '{}/figures/ctvi-predictions-legend.svg'.format(expanduser('~'))\n",
    "plt.savefig(fig_filename, format='svg', dpi=600, bbox_inches=bbox)\n",
    "print('saved figure to {}'.format(fig_filename))"
   ]
  },
  {
   "cell_type": "markdown",
   "metadata": {},
   "source": [
    "#### write out the quantised CTVI for comparison"
   ]
  },
  {
   "cell_type": "code",
   "execution_count": null,
   "metadata": {},
   "outputs": [],
   "source": [
    "sitk.WriteImage(sitk.GetImageFromArray(ctvi_jac_label_arr), '{}/ctvi-jac-label.mha'.format(PREPROCESSED_MHA_DIR))\n",
    "sitk.WriteImage(sitk.GetImageFromArray(ctvi_hu_label_arr), '{}/ctvi-hu-label.mha'.format(PREPROCESSED_MHA_DIR))"
   ]
  },
  {
   "cell_type": "code",
   "execution_count": null,
   "metadata": {},
   "outputs": [],
   "source": []
  }
 ],
 "metadata": {
  "kernelspec": {
   "display_name": "Python 3 (ipykernel)",
   "language": "python",
   "name": "python3"
  },
  "language_info": {
   "codemirror_mode": {
    "name": "ipython",
    "version": 3
   },
   "file_extension": ".py",
   "mimetype": "text/x-python",
   "name": "python",
   "nbconvert_exporter": "python",
   "pygments_lexer": "ipython3",
   "version": "3.10.13"
  }
 },
 "nbformat": 4,
 "nbformat_minor": 4
}
