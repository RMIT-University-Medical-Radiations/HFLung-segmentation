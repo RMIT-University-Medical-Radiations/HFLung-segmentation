{
 "cells": [
  {
   "cell_type": "markdown",
   "metadata": {},
   "source": [
    "### run this notebook for each patient following Plastimatch DIR and calculation of the Jacobian determinant"
   ]
  },
  {
   "cell_type": "code",
   "execution_count": null,
   "metadata": {},
   "outputs": [],
   "source": [
    "import os\n",
    "import sys\n",
    "import numpy as np\n",
    "import matplotlib\n",
    "import matplotlib.pyplot as plt\n",
    "import SimpleITK as sitk\n",
    "import skimage\n",
    "from os.path import expanduser\n",
    "import glob\n",
    "from matplotlib.ticker import MaxNLocator\n",
    "from scipy.stats import spearmanr\n",
    "import seg_metrics.seg_metrics as sg\n",
    "import pickle\n",
    "from skimage import exposure\n",
    "from scipy import ndimage\n",
    "import nibabel as nib\n",
    "from matplotlib.colors import ListedColormap\n",
    "import matplotlib.patches as mpatches\n",
    "from matplotlib import colors\n",
    "from matplotlib import cm"
   ]
  },
  {
   "cell_type": "code",
   "execution_count": null,
   "metadata": {},
   "outputs": [],
   "source": [
    "print(\"Python version:\", sys.version)\n",
    "print(\"Numpy version:\", np.__version__)\n",
    "print(\"Matplotlib version:\", matplotlib.__version__)\n",
    "print(\"SITK version:\", sitk.__version__)\n",
    "print(\"Scikit-image version:\", skimage.__version__)"
   ]
  },
  {
   "cell_type": "code",
   "execution_count": null,
   "metadata": {
    "editable": true,
    "slideshow": {
     "slide_type": ""
    },
    "tags": [
     "parameters"
    ]
   },
   "outputs": [],
   "source": [
    "patient_id = 14"
   ]
  },
  {
   "cell_type": "code",
   "execution_count": null,
   "metadata": {},
   "outputs": [],
   "source": [
    "PREPROCESSED_BASE_DIR = '/mnt/data/datasets/RNSH_HFlung/pre-processed-plastimatch'\n",
    "PREPROCESSED_MHA_DIR = '{}/mha/Patient{:02d}'.format(PREPROCESSED_BASE_DIR, patient_id)\n",
    "PREPROCESSED_STACK_DIR = '{}/stack'.format(PREPROCESSED_BASE_DIR)"
   ]
  },
  {
   "cell_type": "markdown",
   "metadata": {},
   "source": [
    "#### load the Plastimatch outputs"
   ]
  },
  {
   "cell_type": "code",
   "execution_count": null,
   "metadata": {},
   "outputs": [],
   "source": [
    "pm_exhale_im = sitk.ReadImage('{}/phase-exhale-nomask.mha'.format(PREPROCESSED_MHA_DIR))\n",
    "jacobian_det_im = sitk.ReadImage('{}/vf_jac.mha'.format(PREPROCESSED_MHA_DIR))\n",
    "pm_deformed_inhale_im = sitk.ReadImage('{}/deformed.mha'.format(PREPROCESSED_MHA_DIR))\n",
    "pm_mask_exhale_im = sitk.ReadImage('{}/mask-exhale.mha'.format(PREPROCESSED_MHA_DIR))"
   ]
  },
  {
   "cell_type": "code",
   "execution_count": null,
   "metadata": {},
   "outputs": [],
   "source": [
    "size_exp = pm_exhale_im.GetSize()\n",
    "spacing_exp = pm_exhale_im.GetSpacing()\n",
    "origin_exp = pm_exhale_im.GetOrigin()\n",
    "\n",
    "print(\"Image size EXP:\", str(size_exp[0]), str(size_exp[1]), str(size_exp[2]))\n",
    "print(\"Spacing (mm):\", str(spacing_exp[0]), str(spacing_exp[1]), str(spacing_exp[2]))\n",
    "print(\"Origin (mm):\", str(origin_exp[0]), str(origin_exp[1]), str(origin_exp[2]))"
   ]
  },
  {
   "cell_type": "code",
   "execution_count": null,
   "metadata": {},
   "outputs": [],
   "source": [
    "pm_exhale_arr = sitk.GetArrayFromImage(pm_exhale_im)\n",
    "jacobian_det_arr = sitk.GetArrayFromImage(jacobian_det_im)\n",
    "pm_deformed_inhale_arr = sitk.GetArrayFromImage(pm_deformed_inhale_im)\n",
    "pm_mask_exhale_arr = sitk.GetArrayFromImage(pm_mask_exhale_im).astype(bool)"
   ]
  },
  {
   "cell_type": "markdown",
   "metadata": {},
   "source": [
    "#### load the PET ground truth (unquantised and quantised)"
   ]
  },
  {
   "cell_type": "code",
   "execution_count": null,
   "metadata": {},
   "outputs": [],
   "source": [
    "output_name = '{}/Patient{:02d}.npy'.format(PREPROCESSED_STACK_DIR, patient_id)\n",
    "pt_arr = np.load(output_name)\n",
    "print('loaded stack from {}'.format(output_name))\n",
    "\n",
    "exp_arr = pt_arr[0]\n",
    "insp_arr = pt_arr[1]\n",
    "pet_arr = pt_arr[2]\n",
    "pet_labels_arr = pt_arr[3]\n",
    "exh_mask_arr = pt_arr[4].astype(bool)"
   ]
  },
  {
   "cell_type": "code",
   "execution_count": null,
   "metadata": {},
   "outputs": [],
   "source": [
    "exh_mask_arr.shape"
   ]
  },
  {
   "cell_type": "markdown",
   "metadata": {},
   "source": [
    "#### apply the mask to the images from Plastimatch"
   ]
  },
  {
   "cell_type": "code",
   "execution_count": null,
   "metadata": {},
   "outputs": [],
   "source": [
    "pm_exhale_arr = np.where((pm_mask_exhale_arr==True), pm_exhale_arr, 1e-3)\n",
    "jacobian_det_arr = np.where((pm_mask_exhale_arr==True), jacobian_det_arr, 1e-3)\n",
    "pm_deformed_inhale_arr = np.where((pm_mask_exhale_arr==True), pm_deformed_inhale_arr, 1e-3)"
   ]
  },
  {
   "cell_type": "code",
   "execution_count": null,
   "metadata": {},
   "outputs": [],
   "source": [
    "DISPLAY_IDX = 100\n",
    "\n",
    "fig, (ax1, ax2, ax3, ax4) = plt.subplots(1, 4, figsize=(20,10))\n",
    "ax1.imshow(pm_exhale_arr[DISPLAY_IDX], cmap=\"gray\")\n",
    "ax1.set_title('exhale image')\n",
    "ax1.set_axis_off()\n",
    "\n",
    "ax2.imshow(pm_deformed_inhale_arr[DISPLAY_IDX], cmap=\"gray\")\n",
    "ax2.set_title('deformed inhale image')\n",
    "ax2.set_axis_off()\n",
    "\n",
    "ax3.imshow(jacobian_det_arr[DISPLAY_IDX], cmap=\"gray\")\n",
    "ax3.set_title('Jacobian determinant')\n",
    "ax3.set_axis_off()\n",
    "\n",
    "ax4.imshow(pm_mask_exhale_arr[DISPLAY_IDX], cmap=\"gray\")\n",
    "ax4.set_title('exhale mask')\n",
    "ax4.set_axis_off()\n",
    "\n",
    "# fig.suptitle('Patient ID {}'.format(patient_id), x=0.1, y=1.0, fontsize=12, ha='left')\n",
    "\n",
    "fig.subplots_adjust(left=0.1,\n",
    "                    bottom=0.1, \n",
    "                    right=0.9, \n",
    "                    top=0.9, \n",
    "                    wspace=0.01, \n",
    "                    hspace=0.1)"
   ]
  },
  {
   "cell_type": "markdown",
   "metadata": {},
   "source": [
    "#### calculate the CTVI-Jac"
   ]
  },
  {
   "cell_type": "code",
   "execution_count": null,
   "metadata": {},
   "outputs": [],
   "source": [
    "ctvi_jac_arr = jacobian_det_arr-1.0"
   ]
  },
  {
   "cell_type": "markdown",
   "metadata": {},
   "source": [
    "#### calculate the CTVI-HU"
   ]
  },
  {
   "cell_type": "code",
   "execution_count": null,
   "metadata": {},
   "outputs": [],
   "source": [
    "# rescale for air and water\n",
    "airHU = -1000. + 1\n",
    "waterHU = 0.\n",
    "\n",
    "pm_exhale_arr = exposure.rescale_intensity(pm_exhale_arr, in_range='image', out_range=(airHU, waterHU))\n",
    "deformed_inhale_arr = exposure.rescale_intensity(pm_deformed_inhale_arr, in_range='image', out_range=(airHU, waterHU))"
   ]
  },
  {
   "cell_type": "code",
   "execution_count": null,
   "metadata": {},
   "outputs": [],
   "source": [
    "np.min(pm_exhale_arr), np.max(pm_exhale_arr)"
   ]
  },
  {
   "cell_type": "code",
   "execution_count": null,
   "metadata": {},
   "outputs": [],
   "source": [
    "tissue_density_scaling_factor_arr = (pm_exhale_arr + 1000) / 1000\n",
    "ctvi_hu_arr = (pm_exhale_arr - deformed_inhale_arr) / (deformed_inhale_arr + 1000) * tissue_density_scaling_factor_arr"
   ]
  },
  {
   "cell_type": "code",
   "execution_count": null,
   "metadata": {},
   "outputs": [],
   "source": [
    "np.min(ctvi_hu_arr), np.max(ctvi_hu_arr)"
   ]
  },
  {
   "cell_type": "markdown",
   "metadata": {},
   "source": [
    "#### resample, crop, & pad the CTVIs so we can make a comparison with model predictions"
   ]
  },
  {
   "cell_type": "code",
   "execution_count": null,
   "metadata": {},
   "outputs": [],
   "source": [
    "# Resampling the images into (1,1,1)mm voxel size. Can use nearest neighbour for interpolation (default is B-spline). \n",
    "def resample_image(itk_image, out_spacing=(1.0, 1.0, 1.0), is_label=False):\n",
    "    original_spacing = itk_image.GetSpacing()\n",
    "    original_size = itk_image.GetSize()\n",
    "\n",
    "    out_size = [int(np.round(original_size[0] * (original_spacing[0] / out_spacing[0]))),\n",
    "        int(np.round(original_size[1] * (original_spacing[1] / out_spacing[1]))),\n",
    "        int(np.round(original_size[2] * (original_spacing[2] / out_spacing[2])))]\n",
    "\n",
    "    resample = sitk.ResampleImageFilter()\n",
    "    resample.SetOutputSpacing(out_spacing)\n",
    "    resample.SetSize(out_size)\n",
    "    resample.SetOutputDirection(itk_image.GetDirection())\n",
    "    resample.SetOutputOrigin(itk_image.GetOrigin())\n",
    "    resample.SetTransform(sitk.Transform())\n",
    "    resample.SetDefaultPixelValue(itk_image.GetPixelIDValue())\n",
    "\n",
    "    if is_label:\n",
    "        resample.SetInterpolator(sitk.sitkNearestNeighbor)\n",
    "    else:\n",
    "        resample.SetInterpolator(sitk.sitkBSpline)\n",
    "\n",
    "    return resample.Execute(itk_image)"
   ]
  },
  {
   "cell_type": "code",
   "execution_count": null,
   "metadata": {},
   "outputs": [],
   "source": [
    "def array_to_image(arr, spacing, origin):\n",
    "    im = sitk.GetImageFromArray(arr)\n",
    "    im.SetSpacing(spacing)\n",
    "    im.SetOrigin(origin)\n",
    "    return im"
   ]
  },
  {
   "cell_type": "code",
   "execution_count": null,
   "metadata": {},
   "outputs": [],
   "source": [
    "# convert numpy arrays to images for resampling, preserving their spacing and origin\n",
    "ctvi_jac_im = array_to_image(ctvi_jac_arr, spacing=spacing_exp, origin=origin_exp)\n",
    "ctvi_hu_im = array_to_image(ctvi_hu_arr, spacing=spacing_exp, origin=origin_exp)"
   ]
  },
  {
   "cell_type": "code",
   "execution_count": null,
   "metadata": {},
   "outputs": [],
   "source": [
    "# resample the CTVIs\n",
    "ctvi_jac_im_resampled = resample_image(ctvi_jac_im)\n",
    "ctvi_hu_im_resampled = resample_image(ctvi_hu_im)"
   ]
  },
  {
   "cell_type": "code",
   "execution_count": null,
   "metadata": {},
   "outputs": [],
   "source": [
    "# convert back into numpy array after resampling\n",
    "ctvi_jac_arr = sitk.GetArrayFromImage(ctvi_jac_im_resampled)\n",
    "ctvi_hu_arr = sitk.GetArrayFromImage(ctvi_hu_im_resampled)"
   ]
  },
  {
   "cell_type": "code",
   "execution_count": null,
   "metadata": {},
   "outputs": [],
   "source": [
    "ctvi_jac_arr.shape, ctvi_hu_arr.shape"
   ]
  },
  {
   "cell_type": "markdown",
   "metadata": {},
   "source": [
    "#### pad and crop"
   ]
  },
  {
   "cell_type": "code",
   "execution_count": null,
   "metadata": {},
   "outputs": [],
   "source": [
    "TARGET_SIZE_X = 320\n",
    "TARGET_SIZE_Y = 320\n",
    "TARGET_SIZE_Z = 300"
   ]
  },
  {
   "cell_type": "code",
   "execution_count": null,
   "metadata": {},
   "outputs": [],
   "source": [
    "def adjust_dims(arr):\n",
    "    # pad z axis if needed\n",
    "    if arr.shape[0] < TARGET_SIZE_Z:\n",
    "        pad_slices = TARGET_SIZE_Z - arr.shape[0]\n",
    "        arr = np.pad(arr, pad_width=((0,pad_slices),(0,0),(0,0)), mode='constant', constant_values=np.min(arr))  # pad at the back\n",
    "    \n",
    "    # crop x and y axes of CT\n",
    "    crop_x_lower = int(np.round((arr.shape[2]-TARGET_SIZE_X)/2)); crop_x_upper = crop_x_lower+TARGET_SIZE_X\n",
    "    crop_y_lower = int(np.round((arr.shape[1]-TARGET_SIZE_Y)/2)); crop_y_upper = crop_y_lower+TARGET_SIZE_Y\n",
    "    crop_z_lower = int(np.round((arr.shape[0]-TARGET_SIZE_Z)/2)); crop_z_upper = crop_z_lower+TARGET_SIZE_Z\n",
    "    \n",
    "    arr = arr[crop_z_lower:crop_z_upper, crop_y_lower:crop_y_upper, crop_x_lower:crop_x_upper]\n",
    "    return arr"
   ]
  },
  {
   "cell_type": "code",
   "execution_count": null,
   "metadata": {},
   "outputs": [],
   "source": [
    "ctvi_jac_arr = adjust_dims(ctvi_jac_arr)\n",
    "ctvi_hu_arr = adjust_dims(ctvi_hu_arr)"
   ]
  },
  {
   "cell_type": "code",
   "execution_count": null,
   "metadata": {},
   "outputs": [],
   "source": [
    "ctvi_jac_arr.shape, ctvi_hu_arr.shape"
   ]
  },
  {
   "cell_type": "code",
   "execution_count": null,
   "metadata": {},
   "outputs": [],
   "source": [
    "np.min(ctvi_hu_arr), np.max(ctvi_hu_arr)"
   ]
  },
  {
   "cell_type": "markdown",
   "metadata": {},
   "source": [
    "#### rescale"
   ]
  },
  {
   "cell_type": "code",
   "execution_count": null,
   "metadata": {},
   "outputs": [],
   "source": [
    "ctvi_jac_arr = exposure.rescale_intensity(ctvi_jac_arr, in_range='image', out_range=(1e-3,1.))\n",
    "ctvi_hu_arr = exposure.rescale_intensity(ctvi_hu_arr, in_range='image', out_range=(1e-3,1.))"
   ]
  },
  {
   "cell_type": "markdown",
   "metadata": {},
   "source": [
    "#### apply a median filter"
   ]
  },
  {
   "cell_type": "code",
   "execution_count": null,
   "metadata": {},
   "outputs": [],
   "source": [
    "ctvi_jac_arr = ndimage.median_filter(ctvi_jac_arr, size=7, mode='nearest')\n",
    "ctvi_hu_arr = ndimage.median_filter(ctvi_hu_arr, size=7, mode='nearest')"
   ]
  },
  {
   "cell_type": "code",
   "execution_count": null,
   "metadata": {},
   "outputs": [],
   "source": [
    "np.min(ctvi_hu_arr), np.max(ctvi_hu_arr)"
   ]
  },
  {
   "cell_type": "markdown",
   "metadata": {},
   "source": [
    "### compare unquantised CTVIs with PET ground truth"
   ]
  },
  {
   "cell_type": "code",
   "execution_count": null,
   "metadata": {},
   "outputs": [],
   "source": [
    "DISPLAY_IDX = 150"
   ]
  },
  {
   "cell_type": "code",
   "execution_count": null,
   "metadata": {},
   "outputs": [],
   "source": [
    "fig, (ax1, ax2, ax3, ax4, ax5, ax6) = plt.subplots(1, 6, figsize=(15,7))\n",
    "\n",
    "exp_slice = exp_arr[DISPLAY_IDX]\n",
    "ax1.imshow(exp_slice, cmap=\"gray\", norm=colors.PowerNorm(0.5, vmin=np.percentile(exp_slice,1)))\n",
    "ax1.set_title('exhale')\n",
    "ax1.set_axis_off()\n",
    "\n",
    "insp_slice = insp_arr[DISPLAY_IDX]\n",
    "ax2.imshow(insp_slice, cmap=\"gray\", norm=colors.PowerNorm(0.5, vmin=np.percentile(insp_slice,1)))\n",
    "ax2.set_title('inhale')\n",
    "ax2.set_axis_off()\n",
    "\n",
    "mask_slice = exh_mask_arr[DISPLAY_IDX]\n",
    "ax3.imshow(mask_slice, cmap=\"gray\")\n",
    "ax3.set_title('exhale mask')\n",
    "ax3.set_axis_off()\n",
    "\n",
    "pet_slice = pet_arr[DISPLAY_IDX]\n",
    "ax4.imshow(pet_slice, cmap=\"hot\", norm=colors.PowerNorm(0.8))\n",
    "ax4.set_title('PET')\n",
    "ax4.set_axis_off()\n",
    "\n",
    "ctvi_jac_slice = ctvi_jac_arr[DISPLAY_IDX]\n",
    "ax5.imshow(ctvi_jac_slice, cmap=\"hot\", norm=colors.PowerNorm(1.8))\n",
    "ax5.set_title(r'CTVI$_\\text{Jac}$')\n",
    "ax5.set_axis_off()\n",
    "\n",
    "ctvi_hu_slice = ctvi_hu_arr[DISPLAY_IDX]\n",
    "ax6.imshow(ctvi_hu_slice, cmap=\"hot\")\n",
    "ax6.set_title(r'CTVI$_\\text{HU}$')\n",
    "ax6.set_axis_off()\n",
    "\n",
    "# fig.suptitle('Patient ID {}'.format(patient_id), x=0.1, y=0.75, fontsize=12, ha='left')\n",
    "\n",
    "fig.subplots_adjust(right=0.8)\n",
    "cbar_ax = fig.add_axes([0.92, 0.33, 0.015, 0.34])\n",
    "fig.colorbar(cm.ScalarMappable(norm=colors.PowerNorm(1.2, vmin=0, vmax=1), cmap='hot'), cax=cbar_ax, orientation='vertical', format='%0.1f')\n",
    "\n",
    "fig.subplots_adjust(left=0.1,\n",
    "                    bottom=0.1, \n",
    "                    right=0.9, \n",
    "                    top=0.9, \n",
    "                    wspace=0.01, \n",
    "                    hspace=0.1)\n",
    "\n",
    "fig_filename = '{}/figures/ct-pet-ctvi-dir-unquantised-P{:02d}.svg'.format(expanduser('~'), patient_id)\n",
    "plt.savefig(fig_filename, format='svg', dpi=600, bbox_inches='tight')\n",
    "print('saved figure to {}'.format(fig_filename))"
   ]
  },
  {
   "cell_type": "code",
   "execution_count": null,
   "metadata": {},
   "outputs": [],
   "source": [
    "fig, (ax1) = plt.subplots(1, 1, figsize=(15,4))\n",
    "ax1.imshow(ctvi_jac_arr[DISPLAY_IDX], cmap=\"gist_gray\", alpha=0.5)\n",
    "ax1.imshow(pet_arr[DISPLAY_IDX], cmap=\"gist_yarg\", alpha=0.5)\n",
    "ax1.set_title('PET and CTVI-Jac superimposed')\n",
    "ax1.set_axis_off()\n",
    "\n",
    "fig.subplots_adjust(left=0.1,\n",
    "                    bottom=0.1, \n",
    "                    right=0.9, \n",
    "                    top=0.9, \n",
    "                    wspace=0.01, \n",
    "                    hspace=0.1)"
   ]
  },
  {
   "cell_type": "code",
   "execution_count": null,
   "metadata": {},
   "outputs": [],
   "source": [
    "pet_arr.shape"
   ]
  },
  {
   "cell_type": "code",
   "execution_count": null,
   "metadata": {},
   "outputs": [],
   "source": [
    "sp_jac = spearmanr(ctvi_jac_arr[exh_mask_arr], pet_arr[exh_mask_arr], axis=None)\n",
    "sp_hu = spearmanr(ctvi_hu_arr[exh_mask_arr], pet_arr[exh_mask_arr], axis=None)\n",
    "print('Spearman (P{:02d})\\n{}, p-value {} (Jac)\\n{} p-value {} (HU)'.format(patient_id, np.round(sp_jac[0],2), np.round(sp_jac[1],2), np.round(sp_hu[0],2), np.round(sp_hu[1],2) ))\n",
    "patient_eval_d = {'spearman_correlation_jac':sp_jac[0], 'pval_jac':sp_jac[1], 'spearman_correlation_hu':sp_hu[0], 'pval_hu':sp_hu[1]}"
   ]
  },
  {
   "cell_type": "markdown",
   "metadata": {},
   "source": [
    "#### save the results for overall analysis"
   ]
  },
  {
   "cell_type": "code",
   "execution_count": null,
   "metadata": {},
   "outputs": [],
   "source": [
    "PREPROCESSED_BASE_DIR = '/mnt/data/datasets/RNSH_HFlung/pre-processed-plastimatch'\n",
    "EVALUATION_DIR = '{}/evaluation'.format(PREPROCESSED_BASE_DIR)\n",
    "PATIENT_EVALUATION_DIR = '{}/Patient{:02d}'.format(EVALUATION_DIR, patient_id)"
   ]
  },
  {
   "cell_type": "code",
   "execution_count": null,
   "metadata": {},
   "outputs": [],
   "source": [
    "if not os.path.exists(EVALUATION_DIR):\n",
    "    os.makedirs(EVALUATION_DIR)\n",
    "\n",
    "if not os.path.exists(PATIENT_EVALUATION_DIR):\n",
    "    os.makedirs(PATIENT_EVALUATION_DIR)"
   ]
  },
  {
   "cell_type": "code",
   "execution_count": null,
   "metadata": {},
   "outputs": [],
   "source": [
    "DATASET_EVALUATION_FILE = '{}/evaluation-unquantised.pkl'.format(EVALUATION_DIR)\n",
    "\n",
    "if os.path.isfile(DATASET_EVALUATION_FILE):\n",
    "    with open(DATASET_EVALUATION_FILE, 'rb') as f:\n",
    "        dataset_d = pickle.load(f)\n",
    "else:\n",
    "    dataset_d = {}\n",
    "\n",
    "dataset_d[patient_id] = patient_eval_d\n",
    "\n",
    "with open(DATASET_EVALUATION_FILE, 'wb') as f:\n",
    "        pickle.dump(dataset_d, f)"
   ]
  },
  {
   "cell_type": "markdown",
   "metadata": {},
   "source": [
    "#### save the unquantised images "
   ]
  },
  {
   "cell_type": "code",
   "execution_count": null,
   "metadata": {},
   "outputs": [],
   "source": [
    "UNQUANTISED_IMAGES_DIR = '{}/unquantised-images'.format(PREPROCESSED_BASE_DIR)\n",
    "if not os.path.exists(UNQUANTISED_IMAGES_DIR):\n",
    "    os.makedirs(UNQUANTISED_IMAGES_DIR)\n",
    "PATIENT_UNQUANTISED_DIR = '{}/Patient{:02d}'.format(UNQUANTISED_IMAGES_DIR, patient_id)\n",
    "if not os.path.exists(PATIENT_UNQUANTISED_DIR):\n",
    "    os.makedirs(PATIENT_UNQUANTISED_DIR)"
   ]
  },
  {
   "cell_type": "code",
   "execution_count": null,
   "metadata": {},
   "outputs": [],
   "source": [
    "print('saving unquantised images to {}'.format(PATIENT_UNQUANTISED_DIR))\n",
    "nib.Nifti1Image(np.transpose(exp_arr, (2,1,0)), np.eye(4)).to_filename('{}/exhale.nii.gz'.format(PATIENT_UNQUANTISED_DIR))\n",
    "nib.Nifti1Image(np.transpose(insp_arr, (2,1,0)), np.eye(4)).to_filename('{}/inhale.nii.gz'.format(PATIENT_UNQUANTISED_DIR))\n",
    "nib.Nifti1Image(np.transpose(exh_mask_arr, (2,1,0)).astype(np.int8), np.eye(4)).to_filename('{}/exhale-mask.nii.gz'.format(PATIENT_UNQUANTISED_DIR))\n",
    "nib.Nifti1Image(np.transpose(pet_arr, (2,1,0)), np.eye(4)).to_filename('{}/unquantised-pet.nii.gz'.format(PATIENT_UNQUANTISED_DIR))\n",
    "nib.Nifti1Image(np.transpose(ctvi_jac_arr, (2,1,0)), np.eye(4)).to_filename('{}/unquantised-ctvi-jac.nii.gz'.format(PATIENT_UNQUANTISED_DIR))\n",
    "nib.Nifti1Image(np.transpose(ctvi_hu_arr, (2,1,0)), np.eye(4)).to_filename('{}/unquantised-ctvi-hu.nii.gz'.format(PATIENT_UNQUANTISED_DIR))"
   ]
  },
  {
   "cell_type": "markdown",
   "metadata": {},
   "source": [
    "### quantise the CTVI and save for the next step"
   ]
  },
  {
   "cell_type": "markdown",
   "metadata": {},
   "source": [
    "#### quantise the CTVI-Jac"
   ]
  },
  {
   "cell_type": "code",
   "execution_count": null,
   "metadata": {},
   "outputs": [],
   "source": [
    "percentile_high_jac = np.percentile(ctvi_jac_arr[exh_mask_arr],70)\n",
    "percentile_medium_jac = np.percentile(ctvi_jac_arr[exh_mask_arr],30)"
   ]
  },
  {
   "cell_type": "code",
   "execution_count": null,
   "metadata": {},
   "outputs": [],
   "source": [
    "percentile_high_jac,percentile_medium_jac"
   ]
  },
  {
   "cell_type": "code",
   "execution_count": null,
   "metadata": {},
   "outputs": [],
   "source": [
    "# we label voxels above the 70th percentile as 'high', between the 30th and 70th as 'medium', below the 30th as 'low', and outside the \n",
    "# mask as 'background'\n",
    "ctvi_jac_label_high_arr = np.where((exh_mask_arr==True) & (ctvi_jac_arr>percentile_high_jac), 1 , 0)\n",
    "ctvi_jac_label_medium_arr = np.where((exh_mask_arr==True) & (ctvi_jac_arr<=percentile_high_jac) & (ctvi_jac_arr>=percentile_medium_jac), 2 , 0)\n",
    "ctvi_jac_label_low_arr = np.where((exh_mask_arr==True) & (ctvi_jac_arr<percentile_medium_jac), 3 , 0)\n",
    "\n",
    "ctvi_jac_label_arr = ctvi_jac_label_high_arr + ctvi_jac_label_medium_arr + ctvi_jac_label_low_arr"
   ]
  },
  {
   "cell_type": "markdown",
   "metadata": {},
   "source": [
    "#### quantise the CTVI-HU"
   ]
  },
  {
   "cell_type": "code",
   "execution_count": null,
   "metadata": {},
   "outputs": [],
   "source": [
    "percentile_high_hu = np.percentile(ctvi_hu_arr[exh_mask_arr],70)\n",
    "percentile_medium_hu = np.percentile(ctvi_hu_arr[exh_mask_arr],30)"
   ]
  },
  {
   "cell_type": "code",
   "execution_count": null,
   "metadata": {},
   "outputs": [],
   "source": [
    "percentile_high_hu,percentile_medium_hu"
   ]
  },
  {
   "cell_type": "code",
   "execution_count": null,
   "metadata": {},
   "outputs": [],
   "source": [
    "# we label voxels above the 70th percentile as 'high', between the 30th and 70th as 'medium', below the 30th as 'low', and outside the \n",
    "# mask as 'background'\n",
    "ctvi_hu_label_high_arr = np.where((exh_mask_arr==True) & (ctvi_hu_arr>percentile_high_hu), 1 , 0)\n",
    "ctvi_hu_label_medium_arr = np.where((exh_mask_arr==True) & (ctvi_hu_arr<=percentile_high_hu) & (ctvi_hu_arr>=percentile_medium_hu), 2 , 0)\n",
    "ctvi_hu_label_low_arr = np.where((exh_mask_arr==True) & (ctvi_hu_arr<percentile_medium_hu), 3 , 0)\n",
    "\n",
    "ctvi_hu_label_arr = ctvi_hu_label_high_arr + ctvi_hu_label_medium_arr + ctvi_hu_label_low_arr"
   ]
  },
  {
   "cell_type": "markdown",
   "metadata": {},
   "source": [
    "#### visualise the images"
   ]
  },
  {
   "cell_type": "code",
   "execution_count": null,
   "metadata": {},
   "outputs": [],
   "source": [
    "labels_d = {0:'background', 1:'high', 2:'medium', 3:'low'}\n",
    "\n",
    "# set up the colour map\n",
    "colours_d = {\n",
    "    0: 'black',\n",
    "    1: 'lime',\n",
    "    2: 'lightseagreen',\n",
    "    3: 'slategray'\n",
    "}\n",
    "\n",
    "cm = ListedColormap(colours_d.values())"
   ]
  },
  {
   "cell_type": "code",
   "execution_count": null,
   "metadata": {},
   "outputs": [],
   "source": [
    "fig, (ax1, ax2, ax3, ax4, ax5) = plt.subplots(1, 5, figsize=(15,7))\n",
    "ax1.imshow(exp_arr[DISPLAY_IDX], cmap=\"gray\")\n",
    "ax1.set_title('exhale')\n",
    "ax1.set_axis_off()\n",
    "\n",
    "ax2.imshow(insp_arr[DISPLAY_IDX], cmap=\"gray\")\n",
    "ax2.set_title('inhale')\n",
    "ax2.set_axis_off()\n",
    "\n",
    "ax3.imshow(pet_labels_arr[DISPLAY_IDX], cmap=cm, interpolation='none')\n",
    "ax3.set_title('ground truth')\n",
    "ax3.set_axis_off()\n",
    "\n",
    "ax4.imshow(ctvi_jac_label_arr[DISPLAY_IDX], cmap=cm, interpolation='none')\n",
    "ax4.set_title(r'CTVI$_\\text{Jac}$')\n",
    "ax4.set_axis_off()\n",
    "\n",
    "ax5.imshow(ctvi_hu_label_arr[DISPLAY_IDX], cmap=cm, interpolation='none')\n",
    "ax5.set_title(r'CTVI$_\\text{HU}$')\n",
    "ax5.set_axis_off()\n",
    "\n",
    "# create a patch (proxy artist) for every color \n",
    "patches = [ mpatches.Patch(color=colours_d[i], label=\"{l}\".format(l=labels_d[i]) ) for i in [1,2,3] ]\n",
    "legend = plt.legend(handles=patches, bbox_to_anchor=(1.05, 1), loc=2, borderaxespad=0. )\n",
    "\n",
    "fig.subplots_adjust(left=0.1,\n",
    "                    bottom=0.1, \n",
    "                    right=0.9, \n",
    "                    top=0.9, \n",
    "                    wspace=0.01, \n",
    "                    hspace=0.1)\n",
    "\n",
    "fig_filename = '{}/figures/ct-pet-ctvi-dir-quantised-P{:02d}.svg'.format(expanduser('~'), patient_id)\n",
    "plt.savefig(fig_filename, format='svg', dpi=600, bbox_inches='tight')\n",
    "print('saved figure to {}'.format(fig_filename))"
   ]
  },
  {
   "cell_type": "code",
   "execution_count": null,
   "metadata": {},
   "outputs": [],
   "source": [
    "params = {}\n",
    "params['font.size'] = 18\n",
    "params['figure.dpi'] = 150\n",
    "params['figure.figsize'] = 1,1.5\n",
    "\n",
    "plt.rcParams.update(params)"
   ]
  },
  {
   "cell_type": "code",
   "execution_count": null,
   "metadata": {},
   "outputs": [],
   "source": [
    "fig, ax = plt.subplots()\n",
    "\n",
    "# create a patch (proxy artist) for every color\n",
    "colours_d[4] = '#87a96b'\n",
    "labels_d[4] = 'high'\n",
    "patches = []\n",
    "x = y = 0\n",
    "patches.append(mpatches.Patch(color='black', label=r'$\\bf{Galligas\\ PET}$', visible=False))\n",
    "for i in [1,2,3]:\n",
    "    patches.append(mpatches.Patch(color=colours_d[i], label=\"{l}\".format(l=labels_d[i])))\n",
    "patches.append(mpatches.Patch(color='black', label=\"\", visible=False))\n",
    "patches.append(mpatches.Patch(color='black', label=r'$\\bf{CTVI_{nnU'+u'\\u2010'+'Net}}$', visible=False))\n",
    "for i in [4]:\n",
    "    patches.append(mpatches.Patch(color=colours_d[i], label=\"{l}\".format(l=labels_d[i])))\n",
    "legend = plt.legend(handles=patches, facecolor='black', labelcolor='w', framealpha=1)\n",
    "# frame = legend.get_frame()\n",
    "# frame.set_facecolor('black')\n",
    "# frame.set_edgecolor('black')\n",
    "plt.gca().set_axis_off()\n",
    "\n",
    "expand=[0,0,0,0]\n",
    "fig  = legend.figure\n",
    "fig.canvas.draw()\n",
    "bbox  = legend.get_window_extent()\n",
    "bbox = bbox.from_extents(*(bbox.extents + np.array(expand)))\n",
    "bbox = bbox.transformed(fig.dpi_scale_trans.inverted())\n",
    "\n",
    "fig_filename = '{}/figures/ctvi-predictions-legend.svg'.format(expanduser('~'))\n",
    "plt.savefig(fig_filename, format='svg', dpi=600, bbox_inches=bbox)\n",
    "print('saved figure to {}'.format(fig_filename))"
   ]
  },
  {
   "cell_type": "markdown",
   "metadata": {},
   "source": [
    "#### write out the quantised CTVI for comparison"
   ]
  },
  {
   "cell_type": "code",
   "execution_count": null,
   "metadata": {},
   "outputs": [],
   "source": [
    "sitk.WriteImage(sitk.GetImageFromArray(ctvi_jac_label_arr), '{}/ctvi-jac-label.mha'.format(PREPROCESSED_MHA_DIR))\n",
    "sitk.WriteImage(sitk.GetImageFromArray(ctvi_hu_label_arr), '{}/ctvi-hu-label.mha'.format(PREPROCESSED_MHA_DIR))"
   ]
  },
  {
   "cell_type": "markdown",
   "metadata": {},
   "source": [
    "#### save the quantised images "
   ]
  },
  {
   "cell_type": "code",
   "execution_count": null,
   "metadata": {},
   "outputs": [],
   "source": [
    "QUANTISED_IMAGES_DIR = '{}/quantised-images'.format(PREPROCESSED_BASE_DIR)\n",
    "if not os.path.exists(QUANTISED_IMAGES_DIR):\n",
    "    os.makedirs(QUANTISED_IMAGES_DIR)\n",
    "PATIENT_QUANTISED_DIR = '{}/Patient{:02d}'.format(QUANTISED_IMAGES_DIR, patient_id)\n",
    "if not os.path.exists(PATIENT_QUANTISED_DIR):\n",
    "    os.makedirs(PATIENT_QUANTISED_DIR)"
   ]
  },
  {
   "cell_type": "code",
   "execution_count": null,
   "metadata": {},
   "outputs": [],
   "source": [
    "print('saving quantised images to {}'.format(PATIENT_QUANTISED_DIR))\n",
    "nib.Nifti1Image(np.transpose(exp_arr, (2,1,0)), np.eye(4)).to_filename('{}/exhale.nii.gz'.format(PATIENT_QUANTISED_DIR))\n",
    "nib.Nifti1Image(np.transpose(insp_arr, (2,1,0)), np.eye(4)).to_filename('{}/inhale.nii.gz'.format(PATIENT_QUANTISED_DIR))\n",
    "nib.Nifti1Image(np.transpose(exh_mask_arr, (2,1,0)).astype(np.int8), np.eye(4)).to_filename('{}/exhale-mask.nii.gz'.format(PATIENT_QUANTISED_DIR))\n",
    "nib.Nifti1Image(np.transpose(pet_labels_arr, (2,1,0)).astype(np.int8), np.eye(4)).to_filename('{}/quantised-pet.nii.gz'.format(PATIENT_QUANTISED_DIR))\n",
    "nib.Nifti1Image(np.transpose(ctvi_jac_label_arr, (2,1,0)).astype(np.int8), np.eye(4)).to_filename('{}/quantised-ctvi-jac.nii.gz'.format(PATIENT_QUANTISED_DIR))\n",
    "nib.Nifti1Image(np.transpose(ctvi_hu_label_arr, (2,1,0)).astype(np.int8), np.eye(4)).to_filename('{}/quantised-ctvi-hu.nii.gz'.format(PATIENT_QUANTISED_DIR))"
   ]
  },
  {
   "cell_type": "code",
   "execution_count": null,
   "metadata": {},
   "outputs": [],
   "source": []
  }
 ],
 "metadata": {
  "kernelspec": {
   "display_name": "Python 3 (ipykernel)",
   "language": "python",
   "name": "python3"
  },
  "language_info": {
   "codemirror_mode": {
    "name": "ipython",
    "version": 3
   },
   "file_extension": ".py",
   "mimetype": "text/x-python",
   "name": "python",
   "nbconvert_exporter": "python",
   "pygments_lexer": "ipython3",
   "version": "3.10.14"
  }
 },
 "nbformat": 4,
 "nbformat_minor": 4
}
