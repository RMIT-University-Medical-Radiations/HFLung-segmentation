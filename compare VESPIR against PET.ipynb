{
 "cells": [
  {
   "cell_type": "markdown",
   "id": "a8d945cb-b7cf-4c31-973f-2955f41a992f",
   "metadata": {},
   "source": [
    "### Compare the nnU-Net predictions and the VESPIR images with the ground truth (thresholded PET)"
   ]
  },
  {
   "cell_type": "code",
   "execution_count": 42,
   "id": "f8e57a45-e7a3-44ca-8ad6-a3346c091fcb",
   "metadata": {},
   "outputs": [],
   "source": [
    "import os\n",
    "import matplotlib.pyplot as plt\n",
    "import numpy as np\n",
    "from scipy.stats import spearmanr\n",
    "import SimpleITK as sitk\n",
    "import json\n",
    "from os.path import expanduser\n",
    "import nibabel as nib"
   ]
  },
  {
   "cell_type": "markdown",
   "id": "0be40147-99c2-4917-af11-e7a1fb0a607f",
   "metadata": {},
   "source": [
    "#### load the test set patient IDs"
   ]
  },
  {
   "cell_type": "code",
   "execution_count": 43,
   "id": "aba35afd-2d4a-42d8-9bec-3b02e3d78106",
   "metadata": {},
   "outputs": [],
   "source": [
    "TRAINING_SET_ID = 140\n",
    "TEST_PATIENT_IDX = 0"
   ]
  },
  {
   "cell_type": "code",
   "execution_count": 44,
   "id": "94679e98-7e7c-4c5c-b9ca-90ce29a57311",
   "metadata": {},
   "outputs": [],
   "source": [
    "with open('{}/patient-mapping-Dataset{}_RNSH_HFlung.json'.format(expanduser('~'), TRAINING_SET_ID)) as f:\n",
    "    patient_mapping = json.load(f)"
   ]
  },
  {
   "cell_type": "code",
   "execution_count": 45,
   "id": "67309340-b0fd-4489-8d52-0a1e083a28f1",
   "metadata": {},
   "outputs": [],
   "source": [
    "test_patient = patient_mapping['test'][TEST_PATIENT_IDX]"
   ]
  },
  {
   "cell_type": "code",
   "execution_count": 46,
   "id": "95c4cb07-5885-4df8-82b3-7d9f7f4a0e5f",
   "metadata": {},
   "outputs": [
    {
     "data": {
      "text/plain": [
       "20"
      ]
     },
     "execution_count": 46,
     "metadata": {},
     "output_type": "execute_result"
    }
   ],
   "source": [
    "test_patient_id = int(test_patient[0].split('/')[-1].split('.')[0][-2:])\n",
    "test_patient_id"
   ]
  },
  {
   "cell_type": "code",
   "execution_count": 56,
   "id": "739074ab-06a4-4820-a3cf-ffde98ad21c3",
   "metadata": {},
   "outputs": [],
   "source": [
    "### temporary - for testing only\n",
    "TRAINING_SET_ID = 138\n",
    "TEST_PATIENT_IDX = 0\n",
    "test_patient_id = 17"
   ]
  },
  {
   "cell_type": "markdown",
   "id": "77107db7-c242-4edb-9ded-8c6c40d55bb1",
   "metadata": {},
   "source": [
    "#### load the pre-processing stack"
   ]
  },
  {
   "cell_type": "code",
   "execution_count": 57,
   "id": "0dddccf0-4999-4c42-baf0-c8ae6f3bc6ec",
   "metadata": {},
   "outputs": [],
   "source": [
    "f = '/mnt/data-ssd-4t/datasets/RNSH_HFlung/training-set/Patient{:02d}.npy'.format(test_patient_id)\n",
    "patient_arr = np.load(f)\n",
    "patient_arr = np.moveaxis(patient_arr, 1, -1)  # move the z-axis to be last"
   ]
  },
  {
   "cell_type": "code",
   "execution_count": 73,
   "id": "dbaf8e10-1423-44e8-90e4-c1aa6a062731",
   "metadata": {},
   "outputs": [
    {
     "data": {
      "text/plain": [
       "((304, 304, 250), (304, 304, 250), (304, 304, 250))"
      ]
     },
     "execution_count": 73,
     "metadata": {},
     "output_type": "execute_result"
    }
   ],
   "source": [
    "exh_img = patient_arr[0]\n",
    "inh_img = patient_arr[1]\n",
    "pet_img = patient_arr[2]\n",
    "exh_img.shape, inh_img.shape, pet_img.shape"
   ]
  },
  {
   "cell_type": "code",
   "execution_count": 74,
   "id": "a70cf508-0a8e-4041-b2c6-af2ac91ce522",
   "metadata": {},
   "outputs": [
    {
     "data": {
      "text/plain": [
       "(304, 304, 250)"
      ]
     },
     "execution_count": 74,
     "metadata": {},
     "output_type": "execute_result"
    }
   ],
   "source": [
    "label_img = nib.load('/mnt/data-ssd-4t/datasets/RNSH_HFlung/nnU-Net-processing/nnUNet_raw/Dataset{}_RNSH_HFlung/labelsTs/RNSH_HFlung_{:04d}.nii.gz'.format(TRAINING_SET_ID, TEST_PATIENT_IDX)).get_fdata()\n",
    "label_img.shape"
   ]
  },
  {
   "cell_type": "markdown",
   "id": "4df109db-f566-466e-923c-024a88b59a2a",
   "metadata": {},
   "source": [
    "#### load the VESPIR output"
   ]
  },
  {
   "cell_type": "code",
   "execution_count": 67,
   "id": "273d8a25-8d7a-410d-aa88-2c76e70a0211",
   "metadata": {},
   "outputs": [],
   "source": [
    "f = '/mnt/data-ssd-4t/datasets/RNSH_HFlung/VESPIR-output/Patient{:02d}/VentFinal_DIR-HU.mha'.format(test_patient_id)\n",
    "vespir_img = sitk.GetArrayFromImage(sitk.ReadImage(f))"
   ]
  },
  {
   "cell_type": "code",
   "execution_count": 69,
   "id": "ec2da8e0-270e-45be-9506-ec0e121d03ed",
   "metadata": {},
   "outputs": [
    {
     "data": {
      "text/plain": [
       "(84, 512, 512)"
      ]
     },
     "execution_count": 69,
     "metadata": {},
     "output_type": "execute_result"
    }
   ],
   "source": [
    "vespir_img.shape"
   ]
  },
  {
   "cell_type": "markdown",
   "id": "6371c1f0-9e3e-42cd-826e-07ed8f70e94c",
   "metadata": {},
   "source": [
    "#### load the predictions"
   ]
  },
  {
   "cell_type": "code",
   "execution_count": 61,
   "id": "d3f44379-b101-4790-a3cb-a0f01ba3902b",
   "metadata": {},
   "outputs": [],
   "source": [
    "prediction_img = nib.load('/mnt/data-ssd-4t/datasets/RNSH_HFlung/nnU-Net-processing/nnUNet_predictions/Dataset{}_RNSH_HFlung/hist-post/RNSH_HFlung_{:04d}.nii.gz'.format(TRAINING_SET_ID, TEST_PATIENT_IDX)).get_fdata()"
   ]
  },
  {
   "cell_type": "code",
   "execution_count": 70,
   "id": "30f74715-6896-4ed0-9c95-0ff7edbf7075",
   "metadata": {},
   "outputs": [
    {
     "data": {
      "text/plain": [
       "(304, 304, 250)"
      ]
     },
     "execution_count": 70,
     "metadata": {},
     "output_type": "execute_result"
    }
   ],
   "source": [
    "prediction_img.shape"
   ]
  },
  {
   "cell_type": "markdown",
   "id": "ad5159ca-0246-4bf0-a638-a028f5e745de",
   "metadata": {},
   "source": [
    "#### display"
   ]
  },
  {
   "cell_type": "code",
   "execution_count": 63,
   "id": "f920c556-e99c-4baa-bbf4-94529c2986e5",
   "metadata": {},
   "outputs": [],
   "source": [
    "DISPLAY_IDX = 100"
   ]
  },
  {
   "cell_type": "code",
   "execution_count": 65,
   "id": "661be9ae-a832-451e-9a0a-33d753d0a11f",
   "metadata": {},
   "outputs": [
    {
     "ename": "IndexError",
     "evalue": "index 100 is outside the extent for dimension 2 with size 84",
     "output_type": "error",
     "traceback": [
      "\u001b[0;31m---------------------------------------------------------------------------\u001b[0m",
      "\u001b[0;31mIndexError\u001b[0m                                Traceback (most recent call last)",
      "\u001b[0;32m/tmp/ipykernel_225106/2267695442.py\u001b[0m in \u001b[0;36m?\u001b[0;34m()\u001b[0m\n\u001b[1;32m     10\u001b[0m \u001b[0max3\u001b[0m\u001b[0;34m.\u001b[0m\u001b[0mimshow\u001b[0m\u001b[0;34m(\u001b[0m\u001b[0mpet_img\u001b[0m\u001b[0;34m[\u001b[0m\u001b[0mDISPLAY_IDX\u001b[0m\u001b[0;34m]\u001b[0m\u001b[0;34m)\u001b[0m\u001b[0;34m\u001b[0m\u001b[0;34m\u001b[0m\u001b[0m\n\u001b[1;32m     11\u001b[0m \u001b[0max3\u001b[0m\u001b[0;34m.\u001b[0m\u001b[0mset_title\u001b[0m\u001b[0;34m(\u001b[0m\u001b[0;34m'PET average'\u001b[0m\u001b[0;34m)\u001b[0m\u001b[0;34m\u001b[0m\u001b[0;34m\u001b[0m\u001b[0m\n\u001b[1;32m     12\u001b[0m \u001b[0max3\u001b[0m\u001b[0;34m.\u001b[0m\u001b[0mset_axis_off\u001b[0m\u001b[0;34m(\u001b[0m\u001b[0;34m)\u001b[0m\u001b[0;34m\u001b[0m\u001b[0;34m\u001b[0m\u001b[0m\n\u001b[1;32m     13\u001b[0m \u001b[0;34m\u001b[0m\u001b[0m\n\u001b[0;32m---> 14\u001b[0;31m \u001b[0max4\u001b[0m\u001b[0;34m.\u001b[0m\u001b[0mimshow\u001b[0m\u001b[0;34m(\u001b[0m\u001b[0mvespir_img\u001b[0m\u001b[0;34m[\u001b[0m\u001b[0;34m:\u001b[0m\u001b[0;34m,\u001b[0m\u001b[0;34m:\u001b[0m\u001b[0;34m,\u001b[0m\u001b[0mDISPLAY_IDX\u001b[0m\u001b[0;34m]\u001b[0m\u001b[0;34m)\u001b[0m\u001b[0;34m\u001b[0m\u001b[0;34m\u001b[0m\u001b[0m\n\u001b[0m\u001b[1;32m     15\u001b[0m \u001b[0max4\u001b[0m\u001b[0;34m.\u001b[0m\u001b[0mset_title\u001b[0m\u001b[0;34m(\u001b[0m\u001b[0;34m'VESPIR'\u001b[0m\u001b[0;34m)\u001b[0m\u001b[0;34m\u001b[0m\u001b[0;34m\u001b[0m\u001b[0m\n\u001b[1;32m     16\u001b[0m \u001b[0max4\u001b[0m\u001b[0;34m.\u001b[0m\u001b[0mset_axis_off\u001b[0m\u001b[0;34m(\u001b[0m\u001b[0;34m)\u001b[0m\u001b[0;34m\u001b[0m\u001b[0;34m\u001b[0m\u001b[0m\n\u001b[1;32m     17\u001b[0m \u001b[0;34m\u001b[0m\u001b[0m\n",
      "\u001b[0;32m~/miniconda3/envs/nnunet/lib/python3.10/site-packages/SimpleITK/SimpleITK.py\u001b[0m in \u001b[0;36m?\u001b[0;34m(self, idx)\u001b[0m\n\u001b[1;32m   4280\u001b[0m             \u001b[0ms\u001b[0m \u001b[0;34m=\u001b[0m \u001b[0midx\u001b[0m\u001b[0;34m[\u001b[0m\u001b[0mi\u001b[0m\u001b[0;34m]\u001b[0m\u001b[0;34m\u001b[0m\u001b[0;34m\u001b[0m\u001b[0m\n\u001b[1;32m   4281\u001b[0m             \u001b[0;32mif\u001b[0m \u001b[0ms\u001b[0m \u001b[0;34m<\u001b[0m \u001b[0;36m0\u001b[0m\u001b[0;34m:\u001b[0m\u001b[0;34m\u001b[0m\u001b[0;34m\u001b[0m\u001b[0m\n\u001b[1;32m   4282\u001b[0m               \u001b[0ms\u001b[0m \u001b[0;34m+=\u001b[0m \u001b[0msize\u001b[0m\u001b[0;34m[\u001b[0m\u001b[0mi\u001b[0m\u001b[0;34m]\u001b[0m\u001b[0;34m\u001b[0m\u001b[0;34m\u001b[0m\u001b[0m\n\u001b[1;32m   4283\u001b[0m             \u001b[0;32mif\u001b[0m \u001b[0ms\u001b[0m \u001b[0;34m<\u001b[0m \u001b[0;36m0\u001b[0m \u001b[0;32mor\u001b[0m \u001b[0ms\u001b[0m \u001b[0;34m>=\u001b[0m \u001b[0msize\u001b[0m\u001b[0;34m[\u001b[0m\u001b[0mi\u001b[0m\u001b[0;34m]\u001b[0m\u001b[0;34m:\u001b[0m\u001b[0;34m\u001b[0m\u001b[0;34m\u001b[0m\u001b[0m\n\u001b[0;32m-> 4284\u001b[0;31m               \u001b[0;32mraise\u001b[0m \u001b[0mIndexError\u001b[0m\u001b[0;34m(\u001b[0m\u001b[0;34m\"index {0} is outside the extent for dimension {1} with size {2}\"\u001b[0m\u001b[0;34m.\u001b[0m\u001b[0mformat\u001b[0m\u001b[0;34m(\u001b[0m \u001b[0midx\u001b[0m\u001b[0;34m[\u001b[0m\u001b[0mi\u001b[0m\u001b[0;34m]\u001b[0m\u001b[0;34m,\u001b[0m \u001b[0mi\u001b[0m\u001b[0;34m,\u001b[0m \u001b[0msize\u001b[0m\u001b[0;34m[\u001b[0m\u001b[0mi\u001b[0m\u001b[0;34m]\u001b[0m\u001b[0;34m)\u001b[0m\u001b[0;34m)\u001b[0m\u001b[0;34m\u001b[0m\u001b[0;34m\u001b[0m\u001b[0m\n\u001b[0m\u001b[1;32m   4285\u001b[0m \u001b[0;34m\u001b[0m\u001b[0m\n\u001b[1;32m   4286\u001b[0m \u001b[0;34m\u001b[0m\u001b[0m\n\u001b[1;32m   4287\u001b[0m             \u001b[0midx\u001b[0m \u001b[0;34m=\u001b[0m \u001b[0mtuple\u001b[0m\u001b[0;34m(\u001b[0m\u001b[0midx\u001b[0m\u001b[0;34m[\u001b[0m\u001b[0;34m:\u001b[0m\u001b[0mi\u001b[0m\u001b[0;34m]\u001b[0m\u001b[0;34m)\u001b[0m \u001b[0;34m+\u001b[0m \u001b[0;34m(\u001b[0m\u001b[0mslice\u001b[0m\u001b[0;34m(\u001b[0m\u001b[0ms\u001b[0m\u001b[0;34m,\u001b[0m \u001b[0ms\u001b[0m\u001b[0;34m+\u001b[0m\u001b[0;36m1\u001b[0m\u001b[0;34m)\u001b[0m\u001b[0;34m,\u001b[0m\u001b[0;34m)\u001b[0m\u001b[0;34m+\u001b[0m \u001b[0mtuple\u001b[0m\u001b[0;34m(\u001b[0m\u001b[0midx\u001b[0m\u001b[0;34m[\u001b[0m\u001b[0mi\u001b[0m\u001b[0;34m+\u001b[0m\u001b[0;36m1\u001b[0m\u001b[0;34m:\u001b[0m\u001b[0;34m]\u001b[0m\u001b[0;34m)\u001b[0m\u001b[0;34m\u001b[0m\u001b[0;34m\u001b[0m\u001b[0m\n",
      "\u001b[0;31mIndexError\u001b[0m: index 100 is outside the extent for dimension 2 with size 84"
     ]
    },
    {
     "data": {
      "image/png": "[encoded data removed]",
      "text/plain": [
       "<Figure size 1500x400 with 5 Axes>"
      ]
     },
     "metadata": {},
     "output_type": "display_data"
    }
   ],
   "source": [
    "fig, (ax1, ax2, ax3, ax4, ax5) = plt.subplots(1, 5, figsize=(15,4))\n",
    "ax1.imshow(exh_img[DISPLAY_IDX], cmap=\"gray\")\n",
    "ax1.set_title('Exhalation')\n",
    "ax1.set_axis_off()\n",
    "\n",
    "ax2.imshow(inh_img[DISPLAY_IDX], cmap=\"gray\")\n",
    "ax2.set_title('Inhalation')\n",
    "ax2.set_axis_off()\n",
    "\n",
    "ax3.imshow(pet_img[DISPLAY_IDX])\n",
    "ax3.set_title('PET average')\n",
    "ax3.set_axis_off()\n",
    "\n",
    "ax4.imshow(vespir_img[:,:,DISPLAY_IDX])\n",
    "ax4.set_title('VESPIR')\n",
    "ax4.set_axis_off()\n",
    "\n",
    "ax5.imshow(prediction_img[:,:,DISPLAY_IDX])\n",
    "ax5.set_title('Prediction')\n",
    "ax5.set_axis_off()\n",
    "\n",
    "fig.suptitle('Patient ID {}'.format(test_patient_id), x=0.1, y=1.0, fontsize=12, ha='left')\n",
    "\n",
    "fig.subplots_adjust(left=0.1,\n",
    "                    bottom=0.1, \n",
    "                    right=0.9, \n",
    "                    top=0.9, \n",
    "                    wspace=0.01, \n",
    "                    hspace=0.1)"
   ]
  },
  {
   "cell_type": "code",
   "execution_count": null,
   "id": "00b6a3e9-d0e4-4226-801c-e4765eb25567",
   "metadata": {},
   "outputs": [],
   "source": []
  }
 ],
 "metadata": {
  "kernelspec": {
   "display_name": "Python 3 (ipykernel)",
   "language": "python",
   "name": "python3"
  },
  "language_info": {
   "codemirror_mode": {
    "name": "ipython",
    "version": 3
   },
   "file_extension": ".py",
   "mimetype": "text/x-python",
   "name": "python",
   "nbconvert_exporter": "python",
   "pygments_lexer": "ipython3",
   "version": "3.10.13"
  }
 },
 "nbformat": 4,
 "nbformat_minor": 5
}
