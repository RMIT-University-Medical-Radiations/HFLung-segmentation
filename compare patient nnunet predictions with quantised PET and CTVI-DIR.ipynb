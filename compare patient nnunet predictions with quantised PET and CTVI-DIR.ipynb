{
 "cells": [
  {
   "cell_type": "code",
   "execution_count": 1,
   "id": "f8e57a45-e7a3-44ca-8ad6-a3346c091fcb",
   "metadata": {
    "editable": true,
    "slideshow": {
     "slide_type": ""
    },
    "tags": []
   },
   "outputs": [],
   "source": [
    "import os\n",
    "import nibabel as nib\n",
    "import matplotlib.pyplot as plt\n",
    "import numpy as np\n",
    "from scipy.stats import spearmanr\n",
    "import pickle\n",
    "import seg_metrics.seg_metrics as sg\n",
    "import json\n",
    "import SimpleITK as sitk\n",
    "from matplotlib.colors import ListedColormap\n",
    "import matplotlib.patches as mpatches\n",
    "from os.path import expanduser"
   ]
  },
  {
   "cell_type": "markdown",
   "id": "18b378db-68fb-48b0-9821-2be119dbd27f",
   "metadata": {},
   "source": [
    "#### compare the prediction from nnU-Net with the PET ground truth"
   ]
  },
  {
   "cell_type": "code",
   "execution_count": 2,
   "id": "275992c0-6b0a-4a45-908d-e7b97404e58b",
   "metadata": {
    "editable": true,
    "slideshow": {
     "slide_type": ""
    },
    "tags": [
     "parameters"
    ]
   },
   "outputs": [],
   "source": [
    "DATASET_ID = 160\n",
    "TEST_ID = 0\n",
    "MODEL_CONFIG_SUFFIX = '' # '' or '/2d' i.e. none means 3d_fullres"
   ]
  },
  {
   "cell_type": "code",
   "execution_count": 3,
   "id": "239a1818-fc69-437f-9a2f-730614da8630",
   "metadata": {
    "editable": true,
    "slideshow": {
     "slide_type": ""
    },
    "tags": []
   },
   "outputs": [],
   "source": [
    "RAW_DIR = '/mnt/data/datasets/RNSH_HFlung/nnU-Net-processing/nnUNet_raw'\n",
    "DATASET_BASE_DIR = '{}/Dataset{}_RNSH_HFlung'.format(RAW_DIR, DATASET_ID)"
   ]
  },
  {
   "cell_type": "code",
   "execution_count": 4,
   "id": "924542f1-56e1-4939-85b8-0dca5f61be62",
   "metadata": {
    "editable": true,
    "slideshow": {
     "slide_type": ""
    },
    "tags": []
   },
   "outputs": [
    {
     "data": {
      "text/plain": [
       "(320, 320, 300)"
      ]
     },
     "execution_count": 4,
     "metadata": {},
     "output_type": "execute_result"
    }
   ],
   "source": [
    "CHECKPOINT = 'best'\n",
    "# CHECKPOINT = 'final'\n",
    "\n",
    "prediction_img = nib.load('/mnt/data/datasets/RNSH_HFlung/nnU-Net-processing/nnUNet_predictions/Dataset{}_RNSH_HFlung/{}{}/RNSH_HFlung_{:04d}.nii.gz'.format(DATASET_ID, CHECKPOINT, MODEL_CONFIG_SUFFIX, TEST_ID)).get_fdata().astype(int)\n",
    "prediction_img.shape"
   ]
  },
  {
   "cell_type": "code",
   "execution_count": 5,
   "id": "fa7f9b65-7507-4af7-b278-1dfdb0fe7b99",
   "metadata": {},
   "outputs": [
    {
     "data": {
      "text/plain": [
       "array([0, 1, 2, 3])"
      ]
     },
     "execution_count": 5,
     "metadata": {},
     "output_type": "execute_result"
    }
   ],
   "source": [
    "np.unique(prediction_img)"
   ]
  },
  {
   "cell_type": "code",
   "execution_count": 6,
   "id": "d3f44379-b101-4790-a3cb-a0f01ba3902b",
   "metadata": {},
   "outputs": [
    {
     "data": {
      "text/plain": [
       "(320, 320, 300)"
      ]
     },
     "execution_count": 6,
     "metadata": {},
     "output_type": "execute_result"
    }
   ],
   "source": [
    "label_img = nib.load('{}/labelsTs/RNSH_HFlung_{:04d}.nii.gz'.format(DATASET_BASE_DIR, TEST_ID)).get_fdata().astype(int)\n",
    "label_img.shape"
   ]
  },
  {
   "cell_type": "code",
   "execution_count": 7,
   "id": "f920c556-e99c-4baa-bbf4-94529c2986e5",
   "metadata": {},
   "outputs": [],
   "source": [
    "DISPLAY_IDX = 150"
   ]
  },
  {
   "cell_type": "code",
   "execution_count": 8,
   "id": "aff163b3-e44a-41d8-871d-61d2e257f2f1",
   "metadata": {},
   "outputs": [],
   "source": [
    "labels_d = {0:'background', 1:'high', 2:'medium', 3:'low'}\n",
    "\n",
    "# set up the colour map\n",
    "colours_d = {\n",
    "    0: 'black',\n",
    "    1: 'lime',\n",
    "    2: 'lightseagreen',\n",
    "    3: 'slategray'\n",
    "}\n",
    "\n",
    "cm = ListedColormap(colours_d.values())"
   ]
  },
  {
   "cell_type": "code",
   "execution_count": 9,
   "id": "d6fbc3b1-f9e4-492c-b252-069deaee4e8e",
   "metadata": {},
   "outputs": [
    {
     "data": {
      "image/png": "[encoded data removed]",
      "text/plain": [
       "<Figure size 800x400 with 2 Axes>"
      ]
     },
     "metadata": {},
     "output_type": "display_data"
    }
   ],
   "source": [
    "fig, (ax1, ax2) = plt.subplots(1, 2, figsize=(8,4))\n",
    "\n",
    "_ = ax1.imshow(label_img[:,:,DISPLAY_IDX].T, cmap=cm, interpolation='none')\n",
    "ax1.set_title('PET ground truth')\n",
    "ax1.set_axis_off()\n",
    "\n",
    "im = ax2.imshow(prediction_img[:,:,DISPLAY_IDX].T, cmap=cm, interpolation='none')\n",
    "\n",
    "# create a patch (proxy artist) for every color \n",
    "patches = [ mpatches.Patch(color=colours_d[i], label=\"{l}\".format(l=labels_d[i]) ) for i in [1,2,3] ]\n",
    "plt.legend(handles=patches, bbox_to_anchor=(1.05, 1), loc=2, borderaxespad=0. )\n",
    "\n",
    "if MODEL_CONFIG_SUFFIX == '':\n",
    "    ax2.set_title(r'CTVI$_\\text{nnU-Net}$')\n",
    "else:\n",
    "    ax2.set_title(r'CTVI$_\\text{nnU-Net-2D}$')\n",
    "ax2.set_axis_off()"
   ]
  },
  {
   "cell_type": "code",
   "execution_count": 10,
   "id": "ef92f405-7f12-496c-b55d-2ed6a71f0ea5",
   "metadata": {},
   "outputs": [],
   "source": [
    "from sklearn.metrics import confusion_matrix, ConfusionMatrixDisplay"
   ]
  },
  {
   "cell_type": "code",
   "execution_count": 11,
   "id": "e853c418-f36f-48a9-8c1c-ffbe2b79087c",
   "metadata": {},
   "outputs": [],
   "source": [
    "nnunet_cm = confusion_matrix(label_img.ravel(), prediction_img.ravel(), labels=[1,2,3])\n",
    "nnunet_cm = np.around(nnunet_cm.astype('float') / nnunet_cm.sum(axis=1)[:, np.newaxis], decimals=2)"
   ]
  },
  {
   "cell_type": "code",
   "execution_count": 12,
   "id": "598dc0b1-3f59-42ea-921e-4097bb51e8cb",
   "metadata": {},
   "outputs": [],
   "source": [
    "from matplotlib.colors import ListedColormap, LinearSegmentedColormap\n",
    "\n",
    "# base_color = '#4D5249'\n",
    "base_color = '#20B2AA'\n",
    "color_shades = ['0', '1', '2', '3', '4', '5', '6', '7', '8', '9', 'a', 'b', 'c', 'd', 'e', 'f']\n",
    "cmap_colors = []\n",
    "\n",
    "for color_shade in color_shades:\n",
    "    cmap_colors.append(base_color+color_shade+color_shade)\n",
    "\n",
    "confusion_matrix_cmap= ListedColormap(cmap_colors)"
   ]
  },
  {
   "cell_type": "code",
   "execution_count": 13,
   "id": "19cb77fa-52e9-4e8d-9d3d-8e2a2be00a57",
   "metadata": {},
   "outputs": [],
   "source": [
    "plt.rcParams['font.size'] = 18\n",
    "plt.rcParams['figure.dpi'] = 150\n",
    "plt.rcParams['figure.figsize'] = 4,4"
   ]
  },
  {
   "cell_type": "code",
   "execution_count": 14,
   "id": "862f7ecc-84e5-48a8-8a9b-bddd1e19c854",
   "metadata": {},
   "outputs": [
    {
     "name": "stdout",
     "output_type": "stream",
     "text": [
      "saved figure to /home/daryl/figures/confusion-matrix-ctvi-nnunet-dataset-160-test-00.svg\n"
     ]
    },
    {
     "data": {
      "image/png": "[encoded data removed]",
      "text/plain": [
       "<Figure size 600x600 with 1 Axes>"
      ]
     },
     "metadata": {},
     "output_type": "display_data"
    }
   ],
   "source": [
    "disp = ConfusionMatrixDisplay(confusion_matrix=nnunet_cm, display_labels=['high','medium','low'])\n",
    "disp.plot(values_format='.2f', cmap=confusion_matrix_cmap, \n",
    "          im_kw={'vmin':0, 'vmax':1.0}, \n",
    "          colorbar=False, \n",
    "          text_kw={'color':'black', 'fontsize':'medium', 'fontweight':'medium'})\n",
    "if MODEL_CONFIG_SUFFIX == '':\n",
    "    plt.title(r'CTVI$_\\text{nnU-Net}$')\n",
    "else:\n",
    "    plt.title(r'CTVI$_\\text{nnU-Net-2D}$')\n",
    "plt.gca().xaxis.label.set_visible(False)\n",
    "plt.gca().yaxis.label.set_visible(False)\n",
    "fig_filename = '{}/figures/confusion-matrix-ctvi-nnunet{}-dataset-{:03d}-test-{:02d}.svg'.format(expanduser('~'), MODEL_CONFIG_SUFFIX.replace('/','-'), DATASET_ID, TEST_ID)\n",
    "plt.savefig(fig_filename, format='svg', dpi=600, bbox_inches='tight')\n",
    "print('saved figure to {}'.format(fig_filename))"
   ]
  },
  {
   "cell_type": "code",
   "execution_count": 15,
   "id": "5864848a-5436-4b5d-abb1-65cf135ced35",
   "metadata": {},
   "outputs": [
    {
     "name": "stdout",
     "output_type": "stream",
     "text": [
      "nnU-Net and PET DSC\n",
      "high: 0.72\n",
      "medium: 0.66\n",
      "low: 0.73\n"
     ]
    }
   ],
   "source": [
    "nnunet_dsc = {}\n",
    "print('nnU-Net and PET DSC')\n",
    "for idx,label in enumerate(['high','medium','low']):\n",
    "    k = idx+1\n",
    "    dice = np.sum(prediction_img[label_img==k]==k)*2.0 / (np.sum(prediction_img[prediction_img==k]==k) + np.sum(label_img[label_img==k]==k))\n",
    "    nnunet_dsc[label] = dice\n",
    "    print('{}: {}'.format(label, round(dice,2)))"
   ]
  },
  {
   "cell_type": "code",
   "execution_count": 16,
   "id": "2b596f1a-90d7-4da8-9e37-38d6b1b06b93",
   "metadata": {},
   "outputs": [
    {
     "ename": "KeyboardInterrupt",
     "evalue": "",
     "output_type": "error",
     "traceback": [
      "\u001b[0;31m---------------------------------------------------------------------------\u001b[0m",
      "\u001b[0;31mKeyboardInterrupt\u001b[0m                         Traceback (most recent call last)",
      "\u001b[0;32m/tmp/ipykernel_2563274/3658758246.py\u001b[0m in \u001b[0;36m?\u001b[0;34m()\u001b[0m\n\u001b[1;32m      1\u001b[0m \u001b[0mlabels\u001b[0m \u001b[0;34m=\u001b[0m \u001b[0;34m[\u001b[0m\u001b[0;36m1\u001b[0m\u001b[0;34m,\u001b[0m \u001b[0;36m2\u001b[0m\u001b[0;34m,\u001b[0m \u001b[0;36m3\u001b[0m\u001b[0;34m]\u001b[0m  \u001b[0;31m# high, medium, low\u001b[0m\u001b[0;34m\u001b[0m\u001b[0;34m\u001b[0m\u001b[0m\n\u001b[1;32m      2\u001b[0m \u001b[0;34m\u001b[0m\u001b[0m\n\u001b[0;32m----> 3\u001b[0;31m nnunet_metrics = sg.write_metrics(labels=labels,\n\u001b[0m\u001b[1;32m      4\u001b[0m                   \u001b[0mgdth_img\u001b[0m\u001b[0;34m=\u001b[0m\u001b[0mlabel_img\u001b[0m\u001b[0;34m,\u001b[0m\u001b[0;34m\u001b[0m\u001b[0;34m\u001b[0m\u001b[0m\n\u001b[1;32m      5\u001b[0m                   \u001b[0mpred_img\u001b[0m\u001b[0;34m=\u001b[0m\u001b[0mprediction_img\u001b[0m\u001b[0;34m,\u001b[0m\u001b[0;34m\u001b[0m\u001b[0;34m\u001b[0m\u001b[0m\n\u001b[1;32m      6\u001b[0m                   \u001b[0mcsv_file\u001b[0m\u001b[0;34m=\u001b[0m\u001b[0;32mNone\u001b[0m\u001b[0;34m,\u001b[0m\u001b[0;34m\u001b[0m\u001b[0;34m\u001b[0m\u001b[0m\n",
      "\u001b[0;32m~/miniconda3/envs/py310/lib/python3.10/site-packages/seg_metrics/seg_metrics.py\u001b[0m in \u001b[0;36m?\u001b[0;34m(labels, gdth_path, pred_path, csv_file, gdth_img, pred_img, metrics, verbose, spacing, fully_connected, TPTNFPFN)\u001b[0m\n\u001b[1;32m    402\u001b[0m \u001b[0;34m\u001b[0m\u001b[0m\n\u001b[1;32m    403\u001b[0m \u001b[0;34m\u001b[0m\u001b[0m\n\u001b[1;32m    404\u001b[0m                 \u001b[0mgdth\u001b[0m \u001b[0;34m=\u001b[0m \u001b[0mone_hot_encode_3d\u001b[0m\u001b[0;34m(\u001b[0m\u001b[0mgdth\u001b[0m\u001b[0;34m,\u001b[0m \u001b[0mlabels\u001b[0m\u001b[0;34m=\u001b[0m\u001b[0mlabels\u001b[0m\u001b[0;34m)\u001b[0m\u001b[0;34m\u001b[0m\u001b[0;34m\u001b[0m\u001b[0m\n\u001b[1;32m    405\u001b[0m                 \u001b[0mpred\u001b[0m \u001b[0;34m=\u001b[0m \u001b[0mone_hot_encode_3d\u001b[0m\u001b[0;34m(\u001b[0m\u001b[0mpred\u001b[0m\u001b[0;34m,\u001b[0m \u001b[0mlabels\u001b[0m\u001b[0;34m=\u001b[0m\u001b[0mlabels\u001b[0m\u001b[0;34m)\u001b[0m\u001b[0;34m\u001b[0m\u001b[0;34m\u001b[0m\u001b[0m\n\u001b[0;32m--> 406\u001b[0;31m                 metrics_dict_all_labels = get_metrics_dict_all_labels(labels, gdth, pred, spacing=gdth_spacing[::-1],\n\u001b[0m\u001b[1;32m    407\u001b[0m                                                                       metrics_names=metrics, fullyConnected=fully_connected)\n\u001b[1;32m    408\u001b[0m                 \u001b[0;31m# metrics_dict_all_labels['image_number'] = img_id  # add a new key to the metrics\u001b[0m\u001b[0;34m\u001b[0m\u001b[0;34m\u001b[0m\u001b[0m\n\u001b[1;32m    409\u001b[0m \u001b[0;34m\u001b[0m\u001b[0m\n",
      "\u001b[0;32m~/miniconda3/envs/py310/lib/python3.10/site-packages/seg_metrics/seg_metrics.py\u001b[0m in \u001b[0;36m?\u001b[0;34m(labels, gdth, pred, spacing, metrics_names, fullyConnected)\u001b[0m\n\u001b[1;32m    260\u001b[0m     \u001b[0;32mfor\u001b[0m \u001b[0mi\u001b[0m\u001b[0;34m,\u001b[0m \u001b[0mlabel\u001b[0m \u001b[0;32min\u001b[0m \u001b[0menumerate\u001b[0m\u001b[0;34m(\u001b[0m\u001b[0mlabels\u001b[0m\u001b[0;34m)\u001b[0m\u001b[0;34m:\u001b[0m\u001b[0;34m\u001b[0m\u001b[0;34m\u001b[0m\u001b[0m\n\u001b[1;32m    261\u001b[0m         \u001b[0mlogging\u001b[0m\u001b[0;34m.\u001b[0m\u001b[0minfo\u001b[0m\u001b[0;34m(\u001b[0m\u001b[0;34mf'\\nstart to get metrics for label: {label}'\u001b[0m\u001b[0;34m)\u001b[0m\u001b[0;34m\u001b[0m\u001b[0;34m\u001b[0m\u001b[0m\n\u001b[1;32m    262\u001b[0m         \u001b[0mpred_per\u001b[0m \u001b[0;34m=\u001b[0m \u001b[0mpred\u001b[0m\u001b[0;34m[\u001b[0m\u001b[0;34m...\u001b[0m\u001b[0;34m,\u001b[0m \u001b[0mi\u001b[0m\u001b[0;34m]\u001b[0m  \u001b[0;31m# select onlabel\u001b[0m\u001b[0;34m\u001b[0m\u001b[0;34m\u001b[0m\u001b[0m\n\u001b[1;32m    263\u001b[0m         \u001b[0mgdth_per\u001b[0m \u001b[0;34m=\u001b[0m \u001b[0mgdth\u001b[0m\u001b[0;34m[\u001b[0m\u001b[0;34m...\u001b[0m\u001b[0;34m,\u001b[0m \u001b[0mi\u001b[0m\u001b[0;34m]\u001b[0m\u001b[0;34m\u001b[0m\u001b[0;34m\u001b[0m\u001b[0m\n\u001b[0;32m--> 264\u001b[0;31m         metrics = computeQualityMeasures(pred_per, gdth_per,\n\u001b[0m\u001b[1;32m    265\u001b[0m                                          \u001b[0mspacing\u001b[0m\u001b[0;34m=\u001b[0m\u001b[0mspacing\u001b[0m\u001b[0;34m,\u001b[0m\u001b[0;34m\u001b[0m\u001b[0;34m\u001b[0m\u001b[0m\n\u001b[1;32m    266\u001b[0m                                          \u001b[0mmetrics_names\u001b[0m\u001b[0;34m=\u001b[0m\u001b[0mmetrics_names\u001b[0m\u001b[0;34m,\u001b[0m\u001b[0;34m\u001b[0m\u001b[0;34m\u001b[0m\u001b[0m\n\u001b[1;32m    267\u001b[0m                                          fullyConnected=fullyConnected, label=label)\n",
      "\u001b[0;32m~/miniconda3/envs/py310/lib/python3.10/site-packages/seg_metrics/seg_metrics.py\u001b[0m in \u001b[0;36m?\u001b[0;34m(lP, lT, spacing, metrics_names, fullyConnected, label)\u001b[0m\n\u001b[1;32m    112\u001b[0m                 \u001b[0mfnr\u001b[0m \u001b[0;34m=\u001b[0m \u001b[0mfn\u001b[0m \u001b[0;34m/\u001b[0m \u001b[0;34m(\u001b[0m\u001b[0mfn\u001b[0m \u001b[0;34m+\u001b[0m \u001b[0mtp\u001b[0m\u001b[0;34m)\u001b[0m\u001b[0;34m\u001b[0m\u001b[0;34m\u001b[0m\u001b[0m\n\u001b[1;32m    113\u001b[0m \u001b[0;34m\u001b[0m\u001b[0m\n\u001b[1;32m    114\u001b[0m \u001b[0;34m\u001b[0m\u001b[0m\n\u001b[1;32m    115\u001b[0m         \u001b[0mv_pred\u001b[0m \u001b[0;34m=\u001b[0m \u001b[0mnp\u001b[0m\u001b[0;34m.\u001b[0m\u001b[0msum\u001b[0m\u001b[0;34m(\u001b[0m\u001b[0mlabelPred\u001b[0m \u001b[0;34m>\u001b[0m \u001b[0;36m0.5\u001b[0m\u001b[0;34m)\u001b[0m\u001b[0;34m\u001b[0m\u001b[0;34m\u001b[0m\u001b[0m\n\u001b[0;32m--> 116\u001b[0;31m         \u001b[0mv_gdth\u001b[0m \u001b[0;34m=\u001b[0m \u001b[0mnp\u001b[0m\u001b[0;34m.\u001b[0m\u001b[0msum\u001b[0m\u001b[0;34m(\u001b[0m\u001b[0mlabelTrue\u001b[0m \u001b[0;34m>\u001b[0m \u001b[0;36m0.5\u001b[0m\u001b[0;34m)\u001b[0m\u001b[0;34m\u001b[0m\u001b[0;34m\u001b[0m\u001b[0m\n\u001b[0m\u001b[1;32m    117\u001b[0m         \u001b[0;32mif\u001b[0m \u001b[0mv_pred\u001b[0m \u001b[0;34m+\u001b[0m \u001b[0mv_gdth\u001b[0m \u001b[0;34m==\u001b[0m \u001b[0;36m0\u001b[0m\u001b[0;34m:\u001b[0m \u001b[0;31m# prediction results and ground truth are all 0\u001b[0m\u001b[0;34m\u001b[0m\u001b[0;34m\u001b[0m\u001b[0m\n\u001b[1;32m    118\u001b[0m             \u001b[0mvs\u001b[0m \u001b[0;34m=\u001b[0m \u001b[0;36m0\u001b[0m\u001b[0;34m\u001b[0m\u001b[0;34m\u001b[0m\u001b[0m\n\u001b[1;32m    119\u001b[0m         \u001b[0;32melse\u001b[0m\u001b[0;34m:\u001b[0m\u001b[0;34m\u001b[0m\u001b[0;34m\u001b[0m\u001b[0m\n",
      "\u001b[0;32m~/miniconda3/envs/py310/lib/python3.10/site-packages/numpy/_core/fromnumeric.py\u001b[0m in \u001b[0;36m?\u001b[0;34m(a, axis, dtype, out, keepdims, initial, where)\u001b[0m\n\u001b[1;32m   2481\u001b[0m             \u001b[0mout\u001b[0m\u001b[0;34m[\u001b[0m\u001b[0;34m...\u001b[0m\u001b[0;34m]\u001b[0m \u001b[0;34m=\u001b[0m \u001b[0mres\u001b[0m\u001b[0;34m\u001b[0m\u001b[0;34m\u001b[0m\u001b[0m\n\u001b[1;32m   2482\u001b[0m             \u001b[0;32mreturn\u001b[0m \u001b[0mout\u001b[0m\u001b[0;34m\u001b[0m\u001b[0;34m\u001b[0m\u001b[0m\n\u001b[1;32m   2483\u001b[0m         \u001b[0;32mreturn\u001b[0m \u001b[0mres\u001b[0m\u001b[0;34m\u001b[0m\u001b[0;34m\u001b[0m\u001b[0m\n\u001b[1;32m   2484\u001b[0m \u001b[0;34m\u001b[0m\u001b[0m\n\u001b[0;32m-> 2485\u001b[0;31m     return _wrapreduction(\n\u001b[0m\u001b[1;32m   2486\u001b[0m         \u001b[0ma\u001b[0m\u001b[0;34m,\u001b[0m \u001b[0mnp\u001b[0m\u001b[0;34m.\u001b[0m\u001b[0madd\u001b[0m\u001b[0;34m,\u001b[0m \u001b[0;34m'sum'\u001b[0m\u001b[0;34m,\u001b[0m \u001b[0maxis\u001b[0m\u001b[0;34m,\u001b[0m \u001b[0mdtype\u001b[0m\u001b[0;34m,\u001b[0m \u001b[0mout\u001b[0m\u001b[0;34m,\u001b[0m\u001b[0;34m\u001b[0m\u001b[0;34m\u001b[0m\u001b[0m\n\u001b[1;32m   2487\u001b[0m         \u001b[0mkeepdims\u001b[0m\u001b[0;34m=\u001b[0m\u001b[0mkeepdims\u001b[0m\u001b[0;34m,\u001b[0m \u001b[0minitial\u001b[0m\u001b[0;34m=\u001b[0m\u001b[0minitial\u001b[0m\u001b[0;34m,\u001b[0m \u001b[0mwhere\u001b[0m\u001b[0;34m=\u001b[0m\u001b[0mwhere\u001b[0m\u001b[0;34m\u001b[0m\u001b[0;34m\u001b[0m\u001b[0m\n\u001b[1;32m   2488\u001b[0m     )\n",
      "\u001b[0;32m~/miniconda3/envs/py310/lib/python3.10/site-packages/numpy/_core/fromnumeric.py\u001b[0m in \u001b[0;36m?\u001b[0;34m(obj, ufunc, method, axis, dtype, out, **kwargs)\u001b[0m\n\u001b[1;32m     82\u001b[0m                 \u001b[0;32mreturn\u001b[0m \u001b[0mreduction\u001b[0m\u001b[0;34m(\u001b[0m\u001b[0maxis\u001b[0m\u001b[0;34m=\u001b[0m\u001b[0maxis\u001b[0m\u001b[0;34m,\u001b[0m \u001b[0mdtype\u001b[0m\u001b[0;34m=\u001b[0m\u001b[0mdtype\u001b[0m\u001b[0;34m,\u001b[0m \u001b[0mout\u001b[0m\u001b[0;34m=\u001b[0m\u001b[0mout\u001b[0m\u001b[0;34m,\u001b[0m \u001b[0;34m**\u001b[0m\u001b[0mpasskwargs\u001b[0m\u001b[0;34m)\u001b[0m\u001b[0;34m\u001b[0m\u001b[0;34m\u001b[0m\u001b[0m\n\u001b[1;32m     83\u001b[0m             \u001b[0;32melse\u001b[0m\u001b[0;34m:\u001b[0m\u001b[0;34m\u001b[0m\u001b[0;34m\u001b[0m\u001b[0m\n\u001b[1;32m     84\u001b[0m                 \u001b[0;32mreturn\u001b[0m \u001b[0mreduction\u001b[0m\u001b[0;34m(\u001b[0m\u001b[0maxis\u001b[0m\u001b[0;34m=\u001b[0m\u001b[0maxis\u001b[0m\u001b[0;34m,\u001b[0m \u001b[0mout\u001b[0m\u001b[0;34m=\u001b[0m\u001b[0mout\u001b[0m\u001b[0;34m,\u001b[0m \u001b[0;34m**\u001b[0m\u001b[0mpasskwargs\u001b[0m\u001b[0;34m)\u001b[0m\u001b[0;34m\u001b[0m\u001b[0;34m\u001b[0m\u001b[0m\n\u001b[1;32m     85\u001b[0m \u001b[0;34m\u001b[0m\u001b[0m\n\u001b[0;32m---> 86\u001b[0;31m     \u001b[0;32mreturn\u001b[0m \u001b[0mufunc\u001b[0m\u001b[0;34m.\u001b[0m\u001b[0mreduce\u001b[0m\u001b[0;34m(\u001b[0m\u001b[0mobj\u001b[0m\u001b[0;34m,\u001b[0m \u001b[0maxis\u001b[0m\u001b[0;34m,\u001b[0m \u001b[0mdtype\u001b[0m\u001b[0;34m,\u001b[0m \u001b[0mout\u001b[0m\u001b[0;34m,\u001b[0m \u001b[0;34m**\u001b[0m\u001b[0mpasskwargs\u001b[0m\u001b[0;34m)\u001b[0m\u001b[0;34m\u001b[0m\u001b[0;34m\u001b[0m\u001b[0m\n\u001b[0m",
      "\u001b[0;32m~/miniconda3/envs/py310/lib/python3.10/site-packages/SimpleITK/SimpleITK.py\u001b[0m in \u001b[0;36m?\u001b[0;34m(self)\u001b[0m\n\u001b[1;32m   4169\u001b[0m         \u001b[0midx\u001b[0m \u001b[0;34m=\u001b[0m \u001b[0;34m[\u001b[0m\u001b[0;36m0\u001b[0m\u001b[0;34m]\u001b[0m \u001b[0;34m*\u001b[0m \u001b[0mdim\u001b[0m\u001b[0;34m\u001b[0m\u001b[0;34m\u001b[0m\u001b[0m\n\u001b[1;32m   4170\u001b[0m \u001b[0;34m\u001b[0m\u001b[0m\n\u001b[1;32m   4171\u001b[0m         \u001b[0;32mwhile\u001b[0m \u001b[0midx\u001b[0m\u001b[0;34m[\u001b[0m\u001b[0mdim\u001b[0m\u001b[0;34m-\u001b[0m\u001b[0;36m1\u001b[0m\u001b[0;34m]\u001b[0m \u001b[0;34m<\u001b[0m \u001b[0msize\u001b[0m\u001b[0;34m[\u001b[0m\u001b[0mdim\u001b[0m\u001b[0;34m-\u001b[0m\u001b[0;36m1\u001b[0m\u001b[0;34m]\u001b[0m\u001b[0;34m:\u001b[0m\u001b[0;34m\u001b[0m\u001b[0;34m\u001b[0m\u001b[0m\n\u001b[1;32m   4172\u001b[0m \u001b[0;34m\u001b[0m\u001b[0m\n\u001b[0;32m-> 4173\u001b[0;31m           \u001b[0;32myield\u001b[0m \u001b[0mself\u001b[0m\u001b[0;34m[\u001b[0m \u001b[0midx\u001b[0m \u001b[0;34m]\u001b[0m\u001b[0;34m\u001b[0m\u001b[0;34m\u001b[0m\u001b[0m\n\u001b[0m\u001b[1;32m   4174\u001b[0m \u001b[0;34m\u001b[0m\u001b[0m\n\u001b[1;32m   4175\u001b[0m     \u001b[0;31m# increment the idx\u001b[0m\u001b[0;34m\u001b[0m\u001b[0;34m\u001b[0m\u001b[0m\n\u001b[1;32m   4176\u001b[0m           \u001b[0;32mfor\u001b[0m \u001b[0md\u001b[0m \u001b[0;32min\u001b[0m \u001b[0mrange\u001b[0m\u001b[0;34m(\u001b[0m \u001b[0;36m0\u001b[0m\u001b[0;34m,\u001b[0m \u001b[0mdim\u001b[0m \u001b[0;34m)\u001b[0m\u001b[0;34m:\u001b[0m\u001b[0;34m\u001b[0m\u001b[0;34m\u001b[0m\u001b[0m\n",
      "\u001b[0;32m~/miniconda3/envs/py310/lib/python3.10/site-packages/SimpleITK/SimpleITK.py\u001b[0m in \u001b[0;36m?\u001b[0;34m(self, idx)\u001b[0m\n\u001b[1;32m   4304\u001b[0m     \u001b[0;31m# if any of the arguments are negative integers subract them for the size\u001b[0m\u001b[0;34m\u001b[0m\u001b[0;34m\u001b[0m\u001b[0m\n\u001b[1;32m   4305\u001b[0m           \u001b[0midx\u001b[0m \u001b[0;34m=\u001b[0m \u001b[0;34m[\u001b[0m\u001b[0midx\u001b[0m\u001b[0;34m[\u001b[0m\u001b[0mi\u001b[0m\u001b[0;34m]\u001b[0m \u001b[0;32mif\u001b[0m \u001b[0midx\u001b[0m\u001b[0;34m[\u001b[0m\u001b[0mi\u001b[0m\u001b[0;34m]\u001b[0m \u001b[0;34m>=\u001b[0m \u001b[0;36m0\u001b[0m \u001b[0;32melse\u001b[0m \u001b[0;34m(\u001b[0m\u001b[0msize\u001b[0m\u001b[0;34m[\u001b[0m\u001b[0mi\u001b[0m\u001b[0;34m]\u001b[0m \u001b[0;34m+\u001b[0m \u001b[0midx\u001b[0m\u001b[0;34m[\u001b[0m\u001b[0mi\u001b[0m\u001b[0;34m]\u001b[0m\u001b[0;34m)\u001b[0m \u001b[0;32mfor\u001b[0m \u001b[0mi\u001b[0m \u001b[0;32min\u001b[0m \u001b[0mrange\u001b[0m\u001b[0;34m(\u001b[0m\u001b[0mlen\u001b[0m\u001b[0;34m(\u001b[0m\u001b[0midx\u001b[0m\u001b[0;34m)\u001b[0m\u001b[0;34m)\u001b[0m\u001b[0;34m]\u001b[0m\u001b[0;34m\u001b[0m\u001b[0;34m\u001b[0m\u001b[0m\n\u001b[1;32m   4306\u001b[0m \u001b[0;34m\u001b[0m\u001b[0m\n\u001b[1;32m   4307\u001b[0m           \u001b[0;32mfor\u001b[0m \u001b[0mi\u001b[0m \u001b[0;32min\u001b[0m \u001b[0mrange\u001b[0m\u001b[0;34m(\u001b[0m\u001b[0mlen\u001b[0m\u001b[0;34m(\u001b[0m\u001b[0midx\u001b[0m\u001b[0;34m)\u001b[0m\u001b[0;34m)\u001b[0m\u001b[0;34m:\u001b[0m\u001b[0;34m\u001b[0m\u001b[0;34m\u001b[0m\u001b[0m\n\u001b[0;32m-> 4308\u001b[0;31m             \u001b[0;32mif\u001b[0m \u001b[0midx\u001b[0m\u001b[0;34m[\u001b[0m\u001b[0mi\u001b[0m\u001b[0;34m]\u001b[0m \u001b[0;34m<\u001b[0m \u001b[0;36m0\u001b[0m \u001b[0;32mor\u001b[0m \u001b[0midx\u001b[0m\u001b[0;34m[\u001b[0m\u001b[0mi\u001b[0m\u001b[0;34m]\u001b[0m \u001b[0;34m>=\u001b[0m \u001b[0msize\u001b[0m\u001b[0;34m[\u001b[0m\u001b[0mi\u001b[0m\u001b[0;34m]\u001b[0m\u001b[0;34m:\u001b[0m\u001b[0;34m\u001b[0m\u001b[0;34m\u001b[0m\u001b[0m\n\u001b[0m\u001b[1;32m   4309\u001b[0m               \u001b[0;32mraise\u001b[0m \u001b[0mIndexError\u001b[0m\u001b[0;34m(\u001b[0m\u001b[0;34m\"index {0} is outside the extent for dimension {1} with size {2}\"\u001b[0m\u001b[0;34m.\u001b[0m\u001b[0mformat\u001b[0m\u001b[0;34m(\u001b[0m \u001b[0midx\u001b[0m\u001b[0;34m[\u001b[0m\u001b[0mi\u001b[0m\u001b[0;34m]\u001b[0m\u001b[0;34m,\u001b[0m \u001b[0mi\u001b[0m\u001b[0;34m,\u001b[0m \u001b[0msize\u001b[0m\u001b[0;34m[\u001b[0m\u001b[0mi\u001b[0m\u001b[0;34m]\u001b[0m\u001b[0;34m)\u001b[0m\u001b[0;34m)\u001b[0m\u001b[0;34m\u001b[0m\u001b[0;34m\u001b[0m\u001b[0m\n\u001b[1;32m   4310\u001b[0m \u001b[0;34m\u001b[0m\u001b[0m\n\u001b[1;32m   4311\u001b[0m           \u001b[0;32mreturn\u001b[0m \u001b[0mself\u001b[0m\u001b[0;34m.\u001b[0m\u001b[0mGetPixel\u001b[0m\u001b[0;34m(\u001b[0m\u001b[0;34m*\u001b[0m\u001b[0mtuple\u001b[0m\u001b[0;34m(\u001b[0m\u001b[0midx\u001b[0m\u001b[0;34m)\u001b[0m\u001b[0;34m)\u001b[0m\u001b[0;34m\u001b[0m\u001b[0;34m\u001b[0m\u001b[0m\n",
      "\u001b[0;31mKeyboardInterrupt\u001b[0m: "
     ]
    }
   ],
   "source": [
    "labels = [1, 2, 3]  # high, medium, low\n",
    "\n",
    "nnunet_metrics = sg.write_metrics(labels=labels,\n",
    "                  gdth_img=label_img,\n",
    "                  pred_img=prediction_img,\n",
    "                  csv_file=None,\n",
    "                  metrics=['msd','hd95'])\n",
    "\n",
    "nnunet_hd95 = {}\n",
    "nnunet_hd95['high'] = nnunet_metrics[0]['hd95'][0]\n",
    "nnunet_hd95['medium'] = nnunet_metrics[0]['hd95'][1]\n",
    "nnunet_hd95['low'] = nnunet_metrics[0]['hd95'][2]\n",
    "\n",
    "nnunet_msd = {}\n",
    "nnunet_msd['high'] = nnunet_metrics[0]['msd'][0]\n",
    "nnunet_msd['medium'] = nnunet_metrics[0]['msd'][1]\n",
    "nnunet_msd['low'] = nnunet_metrics[0]['msd'][2]"
   ]
  },
  {
   "cell_type": "code",
   "execution_count": null,
   "id": "8fc2a333-6028-489c-ab8a-262ba16ca1a0",
   "metadata": {},
   "outputs": [],
   "source": [
    "print('Mean surface distance (MSD)')\n",
    "print('high: {}'.format(round(nnunet_msd['high'])))\n",
    "print('medium: {}'.format(round(nnunet_msd['medium'])))\n",
    "print('low: {}'.format(round(nnunet_msd['low'])))"
   ]
  },
  {
   "cell_type": "code",
   "execution_count": null,
   "id": "cf8f2e5e-0aba-4276-8cd2-c88d7ae617d6",
   "metadata": {},
   "outputs": [],
   "source": [
    "print('Hausdorff distance 95% percentile')\n",
    "print('high: {}'.format(round(nnunet_hd95['high'])))\n",
    "print('medium: {}'.format(round(nnunet_hd95['medium'])))\n",
    "print('low: {}'.format(round(nnunet_hd95['low'])))"
   ]
  },
  {
   "cell_type": "markdown",
   "id": "05c4c405-7c7c-4b8d-9bd8-b088222827dc",
   "metadata": {},
   "source": [
    "#### compare with DIR approach"
   ]
  },
  {
   "cell_type": "code",
   "execution_count": null,
   "id": "91dbadfc-02d4-49a5-8570-6b105dc0d519",
   "metadata": {},
   "outputs": [],
   "source": [
    "# get the patient ID for this hold-out test patient\n",
    "MAPPING_FILE = '{}/patient-mapping-Dataset{}_RNSH_HFlung.json'.format(RAW_DIR, DATASET_ID)\n",
    "\n",
    "with open(MAPPING_FILE, 'r') as fp:\n",
    "    patient_map_d = json.load(fp)"
   ]
  },
  {
   "cell_type": "code",
   "execution_count": null,
   "id": "f76d8217-95cd-49d5-bcf1-7c73e774d767",
   "metadata": {},
   "outputs": [],
   "source": [
    "patient_id = int(patient_map_d['test'][TEST_ID][0].split('/')[-1].split('.')[0].split('Patient')[1])\n",
    "patient_id"
   ]
  },
  {
   "cell_type": "code",
   "execution_count": null,
   "id": "a6f59021-d311-4b8e-98a3-4b808d607b3d",
   "metadata": {},
   "outputs": [],
   "source": [
    "PREPROCESSED_BASE_DIR = '/mnt/data/datasets/RNSH_HFlung/pre-processed-plastimatch'\n",
    "PREPROCESSED_MHA_DIR = '{}/mha/Patient{:02d}'.format(PREPROCESSED_BASE_DIR, patient_id)"
   ]
  },
  {
   "cell_type": "code",
   "execution_count": null,
   "id": "ced6e00b-14de-485f-8587-5284f708646f",
   "metadata": {},
   "outputs": [],
   "source": [
    "ctvi_jac_label_arr = sitk.GetArrayFromImage(sitk.ReadImage('{}/ctvi-jac-label.mha'.format(PREPROCESSED_MHA_DIR))).astype(int)\n",
    "ctvi_jac_label_arr.shape"
   ]
  },
  {
   "cell_type": "code",
   "execution_count": null,
   "id": "d00158de-43ef-4f7f-875d-b8409531b13b",
   "metadata": {},
   "outputs": [],
   "source": [
    "ctvi_hu_label_arr = sitk.GetArrayFromImage(sitk.ReadImage('{}/ctvi-hu-label.mha'.format(PREPROCESSED_MHA_DIR))).astype(int)\n",
    "ctvi_hu_label_arr.shape"
   ]
  },
  {
   "cell_type": "code",
   "execution_count": null,
   "id": "e7692524-8008-4322-b150-267a1e6309ce",
   "metadata": {},
   "outputs": [],
   "source": [
    "plt.rcParams['font.size'] = 12\n",
    "plt.rcParams['figure.dpi'] = 150"
   ]
  },
  {
   "cell_type": "code",
   "execution_count": null,
   "id": "31ac00b2-486a-41f9-a5b3-bdd6ed4b1b40",
   "metadata": {},
   "outputs": [],
   "source": [
    "fig, (ax1, ax2, ax3, ax4) = plt.subplots(1, 4, figsize=(12,7))\n",
    "\n",
    "ax1.imshow(label_img[:,:,DISPLAY_IDX].T, cmap=cm, interpolation='none')\n",
    "ax1.set_title('ground truth')\n",
    "ax1.set_axis_off()\n",
    "\n",
    "ax2.imshow(prediction_img[:,:,DISPLAY_IDX].T, cmap=cm, interpolation='none')\n",
    "\n",
    "if MODEL_CONFIG_SUFFIX == '':\n",
    "    ax2.set_title(r'CTVI$_\\text{nnU-Net}$')\n",
    "else:\n",
    "    ax2.set_title(r'CTVI$_\\text{nnU-Net-2D}$')\n",
    "ax2.set_axis_off()\n",
    "\n",
    "ax3.imshow(ctvi_jac_label_arr[DISPLAY_IDX], cmap=cm, interpolation='none')\n",
    "ax3.set_title(r'CTVI$_\\text{Jac}$')\n",
    "ax3.set_axis_off()\n",
    "\n",
    "ax4.imshow(ctvi_hu_label_arr[DISPLAY_IDX], cmap=cm, interpolation='none')\n",
    "ax4.set_title(r'CTVI$_\\text{HU}$')\n",
    "ax4.set_axis_off()\n",
    "\n",
    "# create a patch (proxy artist) for every color \n",
    "patches = [ mpatches.Patch(color=colours_d[i], label=\"{l}\".format(l=labels_d[i]) ) for i in [1,2,3] ]\n",
    "_ = plt.legend(handles=patches, bbox_to_anchor=(1.05, 1), loc=2, borderaxespad=0. )\n",
    "\n",
    "fig.subplots_adjust(left=0.1,\n",
    "                    bottom=0.1, \n",
    "                    right=0.9, \n",
    "                    top=0.9, \n",
    "                    wspace=0.01, \n",
    "                    hspace=0.1)\n",
    "\n",
    "fig_filename = '{}/figures/ctvi-nnunet{}-dir-P{:02d}.svg'.format(expanduser('~'), MODEL_CONFIG_SUFFIX.replace('/','-'), patient_id)\n",
    "plt.savefig(fig_filename, format='svg', dpi=600, bbox_inches='tight')\n",
    "print('saved figure to {}'.format(fig_filename))"
   ]
  },
  {
   "cell_type": "markdown",
   "id": "685ae42b-3419-4a5f-8011-426e48a27f4c",
   "metadata": {},
   "source": [
    "#### CTVI-Jac confusion matrix"
   ]
  },
  {
   "cell_type": "code",
   "execution_count": null,
   "id": "cf93ee7f-e2fa-40b6-b85c-b2f70c76287a",
   "metadata": {},
   "outputs": [],
   "source": [
    "ctvi_jac_label_arr.shape, label_img.shape"
   ]
  },
  {
   "cell_type": "code",
   "execution_count": null,
   "id": "105c1b97-4b8d-4124-8c50-ef292385985b",
   "metadata": {},
   "outputs": [],
   "source": [
    "# transpose the CTVI image to match the groundtruth (i.e. from z,y,x to x,y,z)\n",
    "ctvi_jac_label_arr = np.transpose(ctvi_jac_label_arr, axes=(2, 1, 0))"
   ]
  },
  {
   "cell_type": "code",
   "execution_count": null,
   "id": "fea38f9f-9665-4a6e-bc73-33045d4264e2",
   "metadata": {},
   "outputs": [],
   "source": [
    "ctvi_jac_cm = confusion_matrix(label_img.ravel(), ctvi_jac_label_arr.ravel(), labels=[1,2,3])\n",
    "ctvi_jac_cm = np.around(ctvi_jac_cm.astype('float') / ctvi_jac_cm.sum(axis=1)[:, np.newaxis], decimals=2)"
   ]
  },
  {
   "cell_type": "code",
   "execution_count": null,
   "id": "5b661ef7-0488-4081-bb0c-3f23a825fa23",
   "metadata": {},
   "outputs": [],
   "source": [
    "plt.rcParams['font.size'] = 18\n",
    "plt.rcParams['figure.dpi'] = 150\n",
    "plt.rcParams['figure.figsize'] = 4,4"
   ]
  },
  {
   "cell_type": "code",
   "execution_count": null,
   "id": "24b74656-5e04-4194-a4c1-9684a3881764",
   "metadata": {},
   "outputs": [],
   "source": [
    "disp = ConfusionMatrixDisplay(confusion_matrix=ctvi_jac_cm, display_labels=['high','medium','low'])\n",
    "disp.plot(values_format='.2f', cmap=confusion_matrix_cmap, \n",
    "          im_kw={'vmin':0, 'vmax':1.0}, \n",
    "          colorbar=False, \n",
    "          text_kw={'color':'black', 'fontsize':'medium', 'fontweight':'medium'})\n",
    "plt.title(r'CTVI$_\\text{Jac}$')\n",
    "plt.gca().xaxis.label.set_visible(False)\n",
    "plt.gca().yaxis.label.set_visible(False)\n",
    "fig_filename = '{}/figures/confusion-matrix-ctvi-jac-dataset-{:03d}-test-{:02d}.svg'.format(expanduser('~'), DATASET_ID, TEST_ID)\n",
    "plt.savefig(fig_filename, format='svg', dpi=600, bbox_inches='tight')\n",
    "print('saved figure to {}'.format(fig_filename))"
   ]
  },
  {
   "cell_type": "markdown",
   "id": "1ae8eb40-0709-487a-b71a-1168bf349a5b",
   "metadata": {},
   "source": [
    "#### color bar for confusion matrix"
   ]
  },
  {
   "cell_type": "code",
   "execution_count": null,
   "id": "275f8e13-5eae-46ef-8e34-a559987f2e32",
   "metadata": {},
   "outputs": [],
   "source": [
    "disp = ConfusionMatrixDisplay(confusion_matrix=ctvi_jac_cm, display_labels=['high','medium','low'])\n",
    "disp.plot(values_format='.2f', cmap=confusion_matrix_cmap, \n",
    "          im_kw={'vmin':0, 'vmax':1.0}, \n",
    "          colorbar=True, \n",
    "          text_kw={'color':'black', 'fontsize':'medium', 'fontweight':'medium'})\n",
    "plt.title(r'CTVI$_\\text{Jac}$')\n",
    "plt.gca().xaxis.label.set_visible(False)\n",
    "plt.gca().yaxis.label.set_visible(False)\n",
    "plt.gca().set_visible(False)\n",
    "fig_filename = '{}/figures/confusion-matrix-colorbar.svg'.format(expanduser('~'))\n",
    "plt.savefig(fig_filename, format='svg', dpi=600, bbox_inches='tight')\n",
    "print('saved figure to {}'.format(fig_filename))"
   ]
  },
  {
   "cell_type": "markdown",
   "id": "c1026b64-75c3-4b6f-a4eb-8b4b0b4b8f5d",
   "metadata": {},
   "source": [
    "#### CTVI-HU confusion matrix"
   ]
  },
  {
   "cell_type": "code",
   "execution_count": null,
   "id": "85fd6b97-63bb-41d3-b857-c670002248c4",
   "metadata": {},
   "outputs": [],
   "source": [
    "ctvi_hu_label_arr.shape, label_img.shape"
   ]
  },
  {
   "cell_type": "code",
   "execution_count": null,
   "id": "372df8e6-d2ee-4ac6-a3cf-fd61903894bd",
   "metadata": {},
   "outputs": [],
   "source": [
    "# transpose the CTVI image to match the groundtruth (i.e. from z,y,x to x,y,z)\n",
    "ctvi_hu_label_arr = np.transpose(ctvi_hu_label_arr, axes=(2, 1, 0))"
   ]
  },
  {
   "cell_type": "code",
   "execution_count": null,
   "id": "93c5f226-2627-43ff-aff6-bde04b155dd8",
   "metadata": {},
   "outputs": [],
   "source": [
    "ctvi_hu_cm = confusion_matrix(label_img.ravel(), ctvi_hu_label_arr.ravel(), labels=[1,2,3])\n",
    "ctvi_hu_cm = np.around(ctvi_hu_cm.astype('float') / ctvi_hu_cm.sum(axis=1)[:, np.newaxis], decimals=2)"
   ]
  },
  {
   "cell_type": "code",
   "execution_count": null,
   "id": "3d49c8a1-dcd6-46fb-a281-fc77628ba2e7",
   "metadata": {},
   "outputs": [],
   "source": [
    "plt.rcParams['font.size'] = 18\n",
    "plt.rcParams['figure.dpi'] = 150\n",
    "plt.rcParams['figure.figsize'] = 4,4"
   ]
  },
  {
   "cell_type": "code",
   "execution_count": null,
   "id": "6a791257-a114-4945-a4f2-692722720a8c",
   "metadata": {},
   "outputs": [],
   "source": [
    "disp = ConfusionMatrixDisplay(confusion_matrix=ctvi_hu_cm, display_labels=['high','medium','low'])\n",
    "disp.plot(values_format='.2f', cmap=confusion_matrix_cmap, \n",
    "          im_kw={'vmin':0, 'vmax':1.0}, \n",
    "          colorbar=False, \n",
    "          text_kw={'color':'black', 'fontsize':'medium', 'fontweight':'medium'})\n",
    "plt.title(r'CTVI$_\\text{HU}$')\n",
    "plt.gca().xaxis.label.set_visible(False)\n",
    "plt.gca().yaxis.label.set_visible(False)\n",
    "fig_filename = '{}/figures/confusion-matrix-ctvi-hu-dataset-{:03d}-test-{:02d}.svg'.format(expanduser('~'), DATASET_ID, TEST_ID)\n",
    "plt.savefig(fig_filename, format='svg', dpi=600, bbox_inches='tight')\n",
    "print('saved figure to {}'.format(fig_filename))"
   ]
  },
  {
   "cell_type": "markdown",
   "id": "329625a5-0c33-4d51-be3e-89aeb91fa2b1",
   "metadata": {},
   "source": [
    "#### CTVI-Jac metrics"
   ]
  },
  {
   "cell_type": "code",
   "execution_count": null,
   "id": "3a74f8c0-efcc-4c83-a996-97a2d66cd524",
   "metadata": {},
   "outputs": [],
   "source": [
    "ctvi_jac_dsc = {}\n",
    "print('CTVI-Jac and PET DSC')\n",
    "for idx,label in enumerate(['high','medium','low']):\n",
    "    k = idx+1\n",
    "    dice = np.sum(ctvi_jac_label_arr[label_img==k]==k)*2.0 / (np.sum(ctvi_jac_label_arr[ctvi_jac_label_arr==k]==k) + np.sum(label_img[label_img==k]==k))\n",
    "    ctvi_jac_dsc[label] = dice\n",
    "    print('{}: {}'.format(label, round(dice,2)))"
   ]
  },
  {
   "cell_type": "code",
   "execution_count": null,
   "id": "bd6fae68-d60f-4c44-98d5-09a59af1090a",
   "metadata": {},
   "outputs": [],
   "source": [
    "labels = [1, 2, 3]  # high, medium, low\n",
    "\n",
    "jac_metrics = sg.write_metrics(labels=labels,\n",
    "                  gdth_img=label_img,\n",
    "                  pred_img=ctvi_jac_label_arr,\n",
    "                  csv_file=None,\n",
    "                  metrics=['msd','hd95'])\n",
    "\n",
    "ctvi_jac_msd = {}\n",
    "ctvi_jac_msd['high'] = jac_metrics[0]['msd'][0]\n",
    "ctvi_jac_msd['medium'] = jac_metrics[0]['msd'][1]\n",
    "ctvi_jac_msd['low'] = jac_metrics[0]['msd'][2]\n",
    "\n",
    "ctvi_jac_hd95 = {}\n",
    "ctvi_jac_hd95['high'] = jac_metrics[0]['hd95'][0]\n",
    "ctvi_jac_hd95['medium'] = jac_metrics[0]['hd95'][1]\n",
    "ctvi_jac_hd95['low'] = jac_metrics[0]['hd95'][2]"
   ]
  },
  {
   "cell_type": "code",
   "execution_count": null,
   "id": "bfa6d9e9-bfa3-49dd-a2de-0bb6c0b7d6d6",
   "metadata": {},
   "outputs": [],
   "source": [
    "print('Hausdorff distance 95% percentile')\n",
    "print('high: {}'.format(round(ctvi_jac_hd95['high'])))\n",
    "print('medium: {}'.format(round(ctvi_jac_hd95['medium'])))\n",
    "print('low: {}'.format(round(ctvi_jac_hd95['low'])))"
   ]
  },
  {
   "cell_type": "code",
   "execution_count": null,
   "id": "7ae95b9d-d670-4807-93b4-85adaac33d13",
   "metadata": {},
   "outputs": [],
   "source": [
    "print('Mean surface distance (MSD)')\n",
    "print('high: {}'.format(round(ctvi_jac_msd['high'])))\n",
    "print('medium: {}'.format(round(ctvi_jac_msd['medium'])))\n",
    "print('low: {}'.format(round(ctvi_jac_msd['low'])))"
   ]
  },
  {
   "cell_type": "markdown",
   "id": "8bf26e3f-10b3-4ea2-9a8c-9dec6e6b2858",
   "metadata": {},
   "source": [
    "#### CTVI-HU metrics"
   ]
  },
  {
   "cell_type": "code",
   "execution_count": null,
   "id": "841daa89-ff89-4323-849c-ad44d672f7f7",
   "metadata": {},
   "outputs": [],
   "source": [
    "ctvi_hu_dsc = {}\n",
    "print('CTVI-HU and PET DSC')\n",
    "for idx,label in enumerate(['high','medium','low']):\n",
    "    k = idx+1\n",
    "    dice = np.sum(ctvi_hu_label_arr[label_img==k]==k)*2.0 / (np.sum(ctvi_hu_label_arr[ctvi_hu_label_arr==k]==k) + np.sum(label_img[label_img==k]==k))\n",
    "    ctvi_hu_dsc[label] = dice\n",
    "    print('{}: {}'.format(label, round(dice,2)))"
   ]
  },
  {
   "cell_type": "code",
   "execution_count": null,
   "id": "cc3265d7-d3d9-4971-ba85-908d4bf32be1",
   "metadata": {},
   "outputs": [],
   "source": [
    "labels = [1, 2, 3]  # high, medium, low\n",
    "\n",
    "hu_metrics = sg.write_metrics(labels=labels,\n",
    "                  gdth_img=label_img,\n",
    "                  pred_img=ctvi_hu_label_arr,\n",
    "                  csv_file=None,\n",
    "                  metrics=['msd','hd95'])\n",
    "\n",
    "ctvi_hu_hd95 = {}\n",
    "ctvi_hu_hd95['high'] = hu_metrics[0]['hd95'][0]\n",
    "ctvi_hu_hd95['medium'] = hu_metrics[0]['hd95'][1]\n",
    "ctvi_hu_hd95['low'] = hu_metrics[0]['hd95'][2]\n",
    "\n",
    "ctvi_hu_msd = {}\n",
    "ctvi_hu_msd['high'] = hu_metrics[0]['msd'][0]\n",
    "ctvi_hu_msd['medium'] = hu_metrics[0]['msd'][1]\n",
    "ctvi_hu_msd['low'] = hu_metrics[0]['msd'][2]"
   ]
  },
  {
   "cell_type": "code",
   "execution_count": null,
   "id": "f832456c-f304-4428-a082-c1218a8d74bc",
   "metadata": {},
   "outputs": [],
   "source": [
    "print('CTVI-HU Hausdorff distance 95% percentile')\n",
    "print('high: {}'.format(round(ctvi_hu_hd95['high'])))\n",
    "print('medium: {}'.format(round(ctvi_hu_hd95['medium'])))\n",
    "print('low: {}'.format(round(ctvi_hu_hd95['low'])))"
   ]
  },
  {
   "cell_type": "code",
   "execution_count": null,
   "id": "68910be9-ea63-47f2-9142-52e566fb0350",
   "metadata": {},
   "outputs": [],
   "source": [
    "print('Mean surface distance (MSD)')\n",
    "print('high: {}'.format(round(ctvi_hu_msd['high'])))\n",
    "print('medium: {}'.format(round(ctvi_hu_msd['medium'])))\n",
    "print('low: {}'.format(round(ctvi_hu_msd['low'])))"
   ]
  },
  {
   "cell_type": "markdown",
   "id": "070d9729-69e3-41bd-a839-6f2f5b944bf6",
   "metadata": {},
   "source": [
    "#### store the metrics by dataset and test patient ID"
   ]
  },
  {
   "cell_type": "code",
   "execution_count": null,
   "id": "ad68aa06-b92d-4904-bf35-2ba7d9e68527",
   "metadata": {},
   "outputs": [],
   "source": [
    "ANALYSIS_DIR = '/home/daryl/analysis{}'.format(MODEL_CONFIG_SUFFIX)\n",
    "ANALYSIS_FILE = '{}/nnunet-metrics-final.pkl'.format(ANALYSIS_DIR)"
   ]
  },
  {
   "cell_type": "code",
   "execution_count": null,
   "id": "71345cd4-616c-4147-bcde-c86cfd209dcb",
   "metadata": {},
   "outputs": [],
   "source": [
    "if not os.path.exists(ANALYSIS_DIR):\n",
    "    os.makedirs(ANALYSIS_DIR)\n",
    "\n",
    "nnunet_d = {\n",
    "    'confusion_matrix':nnunet_cm, \n",
    "    'DSC_low':np.round(nnunet_dsc['low'],2), 'DSC_medium':np.round(nnunet_dsc['medium'],2), 'DSC_high':np.round(nnunet_dsc['high'],2),\n",
    "    'HD95_low':np.round(nnunet_hd95['low'],2), 'HD95_medium':np.round(nnunet_hd95['medium'],2), 'HD95_high':np.round(nnunet_hd95['high'],2),\n",
    "    'MSD_low':np.round(nnunet_msd['low'],2), 'MSD_medium':np.round(nnunet_msd['medium'],2), 'MSD_high':np.round(nnunet_msd['high'],2),\n",
    "}\n",
    "ctvi_jac_d = {\n",
    "    'confusion_matrix':ctvi_jac_cm, \n",
    "    'DSC_low':np.round(ctvi_jac_dsc['low'],2), 'DSC_medium':np.round(ctvi_jac_dsc['medium'],2), 'DSC_high':np.round(ctvi_jac_dsc['high'],2),\n",
    "    'HD95_low':np.round(ctvi_jac_hd95['low'],2), 'HD95_medium':np.round(ctvi_jac_hd95['medium'],2), 'HD95_high':np.round(ctvi_jac_hd95['high'],2),\n",
    "    'MSD_low':np.round(ctvi_jac_msd['low'],2), 'MSD_medium':np.round(ctvi_jac_msd['medium'],2), 'MSD_high':np.round(ctvi_jac_msd['high'],2),\n",
    "}\n",
    "ctvi_hu_d = {\n",
    "    'confusion_matrix':ctvi_hu_cm, \n",
    "    'DSC_low':np.round(ctvi_hu_dsc['low'],2), 'DSC_medium':np.round(ctvi_hu_dsc['medium'],2), 'DSC_high':np.round(ctvi_hu_dsc['high'],2),\n",
    "    'HD95_low':np.round(ctvi_hu_hd95['low'],2), 'HD95_medium':np.round(ctvi_hu_hd95['medium'],2), 'HD95_high':np.round(ctvi_hu_hd95['high'],2),\n",
    "    'MSD_low':np.round(ctvi_hu_msd['low'],2), 'MSD_medium':np.round(ctvi_hu_msd['medium'],2), 'MSD_high':np.round(ctvi_hu_msd['high'],2),\n",
    "}\n",
    "patient_d = {\n",
    "    'dataset_id':DATASET_ID, \n",
    "    'test_id':TEST_ID, \n",
    "    'nnunet_d':nnunet_d,\n",
    "    'ctvi_jac_d':ctvi_jac_d,\n",
    "    'ctvi_hu_d':ctvi_hu_d\n",
    "}\n",
    "\n",
    "print('updating analysis in {}'.format(ANALYSIS_FILE))\n",
    "\n",
    "if os.path.isfile(ANALYSIS_FILE):\n",
    "    with open(ANALYSIS_FILE, 'rb') as f:\n",
    "        analysis_d = pickle.load(f)\n",
    "else:\n",
    "    analysis_d = {}\n",
    "\n",
    "analysis_d[patient_id] = patient_d\n",
    "\n",
    "with open(ANALYSIS_FILE, 'wb') as f:\n",
    "    pickle.dump(analysis_d, f)"
   ]
  }
 ],
 "metadata": {
  "kernelspec": {
   "display_name": "Python 3 (ipykernel)",
   "language": "python",
   "name": "python3"
  },
  "language_info": {
   "codemirror_mode": {
    "name": "ipython",
    "version": 3
   },
   "file_extension": ".py",
   "mimetype": "text/x-python",
   "name": "python",
   "nbconvert_exporter": "python",
   "pygments_lexer": "ipython3",
   "version": "3.10.14"
  }
 },
 "nbformat": 4,
 "nbformat_minor": 5
}
