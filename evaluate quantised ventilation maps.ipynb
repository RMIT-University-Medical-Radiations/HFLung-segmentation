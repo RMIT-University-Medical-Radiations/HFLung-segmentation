{
 "cells": [
  {
   "cell_type": "code",
   "execution_count": 1,
   "metadata": {},
   "outputs": [],
   "source": [
    "import os\n",
    "import sys\n",
    "import numpy as np\n",
    "import matplotlib\n",
    "import matplotlib.pyplot as plt\n",
    "import SimpleITK as sitk\n",
    "import skimage\n",
    "from os.path import expanduser\n",
    "import glob\n",
    "from matplotlib.ticker import MaxNLocator\n",
    "from scipy.stats import spearmanr\n",
    "import seg_metrics.seg_metrics as sg\n",
    "import pickle\n",
    "import matplotlib.patches as mpatches\n",
    "from skimage import exposure\n",
    "from scipy import ndimage\n",
    "import nibabel as nib"
   ]
  },
  {
   "cell_type": "code",
   "execution_count": 2,
   "metadata": {},
   "outputs": [
    {
     "name": "stdout",
     "output_type": "stream",
     "text": [
      "Python version: 3.10.13 (main, Sep 11 2023, 13:44:35) [GCC 11.2.0]\n",
      "Numpy version: 1.26.2\n",
      "Matplotlib version: 3.8.2\n",
      "SITK version: 2.3.1\n",
      "Scikit-image version: 0.22.0\n"
     ]
    }
   ],
   "source": [
    "print(\"Python version:\", sys.version)\n",
    "print(\"Numpy version:\", np.__version__)\n",
    "print(\"Matplotlib version:\", matplotlib.__version__)\n",
    "print(\"SITK version:\", sitk.__version__)\n",
    "print(\"Scikit-image version:\", skimage.__version__)"
   ]
  },
  {
   "cell_type": "code",
   "execution_count": 3,
   "metadata": {},
   "outputs": [],
   "source": [
    "patient_id = 6"
   ]
  },
  {
   "cell_type": "code",
   "execution_count": 4,
   "metadata": {},
   "outputs": [],
   "source": [
    "PREPROCESSED_BASE_DIR = '/mnt/data/datasets/RNSH_HFlung/pre-processed-plastimatch'\n",
    "EVALUATION_DIR = '{}/evaluation'.format(PREPROCESSED_BASE_DIR)\n",
    "PATIENT_EVALUATION_DIR = '{}/Patient{:02d}'.format(EVALUATION_DIR, patient_id)"
   ]
  },
  {
   "cell_type": "markdown",
   "metadata": {},
   "source": [
    "#### read in the results XML and compare segmentation similarity"
   ]
  },
  {
   "cell_type": "code",
   "execution_count": 5,
   "metadata": {},
   "outputs": [],
   "source": [
    "from bs4 import BeautifulSoup"
   ]
  },
  {
   "cell_type": "code",
   "execution_count": 6,
   "metadata": {},
   "outputs": [],
   "source": [
    "CTVI_JAC_EVAL = '{}/seg-metrics-ctvi-jac.xml'.format(PATIENT_EVALUATION_DIR)\n",
    "with open(CTVI_JAC_EVAL, 'r') as f:\n",
    "    data = f.read()\n",
    "ctvi_jac_eval = BeautifulSoup(data, \"xml\")"
   ]
  },
  {
   "cell_type": "code",
   "execution_count": 7,
   "metadata": {},
   "outputs": [],
   "source": [
    "CTVI_NNUNET_EVAL = '{}/seg-metrics-ctvi-nnunet.xml'.format(PATIENT_EVALUATION_DIR)\n",
    "with open(CTVI_NNUNET_EVAL, 'r') as f:\n",
    "    data = f.read()\n",
    "ctvi_nnunet_eval = BeautifulSoup(data, \"xml\")"
   ]
  },
  {
   "cell_type": "code",
   "execution_count": 8,
   "metadata": {},
   "outputs": [],
   "source": [
    "patient_eval_d = {}"
   ]
  },
  {
   "cell_type": "code",
   "execution_count": 9,
   "metadata": {},
   "outputs": [
    {
     "name": "stdout",
     "output_type": "stream",
     "text": [
      "                                                    CTVI-Jac   CTVI-nnU-Net\n",
      "      DICE      Dice Coefficient (F1-Measure)           0.72           0.69\n",
      "   HDRFDST                 Hausdorff Distance          95.43          84.63\n",
      "   MAHLNBS               Mahanabolis Distance           0.15           0.15\n"
     ]
    },
    {
     "name": "stderr",
     "output_type": "stream",
     "text": [
      "/home/daryl/miniconda3/envs/py310/lib/python3.10/site-packages/outdated/utils.py:14: OutdatedPackageWarning: The package pingouin is out of date. Your version is 0.5.3, the latest is 0.5.4.\n",
      "Set the environment variable OUTDATED_IGNORE=1 to disable these warnings.\n",
      "  return warn(\n"
     ]
    }
   ],
   "source": [
    "metrics_l = ['DICE','HDRFDST','MAHLNBS']\n",
    "print('{: >10}{: >35}{: >15}{: >15}'.format('','','CTVI-Jac','CTVI-nnU-Net'))\n",
    "for m in metrics_l:\n",
    "    ctvi_jac_d = ctvi_jac_eval.find(m).attrs\n",
    "    ctvi_nnunet_d = ctvi_nnunet_eval.find(m).attrs\n",
    "    print('{: >10}{: >35}{: >15.2f}{: >15.2f}'.format(m, ctvi_jac_d['name'], float(ctvi_jac_d['value']), float(ctvi_nnunet_d['value'])))\n",
    "    patient_eval_d[m] = {'ctvi_jac_d':ctvi_jac_d, 'ctvi_nnunet_d':ctvi_nnunet_d}"
   ]
  },
  {
   "cell_type": "code",
   "execution_count": 12,
   "metadata": {},
   "outputs": [],
   "source": [
    "DATASET_EVALUATION_FILE = '{}/evaluation.pkl'.format(EVALUATION_DIR)\n",
    "\n",
    "with open(DATASET_EVALUATION_FILE, 'rb') as f:\n",
    "    dataset_d = pickle.load(f)\n",
    "\n",
    "dataset_d[patient_id]['segmentation-metrics'] = patient_eval_d\n",
    "\n",
    "with open(DATASET_EVALUATION_FILE, 'wb') as f:\n",
    "        pickle.dump(dataset_d, f)"
   ]
  },
  {
   "cell_type": "code",
   "execution_count": 14,
   "metadata": {},
   "outputs": [
    {
     "data": {
      "text/plain": [
       "{6: {'unquantised_spearman_correlation': 0.3804745064137437,\n",
       "  'segmentation-metrics': {'DICE': {'ctvi_jac_d': {'name': 'Dice Coefficient (F1-Measure)',\n",
       "     'symbol': 'DICE',\n",
       "     'type': 'similarity',\n",
       "     'value': '0.721899'},\n",
       "    'ctvi_nnunet_d': {'name': 'Dice Coefficient (F1-Measure)',\n",
       "     'symbol': 'DICE',\n",
       "     'type': 'similarity',\n",
       "     'value': '0.688932'}},\n",
       "   'HDRFDST': {'ctvi_jac_d': {'name': 'Hausdorff Distance',\n",
       "     'symbol': 'HDRFDST',\n",
       "     'type': 'distance',\n",
       "     'value': '95.425364',\n",
       "     'executiontime': '1103',\n",
       "     'unit': 'voxel'},\n",
       "    'ctvi_nnunet_d': {'name': 'Hausdorff Distance',\n",
       "     'symbol': 'HDRFDST',\n",
       "     'type': 'distance',\n",
       "     'value': '84.628600',\n",
       "     'executiontime': '1133',\n",
       "     'unit': 'voxel'}},\n",
       "   'MAHLNBS': {'ctvi_jac_d': {'name': 'Mahanabolis Distance',\n",
       "     'symbol': 'MAHLNBS',\n",
       "     'type': 'distance',\n",
       "     'value': '0.149659'},\n",
       "    'ctvi_nnunet_d': {'name': 'Mahanabolis Distance',\n",
       "     'symbol': 'MAHLNBS',\n",
       "     'type': 'distance',\n",
       "     'value': '0.147018'}}}}}"
      ]
     },
     "execution_count": 14,
     "metadata": {},
     "output_type": "execute_result"
    }
   ],
   "source": [
    "dataset_d"
   ]
  },
  {
   "cell_type": "code",
   "execution_count": null,
   "metadata": {},
   "outputs": [],
   "source": []
  }
 ],
 "metadata": {
  "kernelspec": {
   "display_name": "Python 3 (ipykernel)",
   "language": "python",
   "name": "python3"
  },
  "language_info": {
   "codemirror_mode": {
    "name": "ipython",
    "version": 3
   },
   "file_extension": ".py",
   "mimetype": "text/x-python",
   "name": "python",
   "nbconvert_exporter": "python",
   "pygments_lexer": "ipython3",
   "version": "3.10.13"
  }
 },
 "nbformat": 4,
 "nbformat_minor": 4
}
